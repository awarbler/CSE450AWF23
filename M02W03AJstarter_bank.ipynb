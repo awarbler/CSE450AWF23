{
  "nbformat": 4,
  "nbformat_minor": 0,
  "metadata": {
    "colab": {
      "provenance": [],
      "collapsed_sections": [
        "DQ8ROZFlo5lU",
        "0ErOaPUmphuY",
        "VNyjS_hzpNdd",
        "6BOLDZNfLhnK",
        "GHenkBZfJ_pK"
      ],
      "toc_visible": true,
      "include_colab_link": true
    },
    "kernelspec": {
      "name": "python3",
      "display_name": "Python 3"
    }
  },
  "cells": [
    {
      "cell_type": "markdown",
      "metadata": {
        "id": "view-in-github",
        "colab_type": "text"
      },
      "source": [
        "<a href=\"https://colab.research.google.com/github/awarbler/CSE450AWF23/blob/main/M02W03AJstarter_bank.ipynb\" target=\"_parent\"><img src=\"https://colab.research.google.com/assets/colab-badge.svg\" alt=\"Open In Colab\"/></a>"
      ]
    },
    {
      "cell_type": "markdown",
      "source": [
        "# Answer these questions"
      ],
      "metadata": {
        "id": "DQ8ROZFlo5lU"
      }
    },
    {
      "cell_type": "markdown",
      "source": [
        "### who subscribed to a term deposit.\n",
        "\n",
        "Do you think a supervised or unsupervised approach would work best for this situation\n",
        "\n",
        "build a targeted marketing campaign that focuses primarily on those customers.\n",
        "\n",
        "One other thing we should probably address, does contacting people too frequently for these marketing campaigns have an adverse affect on the outcome?\n",
        "\n"
      ],
      "metadata": {
        "id": "0ErOaPUmphuY"
      }
    },
    {
      "cell_type": "markdown",
      "source": [
        "#### 37,000 records.\n",
        "How much of that data will you use to train your model?\n",
        "\n",
        "A simple 80/20 split will provide us with enough to accurately train and test our model.\n",
        "\n",
        "insights we could gain from our data.\n",
        "\n",
        "some days of the week or some months produce better results than others.\n",
        "\n",
        "those results are true for all customers, or if some types of customers respond better on certain days than others?\n",
        "\n",
        "Should we only call single people on Saturdays? Does it make sense to call students at all?"
      ],
      "metadata": {
        "id": "RgGt-ZfGplBc"
      }
    },
    {
      "cell_type": "markdown",
      "source": [
        "# Data\n"
      ],
      "metadata": {
        "id": "VNyjS_hzpNdd"
      }
    },
    {
      "cell_type": "markdown",
      "source": [
        "## bank client data:\n",
        "\n",
        "age (numeric)\n",
        "\n",
        "job : type of job (categorical: \"admin.\",\"blue-collar\",\"entrepreneur\",\"housemaid\",\"management\",\"retired\",\"self-employed\",\"services\",\"student\",\"technician\",\"unemployed\",\"unknown\")\n",
        "\n",
        "marital : marital status (categorical: \"divorced\",\"married\",\"single\",\"unknown\"; note: \"divorced\" means divorced or widowed)\n",
        "\n",
        "education (categorical: \"basic.4y\",\"basic.6y\",\"basic.9y\",\"high.school\",\"illiterate\",\"professional.course\",\"university.degree\",\"unknown\")\n",
        "\n",
        "default: has credit in default? (categorical: \"no\",\"yes\",\"unknown\")\n",
        "\n",
        "housing: has housing loan? (categorical: \"no\",\"yes\",\"unknown\")\n",
        "\n",
        "loan: has personal loan? (categorical: \"no\",\"yes\",\"unknown\")\n",
        "\n"
      ],
      "metadata": {
        "id": "-Vl_911FpsVI"
      }
    },
    {
      "cell_type": "markdown",
      "source": [
        "## related with the last contact of the current campaign:\n",
        "\n",
        "contact: contact communication type (categorical: \"cellular\",\"telephone\")\n",
        "\n",
        "month: last contact month of year (categorical: \"jan\", \"feb\", \"mar\", …, \"nov\", \"dec\")\n",
        "\n",
        "dayofweek: last contact day of the week (categorical: \"mon\",\"tue\",\"wed\",\"thu\",\"fri\")\n",
        "\n"
      ],
      "metadata": {
        "id": "dRolP8U0pwOd"
      }
    },
    {
      "cell_type": "markdown",
      "source": [
        "## other attributes:\n",
        "\n",
        "campaign: number of contacts performed during this campaign and for this client (numeric, includes last contact)\n",
        "\n",
        "pdays: number of days that passed by after the client was last contacted from a previous campaign (numeric; 999 means client was not previously contacted)\n",
        "\n",
        "previous: number of contacts performed before this campaign and for this client (numeric)\n",
        "\n",
        "poutcome: outcome of the previous marketing campaign (categorical: \"failure\",\"nonexistent\",\"success\")\n",
        "\n"
      ],
      "metadata": {
        "id": "9nY9jDxxpz_y"
      }
    },
    {
      "cell_type": "markdown",
      "source": [
        "## social and economic context attributes\n",
        "\n",
        "emp.var.rate: employment variation rate - quarterly indicator (numeric)\n",
        "\n",
        "cons.price.idx: consumer price index - monthly indicator (numeric)\n",
        "\n",
        "cons.conf.idx: consumer confidence index - monthly indicator (numeric)\n",
        "\n",
        "euribor3m: euribor 3 month rate - daily indicator (numeric)\n",
        "\n",
        "nr.employed: number of employees - quarterly indicator (numeric)\n",
        "\n"
      ],
      "metadata": {
        "id": "3CVZtIB9p2md"
      }
    },
    {
      "cell_type": "markdown",
      "source": [
        "## Output variable (desired target):\n",
        "\n",
        "y - has the client subscribed a term deposit? (binary: \"yes\",\"no\")\n",
        "\n"
      ],
      "metadata": {
        "id": "rc_OOAU-p4v3"
      }
    },
    {
      "cell_type": "markdown",
      "source": [
        "## Missing Attribute Values\n",
        "\n",
        "There are several missing values in some categorical attributes, all coded with the \"unknown\" label. These missing values can be treated as a possible class label or using deletion or imputation techniques."
      ],
      "metadata": {
        "id": "GU-grtkJp6Nj"
      }
    },
    {
      "cell_type": "markdown",
      "source": [
        "# Things to do\n"
      ],
      "metadata": {
        "id": "NnuA6YhV6P-V"
      }
    },
    {
      "cell_type": "markdown",
      "source": [
        "# Module 1 Review\n",
        "\n",
        "1. Preprocess Data\n",
        "2. Train/Test Split Data\n",
        "3. Model -> Fit -> Predict\n",
        "4. Evaluate Performance"
      ],
      "metadata": {
        "id": "7WKE7E_yehKZ"
      }
    },
    {
      "cell_type": "markdown",
      "source": [
        "# Preprocess Data\n",
        "* Import the Data\n",
        "* Evaluate the quality\n",
        "* Address quality issues\n",
        "* Feature engineering"
      ],
      "metadata": {
        "id": "50AHSrgpempe"
      }
    },
    {
      "cell_type": "code",
      "metadata": {
        "id": "mA0HPVmIBT4C"
      },
      "source": [
        "# Enter your code below to import Pandas according to the\n",
        "# conventional method. Then load the dataset into a Pandas dataframe.from pathlib import Path\n",
        "import pandas as pd\n",
        "import altair as alt\n",
        "import numpy as py\n",
        "import seaborn as sn\n",
        "import matplotlib.pyplot as plt\n",
        "import graphviz\n",
        "from imblearn.over_sampling import RandomOverSampler\n",
        "from sklearn.neighbors import KNeighborsClassifier\n",
        "from sklearn.preprocessing import StandardScaler\n",
        "from sklearn import tree\n",
        "from sklearn.tree import DecisionTreeClassifier, export_graphviz\n",
        "from sklearn.preprocessing import OneHotEncoder\n",
        "from sklearn.model_selection import RandomizedSearchCV, train_test_split\n",
        "from sklearn.metrics import confusion_matrix, classification_report, accuracy_score,accuracy_score, precision_score, recall_score, ConfusionMatrixDisplay\n",
        "from sklearn.ensemble import RandomForestClassifier\n",
        "from imblearn.under_sampling import RandomUnderSampler\n",
        "from typing_extensions import dataclass_transform\n",
        "from scipy.stats import randint\n",
        "from IPython.display import Image\n",
        "from sklearn.datasets import load_iris\n",
        "\n",
        "import os\n",
        "os.environ[\"COLUMNS\"] = \"74\" # output width, in characters\n",
        "pd.set_option(\"display.width\", 74)\n",
        "\n",
        "campaign = pd.read_csv('https://raw.githubusercontent.com/byui-cse/cse450-course/master/data/bank.csv')"
      ],
      "execution_count": 1,
      "outputs": []
    },
    {
      "cell_type": "markdown",
      "source": [
        "## Evaluate the quality"
      ],
      "metadata": {
        "id": "-JvP6rQbL7dE"
      }
    },
    {
      "cell_type": "markdown",
      "source": [
        "### Checking Values"
      ],
      "metadata": {
        "id": "5Jpa-rM7CF0b"
      }
    },
    {
      "cell_type": "markdown",
      "source": [
        "What does the data look like?\n",
        "What kind of data is in each column?\n",
        "Do any of the columns have missing values?"
      ],
      "metadata": {
        "id": "p1EXS8ix5sG-"
      }
    },
    {
      "cell_type": "code",
      "source": [
        "# Write any code needed to explore the data by seeing what the first few\n",
        "# rows look like. Then display a technical summary of the data to determine\n",
        "# the data types of each column, and which columns have missing data."
      ],
      "metadata": {
        "id": "ANLVhtPS51Hv"
      },
      "execution_count": null,
      "outputs": []
    },
    {
      "cell_type": "code",
      "metadata": {
        "id": "StiU5QcPPxqQ",
        "colab": {
          "base_uri": "https://localhost:8080/",
          "height": 163
        },
        "outputId": "0a121cf6-193d-4a5d-9ccf-c32ebe070003"
      },
      "source": [
        "#look at the file I read in\n",
        "campaign.head(3)"
      ],
      "execution_count": 2,
      "outputs": [
        {
          "output_type": "execute_result",
          "data": {
            "text/plain": [
              "   age        job  marital    education  default housing loan  \\\n",
              "0   56  housemaid  married     basic.4y       no      no   no   \n",
              "1   57   services  married  high.school  unknown      no   no   \n",
              "2   37   services  married  high.school       no     yes   no   \n",
              "\n",
              "     contact month day_of_week  campaign  pdays  previous     poutcome  \\\n",
              "0  telephone   may         mon         1    999         0  nonexistent   \n",
              "1  telephone   may         mon         1    999         0  nonexistent   \n",
              "2  telephone   may         mon         1    999         0  nonexistent   \n",
              "\n",
              "   emp.var.rate  cons.price.idx  cons.conf.idx  euribor3m  nr.employed  \\\n",
              "0           1.1          93.994          -36.4      4.857       5191.0   \n",
              "1           1.1          93.994          -36.4      4.857       5191.0   \n",
              "2           1.1          93.994          -36.4      4.857       5191.0   \n",
              "\n",
              "    y  \n",
              "0  no  \n",
              "1  no  \n",
              "2  no  "
            ],
            "text/html": [
              "\n",
              "  <div id=\"df-29344f25-f502-4402-ad1a-169f82a285d2\" class=\"colab-df-container\">\n",
              "    <div>\n",
              "<style scoped>\n",
              "    .dataframe tbody tr th:only-of-type {\n",
              "        vertical-align: middle;\n",
              "    }\n",
              "\n",
              "    .dataframe tbody tr th {\n",
              "        vertical-align: top;\n",
              "    }\n",
              "\n",
              "    .dataframe thead th {\n",
              "        text-align: right;\n",
              "    }\n",
              "</style>\n",
              "<table border=\"1\" class=\"dataframe\">\n",
              "  <thead>\n",
              "    <tr style=\"text-align: right;\">\n",
              "      <th></th>\n",
              "      <th>age</th>\n",
              "      <th>job</th>\n",
              "      <th>marital</th>\n",
              "      <th>education</th>\n",
              "      <th>default</th>\n",
              "      <th>housing</th>\n",
              "      <th>loan</th>\n",
              "      <th>contact</th>\n",
              "      <th>month</th>\n",
              "      <th>day_of_week</th>\n",
              "      <th>campaign</th>\n",
              "      <th>pdays</th>\n",
              "      <th>previous</th>\n",
              "      <th>poutcome</th>\n",
              "      <th>emp.var.rate</th>\n",
              "      <th>cons.price.idx</th>\n",
              "      <th>cons.conf.idx</th>\n",
              "      <th>euribor3m</th>\n",
              "      <th>nr.employed</th>\n",
              "      <th>y</th>\n",
              "    </tr>\n",
              "  </thead>\n",
              "  <tbody>\n",
              "    <tr>\n",
              "      <th>0</th>\n",
              "      <td>56</td>\n",
              "      <td>housemaid</td>\n",
              "      <td>married</td>\n",
              "      <td>basic.4y</td>\n",
              "      <td>no</td>\n",
              "      <td>no</td>\n",
              "      <td>no</td>\n",
              "      <td>telephone</td>\n",
              "      <td>may</td>\n",
              "      <td>mon</td>\n",
              "      <td>1</td>\n",
              "      <td>999</td>\n",
              "      <td>0</td>\n",
              "      <td>nonexistent</td>\n",
              "      <td>1.1</td>\n",
              "      <td>93.994</td>\n",
              "      <td>-36.4</td>\n",
              "      <td>4.857</td>\n",
              "      <td>5191.0</td>\n",
              "      <td>no</td>\n",
              "    </tr>\n",
              "    <tr>\n",
              "      <th>1</th>\n",
              "      <td>57</td>\n",
              "      <td>services</td>\n",
              "      <td>married</td>\n",
              "      <td>high.school</td>\n",
              "      <td>unknown</td>\n",
              "      <td>no</td>\n",
              "      <td>no</td>\n",
              "      <td>telephone</td>\n",
              "      <td>may</td>\n",
              "      <td>mon</td>\n",
              "      <td>1</td>\n",
              "      <td>999</td>\n",
              "      <td>0</td>\n",
              "      <td>nonexistent</td>\n",
              "      <td>1.1</td>\n",
              "      <td>93.994</td>\n",
              "      <td>-36.4</td>\n",
              "      <td>4.857</td>\n",
              "      <td>5191.0</td>\n",
              "      <td>no</td>\n",
              "    </tr>\n",
              "    <tr>\n",
              "      <th>2</th>\n",
              "      <td>37</td>\n",
              "      <td>services</td>\n",
              "      <td>married</td>\n",
              "      <td>high.school</td>\n",
              "      <td>no</td>\n",
              "      <td>yes</td>\n",
              "      <td>no</td>\n",
              "      <td>telephone</td>\n",
              "      <td>may</td>\n",
              "      <td>mon</td>\n",
              "      <td>1</td>\n",
              "      <td>999</td>\n",
              "      <td>0</td>\n",
              "      <td>nonexistent</td>\n",
              "      <td>1.1</td>\n",
              "      <td>93.994</td>\n",
              "      <td>-36.4</td>\n",
              "      <td>4.857</td>\n",
              "      <td>5191.0</td>\n",
              "      <td>no</td>\n",
              "    </tr>\n",
              "  </tbody>\n",
              "</table>\n",
              "</div>\n",
              "    <div class=\"colab-df-buttons\">\n",
              "\n",
              "  <div class=\"colab-df-container\">\n",
              "    <button class=\"colab-df-convert\" onclick=\"convertToInteractive('df-29344f25-f502-4402-ad1a-169f82a285d2')\"\n",
              "            title=\"Convert this dataframe to an interactive table.\"\n",
              "            style=\"display:none;\">\n",
              "\n",
              "  <svg xmlns=\"http://www.w3.org/2000/svg\" height=\"24px\" viewBox=\"0 -960 960 960\">\n",
              "    <path d=\"M120-120v-720h720v720H120Zm60-500h600v-160H180v160Zm220 220h160v-160H400v160Zm0 220h160v-160H400v160ZM180-400h160v-160H180v160Zm440 0h160v-160H620v160ZM180-180h160v-160H180v160Zm440 0h160v-160H620v160Z\"/>\n",
              "  </svg>\n",
              "    </button>\n",
              "\n",
              "  <style>\n",
              "    .colab-df-container {\n",
              "      display:flex;\n",
              "      gap: 12px;\n",
              "    }\n",
              "\n",
              "    .colab-df-convert {\n",
              "      background-color: #E8F0FE;\n",
              "      border: none;\n",
              "      border-radius: 50%;\n",
              "      cursor: pointer;\n",
              "      display: none;\n",
              "      fill: #1967D2;\n",
              "      height: 32px;\n",
              "      padding: 0 0 0 0;\n",
              "      width: 32px;\n",
              "    }\n",
              "\n",
              "    .colab-df-convert:hover {\n",
              "      background-color: #E2EBFA;\n",
              "      box-shadow: 0px 1px 2px rgba(60, 64, 67, 0.3), 0px 1px 3px 1px rgba(60, 64, 67, 0.15);\n",
              "      fill: #174EA6;\n",
              "    }\n",
              "\n",
              "    .colab-df-buttons div {\n",
              "      margin-bottom: 4px;\n",
              "    }\n",
              "\n",
              "    [theme=dark] .colab-df-convert {\n",
              "      background-color: #3B4455;\n",
              "      fill: #D2E3FC;\n",
              "    }\n",
              "\n",
              "    [theme=dark] .colab-df-convert:hover {\n",
              "      background-color: #434B5C;\n",
              "      box-shadow: 0px 1px 3px 1px rgba(0, 0, 0, 0.15);\n",
              "      filter: drop-shadow(0px 1px 2px rgba(0, 0, 0, 0.3));\n",
              "      fill: #FFFFFF;\n",
              "    }\n",
              "  </style>\n",
              "\n",
              "    <script>\n",
              "      const buttonEl =\n",
              "        document.querySelector('#df-29344f25-f502-4402-ad1a-169f82a285d2 button.colab-df-convert');\n",
              "      buttonEl.style.display =\n",
              "        google.colab.kernel.accessAllowed ? 'block' : 'none';\n",
              "\n",
              "      async function convertToInteractive(key) {\n",
              "        const element = document.querySelector('#df-29344f25-f502-4402-ad1a-169f82a285d2');\n",
              "        const dataTable =\n",
              "          await google.colab.kernel.invokeFunction('convertToInteractive',\n",
              "                                                    [key], {});\n",
              "        if (!dataTable) return;\n",
              "\n",
              "        const docLinkHtml = 'Like what you see? Visit the ' +\n",
              "          '<a target=\"_blank\" href=https://colab.research.google.com/notebooks/data_table.ipynb>data table notebook</a>'\n",
              "          + ' to learn more about interactive tables.';\n",
              "        element.innerHTML = '';\n",
              "        dataTable['output_type'] = 'display_data';\n",
              "        await google.colab.output.renderOutput(dataTable, element);\n",
              "        const docLink = document.createElement('div');\n",
              "        docLink.innerHTML = docLinkHtml;\n",
              "        element.appendChild(docLink);\n",
              "      }\n",
              "    </script>\n",
              "  </div>\n",
              "\n",
              "\n",
              "<div id=\"df-29ff5c2a-e796-4b8a-bea3-3387391a4d37\">\n",
              "  <button class=\"colab-df-quickchart\" onclick=\"quickchart('df-29ff5c2a-e796-4b8a-bea3-3387391a4d37')\"\n",
              "            title=\"Suggest charts\"\n",
              "            style=\"display:none;\">\n",
              "\n",
              "<svg xmlns=\"http://www.w3.org/2000/svg\" height=\"24px\"viewBox=\"0 0 24 24\"\n",
              "     width=\"24px\">\n",
              "    <g>\n",
              "        <path d=\"M19 3H5c-1.1 0-2 .9-2 2v14c0 1.1.9 2 2 2h14c1.1 0 2-.9 2-2V5c0-1.1-.9-2-2-2zM9 17H7v-7h2v7zm4 0h-2V7h2v10zm4 0h-2v-4h2v4z\"/>\n",
              "    </g>\n",
              "</svg>\n",
              "  </button>\n",
              "\n",
              "<style>\n",
              "  .colab-df-quickchart {\n",
              "      --bg-color: #E8F0FE;\n",
              "      --fill-color: #1967D2;\n",
              "      --hover-bg-color: #E2EBFA;\n",
              "      --hover-fill-color: #174EA6;\n",
              "      --disabled-fill-color: #AAA;\n",
              "      --disabled-bg-color: #DDD;\n",
              "  }\n",
              "\n",
              "  [theme=dark] .colab-df-quickchart {\n",
              "      --bg-color: #3B4455;\n",
              "      --fill-color: #D2E3FC;\n",
              "      --hover-bg-color: #434B5C;\n",
              "      --hover-fill-color: #FFFFFF;\n",
              "      --disabled-bg-color: #3B4455;\n",
              "      --disabled-fill-color: #666;\n",
              "  }\n",
              "\n",
              "  .colab-df-quickchart {\n",
              "    background-color: var(--bg-color);\n",
              "    border: none;\n",
              "    border-radius: 50%;\n",
              "    cursor: pointer;\n",
              "    display: none;\n",
              "    fill: var(--fill-color);\n",
              "    height: 32px;\n",
              "    padding: 0;\n",
              "    width: 32px;\n",
              "  }\n",
              "\n",
              "  .colab-df-quickchart:hover {\n",
              "    background-color: var(--hover-bg-color);\n",
              "    box-shadow: 0 1px 2px rgba(60, 64, 67, 0.3), 0 1px 3px 1px rgba(60, 64, 67, 0.15);\n",
              "    fill: var(--button-hover-fill-color);\n",
              "  }\n",
              "\n",
              "  .colab-df-quickchart-complete:disabled,\n",
              "  .colab-df-quickchart-complete:disabled:hover {\n",
              "    background-color: var(--disabled-bg-color);\n",
              "    fill: var(--disabled-fill-color);\n",
              "    box-shadow: none;\n",
              "  }\n",
              "\n",
              "  .colab-df-spinner {\n",
              "    border: 2px solid var(--fill-color);\n",
              "    border-color: transparent;\n",
              "    border-bottom-color: var(--fill-color);\n",
              "    animation:\n",
              "      spin 1s steps(1) infinite;\n",
              "  }\n",
              "\n",
              "  @keyframes spin {\n",
              "    0% {\n",
              "      border-color: transparent;\n",
              "      border-bottom-color: var(--fill-color);\n",
              "      border-left-color: var(--fill-color);\n",
              "    }\n",
              "    20% {\n",
              "      border-color: transparent;\n",
              "      border-left-color: var(--fill-color);\n",
              "      border-top-color: var(--fill-color);\n",
              "    }\n",
              "    30% {\n",
              "      border-color: transparent;\n",
              "      border-left-color: var(--fill-color);\n",
              "      border-top-color: var(--fill-color);\n",
              "      border-right-color: var(--fill-color);\n",
              "    }\n",
              "    40% {\n",
              "      border-color: transparent;\n",
              "      border-right-color: var(--fill-color);\n",
              "      border-top-color: var(--fill-color);\n",
              "    }\n",
              "    60% {\n",
              "      border-color: transparent;\n",
              "      border-right-color: var(--fill-color);\n",
              "    }\n",
              "    80% {\n",
              "      border-color: transparent;\n",
              "      border-right-color: var(--fill-color);\n",
              "      border-bottom-color: var(--fill-color);\n",
              "    }\n",
              "    90% {\n",
              "      border-color: transparent;\n",
              "      border-bottom-color: var(--fill-color);\n",
              "    }\n",
              "  }\n",
              "</style>\n",
              "\n",
              "  <script>\n",
              "    async function quickchart(key) {\n",
              "      const quickchartButtonEl =\n",
              "        document.querySelector('#' + key + ' button');\n",
              "      quickchartButtonEl.disabled = true;  // To prevent multiple clicks.\n",
              "      quickchartButtonEl.classList.add('colab-df-spinner');\n",
              "      try {\n",
              "        const charts = await google.colab.kernel.invokeFunction(\n",
              "            'suggestCharts', [key], {});\n",
              "      } catch (error) {\n",
              "        console.error('Error during call to suggestCharts:', error);\n",
              "      }\n",
              "      quickchartButtonEl.classList.remove('colab-df-spinner');\n",
              "      quickchartButtonEl.classList.add('colab-df-quickchart-complete');\n",
              "    }\n",
              "    (() => {\n",
              "      let quickchartButtonEl =\n",
              "        document.querySelector('#df-29ff5c2a-e796-4b8a-bea3-3387391a4d37 button');\n",
              "      quickchartButtonEl.style.display =\n",
              "        google.colab.kernel.accessAllowed ? 'block' : 'none';\n",
              "    })();\n",
              "  </script>\n",
              "</div>\n",
              "    </div>\n",
              "  </div>\n"
            ]
          },
          "metadata": {},
          "execution_count": 2
        }
      ]
    },
    {
      "cell_type": "code",
      "metadata": {
        "id": "ALLMN63FPyEQ",
        "colab": {
          "base_uri": "https://localhost:8080/"
        },
        "outputId": "16b5241f-e376-4941-89f7-95e35d984ed9"
      },
      "source": [
        "#What kind of data is in each column?\n",
        "# look at the columns to see about non null and types\n",
        "campaign.info()\n",
        "# no empty columns"
      ],
      "execution_count": 3,
      "outputs": [
        {
          "output_type": "stream",
          "name": "stdout",
          "text": [
            "<class 'pandas.core.frame.DataFrame'>\n",
            "RangeIndex: 37069 entries, 0 to 37068\n",
            "Data columns (total 20 columns):\n",
            " #   Column          Non-Null Count  Dtype  \n",
            "---  ------          --------------  -----  \n",
            " 0   age             37069 non-null  int64  \n",
            " 1   job             37069 non-null  object \n",
            " 2   marital         37069 non-null  object \n",
            " 3   education       37069 non-null  object \n",
            " 4   default         37069 non-null  object \n",
            " 5   housing         37069 non-null  object \n",
            " 6   loan            37069 non-null  object \n",
            " 7   contact         37069 non-null  object \n",
            " 8   month           37069 non-null  object \n",
            " 9   day_of_week     37069 non-null  object \n",
            " 10  campaign        37069 non-null  int64  \n",
            " 11  pdays           37069 non-null  int64  \n",
            " 12  previous        37069 non-null  int64  \n",
            " 13  poutcome        37069 non-null  object \n",
            " 14  emp.var.rate    37069 non-null  float64\n",
            " 15  cons.price.idx  37069 non-null  float64\n",
            " 16  cons.conf.idx   37069 non-null  float64\n",
            " 17  euribor3m       37069 non-null  float64\n",
            " 18  nr.employed     37069 non-null  float64\n",
            " 19  y               37069 non-null  object \n",
            "dtypes: float64(5), int64(4), object(11)\n",
            "memory usage: 5.7+ MB\n"
          ]
        }
      ]
    },
    {
      "cell_type": "code",
      "metadata": {
        "id": "RnGBwGVZPyyh",
        "colab": {
          "base_uri": "https://localhost:8080/",
          "height": 414
        },
        "outputId": "76e48bb0-abbc-4cc2-a4a9-985f795356e2"
      },
      "source": [
        "# look at describe () to see count and mean std min and what not\n",
        "#We use the method describe to obtain a statistical summary of the dataframe.\n",
        "# .describe()but describe (include='all') works better we can see all of the NaN fields\n",
        "campaign.describe(include='all')"
      ],
      "execution_count": 4,
      "outputs": [
        {
          "output_type": "execute_result",
          "data": {
            "text/plain": [
              "                 age     job  marital          education default  \\\n",
              "count   37069.000000   37069    37069              37069   37069   \n",
              "unique           NaN      12        4                  8       3   \n",
              "top              NaN  admin.  married  university.degree      no   \n",
              "freq             NaN    9400    22456              10949   29341   \n",
              "mean       40.025493     NaN      NaN                NaN     NaN   \n",
              "std        10.435288     NaN      NaN                NaN     NaN   \n",
              "min        17.000000     NaN      NaN                NaN     NaN   \n",
              "25%        32.000000     NaN      NaN                NaN     NaN   \n",
              "50%        38.000000     NaN      NaN                NaN     NaN   \n",
              "75%        47.000000     NaN      NaN                NaN     NaN   \n",
              "max        98.000000     NaN      NaN                NaN     NaN   \n",
              "\n",
              "       housing   loan   contact  month day_of_week      campaign  \\\n",
              "count    37069  37069     37069  37069       37069  37069.000000   \n",
              "unique       3      3         2     10           5           NaN   \n",
              "top        yes     no  cellular    may         thu           NaN   \n",
              "freq     19474  30590     23515  12370        7742           NaN   \n",
              "mean       NaN    NaN       NaN    NaN         NaN      2.564407   \n",
              "std        NaN    NaN       NaN    NaN         NaN      2.764084   \n",
              "min        NaN    NaN       NaN    NaN         NaN      1.000000   \n",
              "25%        NaN    NaN       NaN    NaN         NaN      1.000000   \n",
              "50%        NaN    NaN       NaN    NaN         NaN      2.000000   \n",
              "75%        NaN    NaN       NaN    NaN         NaN      3.000000   \n",
              "max        NaN    NaN       NaN    NaN         NaN     56.000000   \n",
              "\n",
              "               pdays      previous     poutcome  emp.var.rate  \\\n",
              "count   37069.000000  37069.000000        37069  37069.000000   \n",
              "unique           NaN           NaN            3           NaN   \n",
              "top              NaN           NaN  nonexistent           NaN   \n",
              "freq             NaN           NaN        31988           NaN   \n",
              "mean      962.221803      0.173730          NaN      0.081526   \n",
              "std       187.531477      0.496159          NaN      1.572287   \n",
              "min         0.000000      0.000000          NaN     -3.400000   \n",
              "25%       999.000000      0.000000          NaN     -1.800000   \n",
              "50%       999.000000      0.000000          NaN      1.100000   \n",
              "75%       999.000000      0.000000          NaN      1.400000   \n",
              "max       999.000000      7.000000          NaN      1.400000   \n",
              "\n",
              "        cons.price.idx  cons.conf.idx     euribor3m   nr.employed      y  \n",
              "count     37069.000000   37069.000000  37069.000000  37069.000000  37069  \n",
              "unique             NaN            NaN           NaN           NaN      2  \n",
              "top                NaN            NaN           NaN           NaN     no  \n",
              "freq               NaN            NaN           NaN           NaN  32861  \n",
              "mean         93.576551     -40.494829      3.621945   5167.010650    NaN  \n",
              "std           0.579339       4.628895      1.734496     72.294476    NaN  \n",
              "min          92.201000     -50.800000      0.634000   4963.600000    NaN  \n",
              "25%          93.075000     -42.700000      1.344000   5099.100000    NaN  \n",
              "50%          93.749000     -41.800000      4.857000   5191.000000    NaN  \n",
              "75%          93.994000     -36.400000      4.961000   5228.100000    NaN  \n",
              "max          94.767000     -26.900000      5.045000   5228.100000    NaN  "
            ],
            "text/html": [
              "\n",
              "  <div id=\"df-bc8da620-a5d4-47c7-830c-87d08c834c14\" class=\"colab-df-container\">\n",
              "    <div>\n",
              "<style scoped>\n",
              "    .dataframe tbody tr th:only-of-type {\n",
              "        vertical-align: middle;\n",
              "    }\n",
              "\n",
              "    .dataframe tbody tr th {\n",
              "        vertical-align: top;\n",
              "    }\n",
              "\n",
              "    .dataframe thead th {\n",
              "        text-align: right;\n",
              "    }\n",
              "</style>\n",
              "<table border=\"1\" class=\"dataframe\">\n",
              "  <thead>\n",
              "    <tr style=\"text-align: right;\">\n",
              "      <th></th>\n",
              "      <th>age</th>\n",
              "      <th>job</th>\n",
              "      <th>marital</th>\n",
              "      <th>education</th>\n",
              "      <th>default</th>\n",
              "      <th>housing</th>\n",
              "      <th>loan</th>\n",
              "      <th>contact</th>\n",
              "      <th>month</th>\n",
              "      <th>day_of_week</th>\n",
              "      <th>campaign</th>\n",
              "      <th>pdays</th>\n",
              "      <th>previous</th>\n",
              "      <th>poutcome</th>\n",
              "      <th>emp.var.rate</th>\n",
              "      <th>cons.price.idx</th>\n",
              "      <th>cons.conf.idx</th>\n",
              "      <th>euribor3m</th>\n",
              "      <th>nr.employed</th>\n",
              "      <th>y</th>\n",
              "    </tr>\n",
              "  </thead>\n",
              "  <tbody>\n",
              "    <tr>\n",
              "      <th>count</th>\n",
              "      <td>37069.000000</td>\n",
              "      <td>37069</td>\n",
              "      <td>37069</td>\n",
              "      <td>37069</td>\n",
              "      <td>37069</td>\n",
              "      <td>37069</td>\n",
              "      <td>37069</td>\n",
              "      <td>37069</td>\n",
              "      <td>37069</td>\n",
              "      <td>37069</td>\n",
              "      <td>37069.000000</td>\n",
              "      <td>37069.000000</td>\n",
              "      <td>37069.000000</td>\n",
              "      <td>37069</td>\n",
              "      <td>37069.000000</td>\n",
              "      <td>37069.000000</td>\n",
              "      <td>37069.000000</td>\n",
              "      <td>37069.000000</td>\n",
              "      <td>37069.000000</td>\n",
              "      <td>37069</td>\n",
              "    </tr>\n",
              "    <tr>\n",
              "      <th>unique</th>\n",
              "      <td>NaN</td>\n",
              "      <td>12</td>\n",
              "      <td>4</td>\n",
              "      <td>8</td>\n",
              "      <td>3</td>\n",
              "      <td>3</td>\n",
              "      <td>3</td>\n",
              "      <td>2</td>\n",
              "      <td>10</td>\n",
              "      <td>5</td>\n",
              "      <td>NaN</td>\n",
              "      <td>NaN</td>\n",
              "      <td>NaN</td>\n",
              "      <td>3</td>\n",
              "      <td>NaN</td>\n",
              "      <td>NaN</td>\n",
              "      <td>NaN</td>\n",
              "      <td>NaN</td>\n",
              "      <td>NaN</td>\n",
              "      <td>2</td>\n",
              "    </tr>\n",
              "    <tr>\n",
              "      <th>top</th>\n",
              "      <td>NaN</td>\n",
              "      <td>admin.</td>\n",
              "      <td>married</td>\n",
              "      <td>university.degree</td>\n",
              "      <td>no</td>\n",
              "      <td>yes</td>\n",
              "      <td>no</td>\n",
              "      <td>cellular</td>\n",
              "      <td>may</td>\n",
              "      <td>thu</td>\n",
              "      <td>NaN</td>\n",
              "      <td>NaN</td>\n",
              "      <td>NaN</td>\n",
              "      <td>nonexistent</td>\n",
              "      <td>NaN</td>\n",
              "      <td>NaN</td>\n",
              "      <td>NaN</td>\n",
              "      <td>NaN</td>\n",
              "      <td>NaN</td>\n",
              "      <td>no</td>\n",
              "    </tr>\n",
              "    <tr>\n",
              "      <th>freq</th>\n",
              "      <td>NaN</td>\n",
              "      <td>9400</td>\n",
              "      <td>22456</td>\n",
              "      <td>10949</td>\n",
              "      <td>29341</td>\n",
              "      <td>19474</td>\n",
              "      <td>30590</td>\n",
              "      <td>23515</td>\n",
              "      <td>12370</td>\n",
              "      <td>7742</td>\n",
              "      <td>NaN</td>\n",
              "      <td>NaN</td>\n",
              "      <td>NaN</td>\n",
              "      <td>31988</td>\n",
              "      <td>NaN</td>\n",
              "      <td>NaN</td>\n",
              "      <td>NaN</td>\n",
              "      <td>NaN</td>\n",
              "      <td>NaN</td>\n",
              "      <td>32861</td>\n",
              "    </tr>\n",
              "    <tr>\n",
              "      <th>mean</th>\n",
              "      <td>40.025493</td>\n",
              "      <td>NaN</td>\n",
              "      <td>NaN</td>\n",
              "      <td>NaN</td>\n",
              "      <td>NaN</td>\n",
              "      <td>NaN</td>\n",
              "      <td>NaN</td>\n",
              "      <td>NaN</td>\n",
              "      <td>NaN</td>\n",
              "      <td>NaN</td>\n",
              "      <td>2.564407</td>\n",
              "      <td>962.221803</td>\n",
              "      <td>0.173730</td>\n",
              "      <td>NaN</td>\n",
              "      <td>0.081526</td>\n",
              "      <td>93.576551</td>\n",
              "      <td>-40.494829</td>\n",
              "      <td>3.621945</td>\n",
              "      <td>5167.010650</td>\n",
              "      <td>NaN</td>\n",
              "    </tr>\n",
              "    <tr>\n",
              "      <th>std</th>\n",
              "      <td>10.435288</td>\n",
              "      <td>NaN</td>\n",
              "      <td>NaN</td>\n",
              "      <td>NaN</td>\n",
              "      <td>NaN</td>\n",
              "      <td>NaN</td>\n",
              "      <td>NaN</td>\n",
              "      <td>NaN</td>\n",
              "      <td>NaN</td>\n",
              "      <td>NaN</td>\n",
              "      <td>2.764084</td>\n",
              "      <td>187.531477</td>\n",
              "      <td>0.496159</td>\n",
              "      <td>NaN</td>\n",
              "      <td>1.572287</td>\n",
              "      <td>0.579339</td>\n",
              "      <td>4.628895</td>\n",
              "      <td>1.734496</td>\n",
              "      <td>72.294476</td>\n",
              "      <td>NaN</td>\n",
              "    </tr>\n",
              "    <tr>\n",
              "      <th>min</th>\n",
              "      <td>17.000000</td>\n",
              "      <td>NaN</td>\n",
              "      <td>NaN</td>\n",
              "      <td>NaN</td>\n",
              "      <td>NaN</td>\n",
              "      <td>NaN</td>\n",
              "      <td>NaN</td>\n",
              "      <td>NaN</td>\n",
              "      <td>NaN</td>\n",
              "      <td>NaN</td>\n",
              "      <td>1.000000</td>\n",
              "      <td>0.000000</td>\n",
              "      <td>0.000000</td>\n",
              "      <td>NaN</td>\n",
              "      <td>-3.400000</td>\n",
              "      <td>92.201000</td>\n",
              "      <td>-50.800000</td>\n",
              "      <td>0.634000</td>\n",
              "      <td>4963.600000</td>\n",
              "      <td>NaN</td>\n",
              "    </tr>\n",
              "    <tr>\n",
              "      <th>25%</th>\n",
              "      <td>32.000000</td>\n",
              "      <td>NaN</td>\n",
              "      <td>NaN</td>\n",
              "      <td>NaN</td>\n",
              "      <td>NaN</td>\n",
              "      <td>NaN</td>\n",
              "      <td>NaN</td>\n",
              "      <td>NaN</td>\n",
              "      <td>NaN</td>\n",
              "      <td>NaN</td>\n",
              "      <td>1.000000</td>\n",
              "      <td>999.000000</td>\n",
              "      <td>0.000000</td>\n",
              "      <td>NaN</td>\n",
              "      <td>-1.800000</td>\n",
              "      <td>93.075000</td>\n",
              "      <td>-42.700000</td>\n",
              "      <td>1.344000</td>\n",
              "      <td>5099.100000</td>\n",
              "      <td>NaN</td>\n",
              "    </tr>\n",
              "    <tr>\n",
              "      <th>50%</th>\n",
              "      <td>38.000000</td>\n",
              "      <td>NaN</td>\n",
              "      <td>NaN</td>\n",
              "      <td>NaN</td>\n",
              "      <td>NaN</td>\n",
              "      <td>NaN</td>\n",
              "      <td>NaN</td>\n",
              "      <td>NaN</td>\n",
              "      <td>NaN</td>\n",
              "      <td>NaN</td>\n",
              "      <td>2.000000</td>\n",
              "      <td>999.000000</td>\n",
              "      <td>0.000000</td>\n",
              "      <td>NaN</td>\n",
              "      <td>1.100000</td>\n",
              "      <td>93.749000</td>\n",
              "      <td>-41.800000</td>\n",
              "      <td>4.857000</td>\n",
              "      <td>5191.000000</td>\n",
              "      <td>NaN</td>\n",
              "    </tr>\n",
              "    <tr>\n",
              "      <th>75%</th>\n",
              "      <td>47.000000</td>\n",
              "      <td>NaN</td>\n",
              "      <td>NaN</td>\n",
              "      <td>NaN</td>\n",
              "      <td>NaN</td>\n",
              "      <td>NaN</td>\n",
              "      <td>NaN</td>\n",
              "      <td>NaN</td>\n",
              "      <td>NaN</td>\n",
              "      <td>NaN</td>\n",
              "      <td>3.000000</td>\n",
              "      <td>999.000000</td>\n",
              "      <td>0.000000</td>\n",
              "      <td>NaN</td>\n",
              "      <td>1.400000</td>\n",
              "      <td>93.994000</td>\n",
              "      <td>-36.400000</td>\n",
              "      <td>4.961000</td>\n",
              "      <td>5228.100000</td>\n",
              "      <td>NaN</td>\n",
              "    </tr>\n",
              "    <tr>\n",
              "      <th>max</th>\n",
              "      <td>98.000000</td>\n",
              "      <td>NaN</td>\n",
              "      <td>NaN</td>\n",
              "      <td>NaN</td>\n",
              "      <td>NaN</td>\n",
              "      <td>NaN</td>\n",
              "      <td>NaN</td>\n",
              "      <td>NaN</td>\n",
              "      <td>NaN</td>\n",
              "      <td>NaN</td>\n",
              "      <td>56.000000</td>\n",
              "      <td>999.000000</td>\n",
              "      <td>7.000000</td>\n",
              "      <td>NaN</td>\n",
              "      <td>1.400000</td>\n",
              "      <td>94.767000</td>\n",
              "      <td>-26.900000</td>\n",
              "      <td>5.045000</td>\n",
              "      <td>5228.100000</td>\n",
              "      <td>NaN</td>\n",
              "    </tr>\n",
              "  </tbody>\n",
              "</table>\n",
              "</div>\n",
              "    <div class=\"colab-df-buttons\">\n",
              "\n",
              "  <div class=\"colab-df-container\">\n",
              "    <button class=\"colab-df-convert\" onclick=\"convertToInteractive('df-bc8da620-a5d4-47c7-830c-87d08c834c14')\"\n",
              "            title=\"Convert this dataframe to an interactive table.\"\n",
              "            style=\"display:none;\">\n",
              "\n",
              "  <svg xmlns=\"http://www.w3.org/2000/svg\" height=\"24px\" viewBox=\"0 -960 960 960\">\n",
              "    <path d=\"M120-120v-720h720v720H120Zm60-500h600v-160H180v160Zm220 220h160v-160H400v160Zm0 220h160v-160H400v160ZM180-400h160v-160H180v160Zm440 0h160v-160H620v160ZM180-180h160v-160H180v160Zm440 0h160v-160H620v160Z\"/>\n",
              "  </svg>\n",
              "    </button>\n",
              "\n",
              "  <style>\n",
              "    .colab-df-container {\n",
              "      display:flex;\n",
              "      gap: 12px;\n",
              "    }\n",
              "\n",
              "    .colab-df-convert {\n",
              "      background-color: #E8F0FE;\n",
              "      border: none;\n",
              "      border-radius: 50%;\n",
              "      cursor: pointer;\n",
              "      display: none;\n",
              "      fill: #1967D2;\n",
              "      height: 32px;\n",
              "      padding: 0 0 0 0;\n",
              "      width: 32px;\n",
              "    }\n",
              "\n",
              "    .colab-df-convert:hover {\n",
              "      background-color: #E2EBFA;\n",
              "      box-shadow: 0px 1px 2px rgba(60, 64, 67, 0.3), 0px 1px 3px 1px rgba(60, 64, 67, 0.15);\n",
              "      fill: #174EA6;\n",
              "    }\n",
              "\n",
              "    .colab-df-buttons div {\n",
              "      margin-bottom: 4px;\n",
              "    }\n",
              "\n",
              "    [theme=dark] .colab-df-convert {\n",
              "      background-color: #3B4455;\n",
              "      fill: #D2E3FC;\n",
              "    }\n",
              "\n",
              "    [theme=dark] .colab-df-convert:hover {\n",
              "      background-color: #434B5C;\n",
              "      box-shadow: 0px 1px 3px 1px rgba(0, 0, 0, 0.15);\n",
              "      filter: drop-shadow(0px 1px 2px rgba(0, 0, 0, 0.3));\n",
              "      fill: #FFFFFF;\n",
              "    }\n",
              "  </style>\n",
              "\n",
              "    <script>\n",
              "      const buttonEl =\n",
              "        document.querySelector('#df-bc8da620-a5d4-47c7-830c-87d08c834c14 button.colab-df-convert');\n",
              "      buttonEl.style.display =\n",
              "        google.colab.kernel.accessAllowed ? 'block' : 'none';\n",
              "\n",
              "      async function convertToInteractive(key) {\n",
              "        const element = document.querySelector('#df-bc8da620-a5d4-47c7-830c-87d08c834c14');\n",
              "        const dataTable =\n",
              "          await google.colab.kernel.invokeFunction('convertToInteractive',\n",
              "                                                    [key], {});\n",
              "        if (!dataTable) return;\n",
              "\n",
              "        const docLinkHtml = 'Like what you see? Visit the ' +\n",
              "          '<a target=\"_blank\" href=https://colab.research.google.com/notebooks/data_table.ipynb>data table notebook</a>'\n",
              "          + ' to learn more about interactive tables.';\n",
              "        element.innerHTML = '';\n",
              "        dataTable['output_type'] = 'display_data';\n",
              "        await google.colab.output.renderOutput(dataTable, element);\n",
              "        const docLink = document.createElement('div');\n",
              "        docLink.innerHTML = docLinkHtml;\n",
              "        element.appendChild(docLink);\n",
              "      }\n",
              "    </script>\n",
              "  </div>\n",
              "\n",
              "\n",
              "<div id=\"df-7a397d8d-aa57-477d-9884-0e051c35c950\">\n",
              "  <button class=\"colab-df-quickchart\" onclick=\"quickchart('df-7a397d8d-aa57-477d-9884-0e051c35c950')\"\n",
              "            title=\"Suggest charts\"\n",
              "            style=\"display:none;\">\n",
              "\n",
              "<svg xmlns=\"http://www.w3.org/2000/svg\" height=\"24px\"viewBox=\"0 0 24 24\"\n",
              "     width=\"24px\">\n",
              "    <g>\n",
              "        <path d=\"M19 3H5c-1.1 0-2 .9-2 2v14c0 1.1.9 2 2 2h14c1.1 0 2-.9 2-2V5c0-1.1-.9-2-2-2zM9 17H7v-7h2v7zm4 0h-2V7h2v10zm4 0h-2v-4h2v4z\"/>\n",
              "    </g>\n",
              "</svg>\n",
              "  </button>\n",
              "\n",
              "<style>\n",
              "  .colab-df-quickchart {\n",
              "      --bg-color: #E8F0FE;\n",
              "      --fill-color: #1967D2;\n",
              "      --hover-bg-color: #E2EBFA;\n",
              "      --hover-fill-color: #174EA6;\n",
              "      --disabled-fill-color: #AAA;\n",
              "      --disabled-bg-color: #DDD;\n",
              "  }\n",
              "\n",
              "  [theme=dark] .colab-df-quickchart {\n",
              "      --bg-color: #3B4455;\n",
              "      --fill-color: #D2E3FC;\n",
              "      --hover-bg-color: #434B5C;\n",
              "      --hover-fill-color: #FFFFFF;\n",
              "      --disabled-bg-color: #3B4455;\n",
              "      --disabled-fill-color: #666;\n",
              "  }\n",
              "\n",
              "  .colab-df-quickchart {\n",
              "    background-color: var(--bg-color);\n",
              "    border: none;\n",
              "    border-radius: 50%;\n",
              "    cursor: pointer;\n",
              "    display: none;\n",
              "    fill: var(--fill-color);\n",
              "    height: 32px;\n",
              "    padding: 0;\n",
              "    width: 32px;\n",
              "  }\n",
              "\n",
              "  .colab-df-quickchart:hover {\n",
              "    background-color: var(--hover-bg-color);\n",
              "    box-shadow: 0 1px 2px rgba(60, 64, 67, 0.3), 0 1px 3px 1px rgba(60, 64, 67, 0.15);\n",
              "    fill: var(--button-hover-fill-color);\n",
              "  }\n",
              "\n",
              "  .colab-df-quickchart-complete:disabled,\n",
              "  .colab-df-quickchart-complete:disabled:hover {\n",
              "    background-color: var(--disabled-bg-color);\n",
              "    fill: var(--disabled-fill-color);\n",
              "    box-shadow: none;\n",
              "  }\n",
              "\n",
              "  .colab-df-spinner {\n",
              "    border: 2px solid var(--fill-color);\n",
              "    border-color: transparent;\n",
              "    border-bottom-color: var(--fill-color);\n",
              "    animation:\n",
              "      spin 1s steps(1) infinite;\n",
              "  }\n",
              "\n",
              "  @keyframes spin {\n",
              "    0% {\n",
              "      border-color: transparent;\n",
              "      border-bottom-color: var(--fill-color);\n",
              "      border-left-color: var(--fill-color);\n",
              "    }\n",
              "    20% {\n",
              "      border-color: transparent;\n",
              "      border-left-color: var(--fill-color);\n",
              "      border-top-color: var(--fill-color);\n",
              "    }\n",
              "    30% {\n",
              "      border-color: transparent;\n",
              "      border-left-color: var(--fill-color);\n",
              "      border-top-color: var(--fill-color);\n",
              "      border-right-color: var(--fill-color);\n",
              "    }\n",
              "    40% {\n",
              "      border-color: transparent;\n",
              "      border-right-color: var(--fill-color);\n",
              "      border-top-color: var(--fill-color);\n",
              "    }\n",
              "    60% {\n",
              "      border-color: transparent;\n",
              "      border-right-color: var(--fill-color);\n",
              "    }\n",
              "    80% {\n",
              "      border-color: transparent;\n",
              "      border-right-color: var(--fill-color);\n",
              "      border-bottom-color: var(--fill-color);\n",
              "    }\n",
              "    90% {\n",
              "      border-color: transparent;\n",
              "      border-bottom-color: var(--fill-color);\n",
              "    }\n",
              "  }\n",
              "</style>\n",
              "\n",
              "  <script>\n",
              "    async function quickchart(key) {\n",
              "      const quickchartButtonEl =\n",
              "        document.querySelector('#' + key + ' button');\n",
              "      quickchartButtonEl.disabled = true;  // To prevent multiple clicks.\n",
              "      quickchartButtonEl.classList.add('colab-df-spinner');\n",
              "      try {\n",
              "        const charts = await google.colab.kernel.invokeFunction(\n",
              "            'suggestCharts', [key], {});\n",
              "      } catch (error) {\n",
              "        console.error('Error during call to suggestCharts:', error);\n",
              "      }\n",
              "      quickchartButtonEl.classList.remove('colab-df-spinner');\n",
              "      quickchartButtonEl.classList.add('colab-df-quickchart-complete');\n",
              "    }\n",
              "    (() => {\n",
              "      let quickchartButtonEl =\n",
              "        document.querySelector('#df-7a397d8d-aa57-477d-9884-0e051c35c950 button');\n",
              "      quickchartButtonEl.style.display =\n",
              "        google.colab.kernel.accessAllowed ? 'block' : 'none';\n",
              "    })();\n",
              "  </script>\n",
              "</div>\n",
              "    </div>\n",
              "  </div>\n"
            ]
          },
          "metadata": {},
          "execution_count": 4
        }
      ]
    },
    {
      "cell_type": "code",
      "source": [
        "# Do any of the columns have missing values? No missing values just NaN\n",
        "campaign.nunique()\n",
        "# 'age','job', 'marital', 'month', campaign, pdays, , euribor3m,"
      ],
      "metadata": {
        "id": "_OHXEA8LVV5Y",
        "colab": {
          "base_uri": "https://localhost:8080/"
        },
        "outputId": "ba9ba075-0537-497e-8d51-2fbc372b80c3"
      },
      "execution_count": 5,
      "outputs": [
        {
          "output_type": "execute_result",
          "data": {
            "text/plain": [
              "age                78\n",
              "job                12\n",
              "marital             4\n",
              "education           8\n",
              "default             3\n",
              "housing             3\n",
              "loan                3\n",
              "contact             2\n",
              "month              10\n",
              "day_of_week         5\n",
              "campaign           41\n",
              "pdays              27\n",
              "previous            8\n",
              "poutcome            3\n",
              "emp.var.rate       10\n",
              "cons.price.idx     26\n",
              "cons.conf.idx      26\n",
              "euribor3m         314\n",
              "nr.employed        11\n",
              "y                   2\n",
              "dtype: int64"
            ]
          },
          "metadata": {},
          "execution_count": 5
        }
      ]
    },
    {
      "cell_type": "code",
      "source": [
        "# check for duplicates in our data\n",
        "campaign.duplicated().sum()\n",
        "# how do we want to handle duplicates?\n",
        "# Our data shows there are 1487 duplicates\n",
        "# Do we want to drop them? If so # Removing Duplicate Values\n",
        "#campaign = campaign.drop_duplicates()"
      ],
      "metadata": {
        "colab": {
          "base_uri": "https://localhost:8080/"
        },
        "id": "kKKg6lXaJId2",
        "outputId": "61bbc325-38f8-4a36-bc27-69a93d7ba981"
      },
      "execution_count": 6,
      "outputs": [
        {
          "output_type": "execute_result",
          "data": {
            "text/plain": [
              "1487"
            ]
          },
          "metadata": {},
          "execution_count": 6
        }
      ]
    },
    {
      "cell_type": "code",
      "source": [
        "# identify null values\n",
        "#checking to see how many rows are null -\n",
        "campaign.isnull().sum()\n",
        "# use .isna is better to count the total number of null values in each column\n",
        "campaign.isna().sum()\n",
        "# none"
      ],
      "metadata": {
        "id": "2WvmxR-4dRaT",
        "colab": {
          "base_uri": "https://localhost:8080/"
        },
        "outputId": "7e171957-f714-4248-c2b6-0bb776eafcdd"
      },
      "execution_count": 7,
      "outputs": [
        {
          "output_type": "execute_result",
          "data": {
            "text/plain": [
              "age               0\n",
              "job               0\n",
              "marital           0\n",
              "education         0\n",
              "default           0\n",
              "housing           0\n",
              "loan              0\n",
              "contact           0\n",
              "month             0\n",
              "day_of_week       0\n",
              "campaign          0\n",
              "pdays             0\n",
              "previous          0\n",
              "poutcome          0\n",
              "emp.var.rate      0\n",
              "cons.price.idx    0\n",
              "cons.conf.idx     0\n",
              "euribor3m         0\n",
              "nr.employed       0\n",
              "y                 0\n",
              "dtype: int64"
            ]
          },
          "metadata": {},
          "execution_count": 7
        }
      ]
    },
    {
      "cell_type": "markdown",
      "source": [
        "### Info Customer wants to see"
      ],
      "metadata": {
        "id": "6BOLDZNfLhnK"
      }
    },
    {
      "cell_type": "code",
      "source": [
        "print(campaign.shape) # prints data shape\n",
        "print(campaign.columns) # print columns"
      ],
      "metadata": {
        "colab": {
          "base_uri": "https://localhost:8080/"
        },
        "id": "4DSNFVW1nRSa",
        "outputId": "c67f3def-7ba6-498c-fb86-7a87f9f6e2bf"
      },
      "execution_count": 8,
      "outputs": [
        {
          "output_type": "stream",
          "name": "stdout",
          "text": [
            "(37069, 20)\n",
            "Index(['age', 'job', 'marital', 'education', 'default', 'housing',\n",
            "       'loan', 'contact', 'month', 'day_of_week', 'campaign', 'pdays',\n",
            "       'previous', 'poutcome', 'emp.var.rate', 'cons.price.idx',\n",
            "       'cons.conf.idx', 'euribor3m', 'nr.employed', 'y'],\n",
            "      dtype='object')\n"
          ]
        }
      ]
    },
    {
      "cell_type": "code",
      "source": [
        "# values for 'y' is yes and no. count all y\n",
        "# how many people(client) have subscribed to a term deposit?\n",
        "campaign['y'].value_counts()"
      ],
      "metadata": {
        "colab": {
          "base_uri": "https://localhost:8080/"
        },
        "id": "DPOE-lQkjtGe",
        "outputId": "9f4e9162-1fe1-4351-a745-b4e94f181795"
      },
      "execution_count": 9,
      "outputs": [
        {
          "output_type": "execute_result",
          "data": {
            "text/plain": [
              "no     32861\n",
              "yes     4208\n",
              "Name: y, dtype: int64"
            ]
          },
          "metadata": {},
          "execution_count": 9
        }
      ]
    },
    {
      "cell_type": "code",
      "source": [
        "#\n",
        "campaign[\"y\"].value_counts()/len(campaign.y)"
      ],
      "metadata": {
        "colab": {
          "base_uri": "https://localhost:8080/"
        },
        "id": "913pJQRej7Va",
        "outputId": "f1a68099-e7ba-4713-dec8-b03083609364"
      },
      "execution_count": 10,
      "outputs": [
        {
          "output_type": "execute_result",
          "data": {
            "text/plain": [
              "no     0.886482\n",
              "yes    0.113518\n",
              "Name: y, dtype: float64"
            ]
          },
          "metadata": {},
          "execution_count": 10
        }
      ]
    },
    {
      "cell_type": "markdown",
      "source": [
        "The distribution of the target variables(y) 32861 - no and 4208- yes which is broken down to 88 % saying no and 11 % saying yes"
      ],
      "metadata": {
        "id": "QpYFhwDHj_0_"
      }
    },
    {
      "cell_type": "code",
      "source": [
        "# @title\n",
        "campaign.hist('age','y',)\n",
        "# looks like from 25 - 40 said yes and said no"
      ],
      "metadata": {
        "colab": {
          "base_uri": "https://localhost:8080/",
          "height": 490
        },
        "id": "CcLTl9oENMfH",
        "outputId": "8aa998f3-921f-474e-f881-7f333178ceea"
      },
      "execution_count": 11,
      "outputs": [
        {
          "output_type": "execute_result",
          "data": {
            "text/plain": [
              "array([<Axes: title={'center': 'no'}>, <Axes: title={'center': 'yes'}>],\n",
              "      dtype=object)"
            ]
          },
          "metadata": {},
          "execution_count": 11
        },
        {
          "output_type": "display_data",
          "data": {
            "text/plain": [
              "<Figure size 640x480 with 2 Axes>"
            ],
            "image/png": "[encoded data removed]"
          },
          "metadata": {}
        }
      ]
    },
    {
      "cell_type": "code",
      "source": [
        "campaign.hist('day_of_week','y')\n",
        "# I think we need to add saturday to the mix\n",
        "# people said yes on thursday wed, tuesdays fridays then mondays"
      ],
      "metadata": {
        "colab": {
          "base_uri": "https://localhost:8080/",
          "height": 494
        },
        "id": "d4GsbJ4PNsbc",
        "outputId": "d77691f7-552c-4cc3-c092-577b7b623ec1"
      },
      "execution_count": 12,
      "outputs": [
        {
          "output_type": "execute_result",
          "data": {
            "text/plain": [
              "array([<Axes: title={'center': 'no'}>, <Axes: title={'center': 'yes'}>],\n",
              "      dtype=object)"
            ]
          },
          "metadata": {},
          "execution_count": 12
        },
        {
          "output_type": "display_data",
          "data": {
            "text/plain": [
              "<Figure size 640x480 with 2 Axes>"
            ],
            "image/png": "[encoded data removed]"
          },
          "metadata": {}
        }
      ]
    },
    {
      "cell_type": "code",
      "source": [
        "campaign.hist('month','y')\n",
        "# monthly yes may july aug nov and april"
      ],
      "metadata": {
        "colab": {
          "base_uri": "https://localhost:8080/",
          "height": 494
        },
        "id": "XSaakXTJzT47",
        "outputId": "c635e32f-1958-4c60-f892-2bc7b7d11456"
      },
      "execution_count": 13,
      "outputs": [
        {
          "output_type": "execute_result",
          "data": {
            "text/plain": [
              "array([<Axes: title={'center': 'no'}>, <Axes: title={'center': 'yes'}>],\n",
              "      dtype=object)"
            ]
          },
          "metadata": {},
          "execution_count": 13
        },
        {
          "output_type": "display_data",
          "data": {
            "text/plain": [
              "<Figure size 640x480 with 2 Axes>"
            ],
            "image/png": "[encoded data removed]"
          },
          "metadata": {}
        }
      ]
    },
    {
      "cell_type": "code",
      "source": [
        "campaign.hist('education','y')\n",
        "# people with a university degree said yes and high school education"
      ],
      "metadata": {
        "colab": {
          "base_uri": "https://localhost:8080/",
          "height": 598
        },
        "id": "_nkyqo-MN38F",
        "outputId": "a4d0e896-6885-4572-c5e0-5af8245aa656"
      },
      "execution_count": 14,
      "outputs": [
        {
          "output_type": "execute_result",
          "data": {
            "text/plain": [
              "array([<Axes: title={'center': 'no'}>, <Axes: title={'center': 'yes'}>],\n",
              "      dtype=object)"
            ]
          },
          "metadata": {},
          "execution_count": 14
        },
        {
          "output_type": "display_data",
          "data": {
            "text/plain": [
              "<Figure size 640x480 with 2 Axes>"
            ],
            "image/png": "[encoded data removed]"
          },
          "metadata": {}
        }
      ]
    },
    {
      "cell_type": "code",
      "source": [
        "campaign.hist('emp.var.rate','y')"
      ],
      "metadata": {
        "colab": {
          "base_uri": "https://localhost:8080/",
          "height": 484
        },
        "id": "oddh2e81OJsu",
        "outputId": "2e477b85-c239-4b0e-fc93-e3307cfea0a5"
      },
      "execution_count": 15,
      "outputs": [
        {
          "output_type": "execute_result",
          "data": {
            "text/plain": [
              "array([<Axes: title={'center': 'no'}>, <Axes: title={'center': 'yes'}>],\n",
              "      dtype=object)"
            ]
          },
          "metadata": {},
          "execution_count": 15
        },
        {
          "output_type": "display_data",
          "data": {
            "text/plain": [
              "<Figure size 640x480 with 2 Axes>"
            ],
            "image/png": "[encoded data removed]"
          },
          "metadata": {}
        }
      ]
    },
    {
      "cell_type": "code",
      "source": [
        "campaign.hist('cons.price.idx','y')"
      ],
      "metadata": {
        "colab": {
          "base_uri": "https://localhost:8080/",
          "height": 481
        },
        "id": "7GKAmgOwPBgv",
        "outputId": "10b10fed-c054-4e07-cbfd-2a22c6beb0d9"
      },
      "execution_count": 16,
      "outputs": [
        {
          "output_type": "execute_result",
          "data": {
            "text/plain": [
              "array([<Axes: title={'center': 'no'}>, <Axes: title={'center': 'yes'}>],\n",
              "      dtype=object)"
            ]
          },
          "metadata": {},
          "execution_count": 16
        },
        {
          "output_type": "display_data",
          "data": {
            "text/plain": [
              "<Figure size 640x480 with 2 Axes>"
            ],
            "image/png": "[encoded data removed]"
          },
          "metadata": {}
        }
      ]
    },
    {
      "cell_type": "code",
      "source": [
        "campaign.hist('cons.conf.idx','y')"
      ],
      "metadata": {
        "colab": {
          "base_uri": "https://localhost:8080/",
          "height": 493
        },
        "id": "dBOmfPC-PQsV",
        "outputId": "ab967cfc-58b0-4445-e62b-1be9cc7cd711"
      },
      "execution_count": 17,
      "outputs": [
        {
          "output_type": "execute_result",
          "data": {
            "text/plain": [
              "array([<Axes: title={'center': 'no'}>, <Axes: title={'center': 'yes'}>],\n",
              "      dtype=object)"
            ]
          },
          "metadata": {},
          "execution_count": 17
        },
        {
          "output_type": "display_data",
          "data": {
            "text/plain": [
              "<Figure size 640x480 with 2 Axes>"
            ],
            "image/png": "[encoded data removed]"
          },
          "metadata": {}
        }
      ]
    },
    {
      "cell_type": "code",
      "source": [
        "campaign.hist('nr.employed','y')"
      ],
      "metadata": {
        "colab": {
          "base_uri": "https://localhost:8080/",
          "height": 499
        },
        "id": "O2LSm1o4PdC8",
        "outputId": "60b15283-77fb-41cf-d465-0bdfc56e677a"
      },
      "execution_count": null,
      "outputs": [
        {
          "output_type": "execute_result",
          "data": {
            "text/plain": [
              "array([<Axes: title={'center': 'no'}>, <Axes: title={'center': 'yes'}>],\n",
              "      dtype=object)"
            ]
          },
          "metadata": {},
          "execution_count": 20
        },
        {
          "output_type": "display_data",
          "data": {
            "text/plain": [
              "<Figure size 640x480 with 2 Axes>"
            ],
            "image/png": "[encoded data removed]"
          },
          "metadata": {}
        }
      ]
    },
    {
      "cell_type": "code",
      "source": [
        "# view the correlation between features -- values between -1 and 1 compare itself against itself\n",
        "# too hard to read figure out how to get a better print. [1]\n",
        "# corralation between each feature\n",
        "corrMatrix = campaign.corr()\n",
        "sn.heatmap(corrMatrix, annot=True) # do we run false or true\n",
        "plt.show()\n",
        "# we need to understand correlation"
      ],
      "metadata": {
        "id": "sNUmDkZ6bzGV",
        "colab": {
          "base_uri": "https://localhost:8080/",
          "height": 573
        },
        "outputId": "18754a91-bf62-4de8-9e2b-1398cdfa56df"
      },
      "execution_count": 18,
      "outputs": [
        {
          "output_type": "stream",
          "name": "stderr",
          "text": [
            "<ipython-input-18-d2fa43d20360>:4: FutureWarning: The default value of numeric_only in DataFrame.corr is deprecated. In a future version, it will default to False. Select only valid columns or specify the value of numeric_only to silence this warning.\n",
            "  corrMatrix = campaign.corr()\n"
          ]
        },
        {
          "output_type": "display_data",
          "data": {
            "text/plain": [
              "<Figure size 640x480 with 2 Axes>"
            ],
            "image/png": "[encoded data removed]"
          },
          "metadata": {}
        }
      ]
    },
    {
      "cell_type": "code",
      "source": [
        "# plotting the heatmap of only highly correlated varibles with threshold value 0.9\n",
        "import seaborn as sns\n",
        "corrMatrix = campaign.corr()\n",
        "plt.figure(figsize=(4,4))\n",
        "sns.heatmap(corrMatrix[corrMatrix > 0.9] , annot=True)\n",
        "plt.title(\"Correlation Heatmap\", fontsize = 15)\n",
        "plt.show()"
      ],
      "metadata": {
        "colab": {
          "base_uri": "https://localhost:8080/",
          "height": 530
        },
        "id": "kJwlOxa6blkk",
        "outputId": "b9123b1b-7d30-4454-dfa2-3572ab62f6b8"
      },
      "execution_count": 19,
      "outputs": [
        {
          "output_type": "stream",
          "name": "stderr",
          "text": [
            "<ipython-input-19-90a66431df92>:3: FutureWarning: The default value of numeric_only in DataFrame.corr is deprecated. In a future version, it will default to False. Select only valid columns or specify the value of numeric_only to silence this warning.\n",
            "  corrMatrix = campaign.corr()\n"
          ]
        },
        {
          "output_type": "display_data",
          "data": {
            "text/plain": [
              "<Figure size 400x400 with 2 Axes>"
            ],
            "image/png": "[encoded data removed]"
          },
          "metadata": {}
        }
      ]
    },
    {
      "cell_type": "code",
      "source": [
        "plt.figure(figsize=(5,5))\n",
        "campaign[campaign['y']==1]['age'].hist(alpha = 0.5, color = 'red', bins= 50, label='y=1')\n",
        "campaign[campaign['y']==0]['age'].hist(alpha = 0.5, color = 'blue', bins= 50, label='y=0')\n",
        "plt.legend()\n",
        "plt.xlabel('age')"
      ],
      "metadata": {
        "colab": {
          "base_uri": "https://localhost:8080/",
          "height": 482
        },
        "id": "dD-Dn7cOcnaD",
        "outputId": "becac66a-c099-4f31-d4de-d20f696ecbfe"
      },
      "execution_count": 20,
      "outputs": [
        {
          "output_type": "execute_result",
          "data": {
            "text/plain": [
              "Text(0.5, 0, 'age')"
            ]
          },
          "metadata": {},
          "execution_count": 20
        },
        {
          "output_type": "display_data",
          "data": {
            "text/plain": [
              "<Figure size 500x500 with 1 Axes>"
            ],
            "image/png": "[encoded data removed]"
          },
          "metadata": {}
        }
      ]
    },
    {
      "cell_type": "markdown",
      "source": [
        "## Address quality issues\n"
      ],
      "metadata": {
        "id": "GHenkBZfJ_pK"
      }
    },
    {
      "cell_type": "markdown",
      "source": [
        "### Manipulate data\n"
      ],
      "metadata": {
        "id": "UGQ51hOBChU9"
      }
    },
    {
      "cell_type": "code",
      "source": [
        "# check for duplicates in our data\n",
        "campaign.duplicated().sum()\n",
        "#1487"
      ],
      "metadata": {
        "colab": {
          "base_uri": "https://localhost:8080/"
        },
        "id": "j2DJVK5QkIzQ",
        "outputId": "e4f5b820-84d7-4ef3-8315-3d772363cb33"
      },
      "execution_count": 21,
      "outputs": [
        {
          "output_type": "execute_result",
          "data": {
            "text/plain": [
              "1487"
            ]
          },
          "metadata": {},
          "execution_count": 21
        }
      ]
    },
    {
      "cell_type": "code",
      "source": [
        "# drop duplicate\n",
        "campaign.drop_duplicates(inplace=True)"
      ],
      "metadata": {
        "id": "PI5GhPR8oUpa"
      },
      "execution_count": 22,
      "outputs": []
    },
    {
      "cell_type": "code",
      "source": [
        "# idetify target features before we do the Dummy\n",
        "# deleted - default we do not need it\n",
        "# fix education number 1 2 3 4 ? or figure out how to handle it\n",
        "# fix month to 1 - 12\n",
        "# fix day of the week to 1-7"
      ],
      "metadata": {
        "id": "iOEnnlYt1Kcy"
      },
      "execution_count": 23,
      "outputs": []
    },
    {
      "cell_type": "code",
      "source": [
        "#check default value counts\n",
        "# always run a value count before you delete\n",
        "campaign.default.value_counts()"
      ],
      "metadata": {
        "colab": {
          "base_uri": "https://localhost:8080/"
        },
        "id": "IUlRY5mgpBXy",
        "outputId": "dadf1b52-4718-4185-d358-1525971ac316"
      },
      "execution_count": 24,
      "outputs": [
        {
          "output_type": "execute_result",
          "data": {
            "text/plain": [
              "no         28125\n",
              "unknown     7454\n",
              "yes            3\n",
              "Name: default, dtype: int64"
            ]
          },
          "metadata": {},
          "execution_count": 24
        }
      ]
    },
    {
      "cell_type": "code",
      "source": [
        "#campaign['default'] =campaign['default'].map({'no':0,'yes':1,'unknown':0})\n",
        "#campaign['y'] = campaign['y'].map({'no':0,'yes':1})"
      ],
      "metadata": {
        "id": "3-97QuUS3I8r"
      },
      "execution_count": 25,
      "outputs": []
    },
    {
      "cell_type": "code",
      "source": [
        "# changed no 0 and yes 1\n",
        "campaign.replace({'no:0', 'yes:1'}, inplace=True)"
      ],
      "metadata": {
        "id": "EaJnGQhuXgWe"
      },
      "execution_count": 26,
      "outputs": []
    },
    {
      "cell_type": "code",
      "source": [
        "# Drop duplicates\n",
        "# c.drop_duplicates(inplace=True)\n",
        "#c.duplicated().sum()\n",
        "# c.default.value_counts()\n",
        "# c.replace({'no':0,'yes':1},inplace=True)\n",
        "# c.columns.values\n"
      ],
      "metadata": {
        "id": "c6xZS-zHZYwL"
      },
      "execution_count": 27,
      "outputs": []
    },
    {
      "cell_type": "code",
      "source": [
        "campaign.hist(bins=20, figsize=(12,10))\n",
        "plt.show()"
      ],
      "metadata": {
        "id": "SoTLk17AZrb2",
        "colab": {
          "base_uri": "https://localhost:8080/",
          "height": 853
        },
        "outputId": "03aaf398-14c8-4bed-82d9-c9100851a32b"
      },
      "execution_count": 28,
      "outputs": [
        {
          "output_type": "display_data",
          "data": {
            "text/plain": [
              "<Figure size 1200x1000 with 9 Axes>"
            ],
            "image/png": "[encoded data removed]"
          },
          "metadata": {}
        }
      ]
    },
    {
      "cell_type": "code",
      "source": [
        "# HOW TO HANDLE OUTLIERS"
      ],
      "metadata": {
        "id": "3CLnml3RcLeE"
      },
      "execution_count": null,
      "outputs": []
    },
    {
      "cell_type": "code",
      "source": [
        "# visualize the categorical features"
      ],
      "metadata": {
        "id": "lBxGP-NecQm6"
      },
      "execution_count": null,
      "outputs": []
    },
    {
      "cell_type": "code",
      "source": [
        "campaign.columns.values"
      ],
      "metadata": {
        "colab": {
          "base_uri": "https://localhost:8080/"
        },
        "id": "yCgmhX1RpriY",
        "outputId": "1570f1de-8569-46d2-f248-da06427570b6"
      },
      "execution_count": 29,
      "outputs": [
        {
          "output_type": "execute_result",
          "data": {
            "text/plain": [
              "array(['age', 'job', 'marital', 'education', 'default', 'housing', 'loan',\n",
              "       'contact', 'month', 'day_of_week', 'campaign', 'pdays', 'previous',\n",
              "       'poutcome', 'emp.var.rate', 'cons.price.idx', 'cons.conf.idx',\n",
              "       'euribor3m', 'nr.employed', 'y'], dtype=object)"
            ]
          },
          "metadata": {},
          "execution_count": 29
        }
      ]
    },
    {
      "cell_type": "code",
      "source": [
        "# drop all values that we dont need"
      ],
      "metadata": {
        "id": "uY3rH-bWn41H"
      },
      "execution_count": null,
      "outputs": []
    },
    {
      "cell_type": "code",
      "source": [
        "# filter data for default we dont need them dropt them\n",
        "#campaign_clean = campaign.drop(columns='default')"
      ],
      "metadata": {
        "id": "LJ6te7v_nzh1"
      },
      "execution_count": null,
      "outputs": []
    },
    {
      "cell_type": "code",
      "source": [
        "# teachers notes signed up yes or not campaign variables number of contanct\n",
        "campaign.groupby('y')['campaign'].value_counts(normalize=True)\n",
        "# some people were contacted over 56 times"
      ],
      "metadata": {
        "id": "1GNZ9YnnXG2A",
        "colab": {
          "base_uri": "https://localhost:8080/"
        },
        "outputId": "c84116f0-5346-43fb-fa9b-729da1981322"
      },
      "execution_count": 30,
      "outputs": [
        {
          "output_type": "execute_result",
          "data": {
            "text/plain": [
              "y    campaign\n",
              "no   1           0.405528\n",
              "     2           0.260842\n",
              "     3           0.133287\n",
              "     4           0.067821\n",
              "     5           0.041871\n",
              "     6           0.024995\n",
              "     7           0.016462\n",
              "     8           0.011081\n",
              "     9           0.007897\n",
              "     10          0.006209\n",
              "     11          0.004904\n",
              "     12          0.003471\n",
              "     13          0.002452\n",
              "     14          0.001719\n",
              "     17          0.001465\n",
              "     15          0.001433\n",
              "     16          0.001401\n",
              "     18          0.000955\n",
              "     20          0.000923\n",
              "     19          0.000828\n",
              "     21          0.000669\n",
              "     22          0.000541\n",
              "     23          0.000414\n",
              "     24          0.000414\n",
              "     27          0.000318\n",
              "     29          0.000318\n",
              "     25          0.000223\n",
              "     28          0.000223\n",
              "     30          0.000223\n",
              "     31          0.000223\n",
              "     26          0.000191\n",
              "     35          0.000159\n",
              "     33          0.000127\n",
              "     32          0.000096\n",
              "     34          0.000064\n",
              "     40          0.000064\n",
              "     42          0.000064\n",
              "     37          0.000032\n",
              "     39          0.000032\n",
              "     41          0.000032\n",
              "     56          0.000032\n",
              "yes  1           0.493534\n",
              "     2           0.258860\n",
              "     3           0.126676\n",
              "     4           0.054119\n",
              "     5           0.026102\n",
              "     6           0.016044\n",
              "     7           0.008860\n",
              "     9           0.004071\n",
              "     8           0.003592\n",
              "     10          0.002634\n",
              "     11          0.002395\n",
              "     17          0.000958\n",
              "     12          0.000718\n",
              "     13          0.000718\n",
              "     15          0.000479\n",
              "     14          0.000239\n",
              "Name: campaign, dtype: float64"
            ]
          },
          "metadata": {},
          "execution_count": 30
        }
      ]
    },
    {
      "cell_type": "code",
      "source": [
        "campaign[['day_of_week','y']].head()"
      ],
      "metadata": {
        "id": "AAhnHm03XaYI",
        "colab": {
          "base_uri": "https://localhost:8080/",
          "height": 206
        },
        "outputId": "f26b64f0-9852-42ea-dd98-7bc92d63f2b7"
      },
      "execution_count": 31,
      "outputs": [
        {
          "output_type": "execute_result",
          "data": {
            "text/plain": [
              "  day_of_week   y\n",
              "0         mon  no\n",
              "1         mon  no\n",
              "2         mon  no\n",
              "3         mon  no\n",
              "4         mon  no"
            ],
            "text/html": [
              "\n",
              "  <div id=\"df-a5cd62bf-d3a4-42d8-83ca-5dcec1971763\" class=\"colab-df-container\">\n",
              "    <div>\n",
              "<style scoped>\n",
              "    .dataframe tbody tr th:only-of-type {\n",
              "        vertical-align: middle;\n",
              "    }\n",
              "\n",
              "    .dataframe tbody tr th {\n",
              "        vertical-align: top;\n",
              "    }\n",
              "\n",
              "    .dataframe thead th {\n",
              "        text-align: right;\n",
              "    }\n",
              "</style>\n",
              "<table border=\"1\" class=\"dataframe\">\n",
              "  <thead>\n",
              "    <tr style=\"text-align: right;\">\n",
              "      <th></th>\n",
              "      <th>day_of_week</th>\n",
              "      <th>y</th>\n",
              "    </tr>\n",
              "  </thead>\n",
              "  <tbody>\n",
              "    <tr>\n",
              "      <th>0</th>\n",
              "      <td>mon</td>\n",
              "      <td>no</td>\n",
              "    </tr>\n",
              "    <tr>\n",
              "      <th>1</th>\n",
              "      <td>mon</td>\n",
              "      <td>no</td>\n",
              "    </tr>\n",
              "    <tr>\n",
              "      <th>2</th>\n",
              "      <td>mon</td>\n",
              "      <td>no</td>\n",
              "    </tr>\n",
              "    <tr>\n",
              "      <th>3</th>\n",
              "      <td>mon</td>\n",
              "      <td>no</td>\n",
              "    </tr>\n",
              "    <tr>\n",
              "      <th>4</th>\n",
              "      <td>mon</td>\n",
              "      <td>no</td>\n",
              "    </tr>\n",
              "  </tbody>\n",
              "</table>\n",
              "</div>\n",
              "    <div class=\"colab-df-buttons\">\n",
              "\n",
              "  <div class=\"colab-df-container\">\n",
              "    <button class=\"colab-df-convert\" onclick=\"convertToInteractive('df-a5cd62bf-d3a4-42d8-83ca-5dcec1971763')\"\n",
              "            title=\"Convert this dataframe to an interactive table.\"\n",
              "            style=\"display:none;\">\n",
              "\n",
              "  <svg xmlns=\"http://www.w3.org/2000/svg\" height=\"24px\" viewBox=\"0 -960 960 960\">\n",
              "    <path d=\"M120-120v-720h720v720H120Zm60-500h600v-160H180v160Zm220 220h160v-160H400v160Zm0 220h160v-160H400v160ZM180-400h160v-160H180v160Zm440 0h160v-160H620v160ZM180-180h160v-160H180v160Zm440 0h160v-160H620v160Z\"/>\n",
              "  </svg>\n",
              "    </button>\n",
              "\n",
              "  <style>\n",
              "    .colab-df-container {\n",
              "      display:flex;\n",
              "      gap: 12px;\n",
              "    }\n",
              "\n",
              "    .colab-df-convert {\n",
              "      background-color: #E8F0FE;\n",
              "      border: none;\n",
              "      border-radius: 50%;\n",
              "      cursor: pointer;\n",
              "      display: none;\n",
              "      fill: #1967D2;\n",
              "      height: 32px;\n",
              "      padding: 0 0 0 0;\n",
              "      width: 32px;\n",
              "    }\n",
              "\n",
              "    .colab-df-convert:hover {\n",
              "      background-color: #E2EBFA;\n",
              "      box-shadow: 0px 1px 2px rgba(60, 64, 67, 0.3), 0px 1px 3px 1px rgba(60, 64, 67, 0.15);\n",
              "      fill: #174EA6;\n",
              "    }\n",
              "\n",
              "    .colab-df-buttons div {\n",
              "      margin-bottom: 4px;\n",
              "    }\n",
              "\n",
              "    [theme=dark] .colab-df-convert {\n",
              "      background-color: #3B4455;\n",
              "      fill: #D2E3FC;\n",
              "    }\n",
              "\n",
              "    [theme=dark] .colab-df-convert:hover {\n",
              "      background-color: #434B5C;\n",
              "      box-shadow: 0px 1px 3px 1px rgba(0, 0, 0, 0.15);\n",
              "      filter: drop-shadow(0px 1px 2px rgba(0, 0, 0, 0.3));\n",
              "      fill: #FFFFFF;\n",
              "    }\n",
              "  </style>\n",
              "\n",
              "    <script>\n",
              "      const buttonEl =\n",
              "        document.querySelector('#df-a5cd62bf-d3a4-42d8-83ca-5dcec1971763 button.colab-df-convert');\n",
              "      buttonEl.style.display =\n",
              "        google.colab.kernel.accessAllowed ? 'block' : 'none';\n",
              "\n",
              "      async function convertToInteractive(key) {\n",
              "        const element = document.querySelector('#df-a5cd62bf-d3a4-42d8-83ca-5dcec1971763');\n",
              "        const dataTable =\n",
              "          await google.colab.kernel.invokeFunction('convertToInteractive',\n",
              "                                                    [key], {});\n",
              "        if (!dataTable) return;\n",
              "\n",
              "        const docLinkHtml = 'Like what you see? Visit the ' +\n",
              "          '<a target=\"_blank\" href=https://colab.research.google.com/notebooks/data_table.ipynb>data table notebook</a>'\n",
              "          + ' to learn more about interactive tables.';\n",
              "        element.innerHTML = '';\n",
              "        dataTable['output_type'] = 'display_data';\n",
              "        await google.colab.output.renderOutput(dataTable, element);\n",
              "        const docLink = document.createElement('div');\n",
              "        docLink.innerHTML = docLinkHtml;\n",
              "        element.appendChild(docLink);\n",
              "      }\n",
              "    </script>\n",
              "  </div>\n",
              "\n",
              "\n",
              "<div id=\"df-8fcff7b9-4c29-4632-865e-20536af051b4\">\n",
              "  <button class=\"colab-df-quickchart\" onclick=\"quickchart('df-8fcff7b9-4c29-4632-865e-20536af051b4')\"\n",
              "            title=\"Suggest charts\"\n",
              "            style=\"display:none;\">\n",
              "\n",
              "<svg xmlns=\"http://www.w3.org/2000/svg\" height=\"24px\"viewBox=\"0 0 24 24\"\n",
              "     width=\"24px\">\n",
              "    <g>\n",
              "        <path d=\"M19 3H5c-1.1 0-2 .9-2 2v14c0 1.1.9 2 2 2h14c1.1 0 2-.9 2-2V5c0-1.1-.9-2-2-2zM9 17H7v-7h2v7zm4 0h-2V7h2v10zm4 0h-2v-4h2v4z\"/>\n",
              "    </g>\n",
              "</svg>\n",
              "  </button>\n",
              "\n",
              "<style>\n",
              "  .colab-df-quickchart {\n",
              "      --bg-color: #E8F0FE;\n",
              "      --fill-color: #1967D2;\n",
              "      --hover-bg-color: #E2EBFA;\n",
              "      --hover-fill-color: #174EA6;\n",
              "      --disabled-fill-color: #AAA;\n",
              "      --disabled-bg-color: #DDD;\n",
              "  }\n",
              "\n",
              "  [theme=dark] .colab-df-quickchart {\n",
              "      --bg-color: #3B4455;\n",
              "      --fill-color: #D2E3FC;\n",
              "      --hover-bg-color: #434B5C;\n",
              "      --hover-fill-color: #FFFFFF;\n",
              "      --disabled-bg-color: #3B4455;\n",
              "      --disabled-fill-color: #666;\n",
              "  }\n",
              "\n",
              "  .colab-df-quickchart {\n",
              "    background-color: var(--bg-color);\n",
              "    border: none;\n",
              "    border-radius: 50%;\n",
              "    cursor: pointer;\n",
              "    display: none;\n",
              "    fill: var(--fill-color);\n",
              "    height: 32px;\n",
              "    padding: 0;\n",
              "    width: 32px;\n",
              "  }\n",
              "\n",
              "  .colab-df-quickchart:hover {\n",
              "    background-color: var(--hover-bg-color);\n",
              "    box-shadow: 0 1px 2px rgba(60, 64, 67, 0.3), 0 1px 3px 1px rgba(60, 64, 67, 0.15);\n",
              "    fill: var(--button-hover-fill-color);\n",
              "  }\n",
              "\n",
              "  .colab-df-quickchart-complete:disabled,\n",
              "  .colab-df-quickchart-complete:disabled:hover {\n",
              "    background-color: var(--disabled-bg-color);\n",
              "    fill: var(--disabled-fill-color);\n",
              "    box-shadow: none;\n",
              "  }\n",
              "\n",
              "  .colab-df-spinner {\n",
              "    border: 2px solid var(--fill-color);\n",
              "    border-color: transparent;\n",
              "    border-bottom-color: var(--fill-color);\n",
              "    animation:\n",
              "      spin 1s steps(1) infinite;\n",
              "  }\n",
              "\n",
              "  @keyframes spin {\n",
              "    0% {\n",
              "      border-color: transparent;\n",
              "      border-bottom-color: var(--fill-color);\n",
              "      border-left-color: var(--fill-color);\n",
              "    }\n",
              "    20% {\n",
              "      border-color: transparent;\n",
              "      border-left-color: var(--fill-color);\n",
              "      border-top-color: var(--fill-color);\n",
              "    }\n",
              "    30% {\n",
              "      border-color: transparent;\n",
              "      border-left-color: var(--fill-color);\n",
              "      border-top-color: var(--fill-color);\n",
              "      border-right-color: var(--fill-color);\n",
              "    }\n",
              "    40% {\n",
              "      border-color: transparent;\n",
              "      border-right-color: var(--fill-color);\n",
              "      border-top-color: var(--fill-color);\n",
              "    }\n",
              "    60% {\n",
              "      border-color: transparent;\n",
              "      border-right-color: var(--fill-color);\n",
              "    }\n",
              "    80% {\n",
              "      border-color: transparent;\n",
              "      border-right-color: var(--fill-color);\n",
              "      border-bottom-color: var(--fill-color);\n",
              "    }\n",
              "    90% {\n",
              "      border-color: transparent;\n",
              "      border-bottom-color: var(--fill-color);\n",
              "    }\n",
              "  }\n",
              "</style>\n",
              "\n",
              "  <script>\n",
              "    async function quickchart(key) {\n",
              "      const quickchartButtonEl =\n",
              "        document.querySelector('#' + key + ' button');\n",
              "      quickchartButtonEl.disabled = true;  // To prevent multiple clicks.\n",
              "      quickchartButtonEl.classList.add('colab-df-spinner');\n",
              "      try {\n",
              "        const charts = await google.colab.kernel.invokeFunction(\n",
              "            'suggestCharts', [key], {});\n",
              "      } catch (error) {\n",
              "        console.error('Error during call to suggestCharts:', error);\n",
              "      }\n",
              "      quickchartButtonEl.classList.remove('colab-df-spinner');\n",
              "      quickchartButtonEl.classList.add('colab-df-quickchart-complete');\n",
              "    }\n",
              "    (() => {\n",
              "      let quickchartButtonEl =\n",
              "        document.querySelector('#df-8fcff7b9-4c29-4632-865e-20536af051b4 button');\n",
              "      quickchartButtonEl.style.display =\n",
              "        google.colab.kernel.accessAllowed ? 'block' : 'none';\n",
              "    })();\n",
              "  </script>\n",
              "</div>\n",
              "    </div>\n",
              "  </div>\n"
            ]
          },
          "metadata": {},
          "execution_count": 31
        }
      ]
    },
    {
      "cell_type": "code",
      "source": [
        "yes = campaign[campaign['y']=='yes']\n",
        "yes['day_of_week'].value_counts()\n",
        "# thursday has the most yes"
      ],
      "metadata": {
        "id": "b4Mu94dDXeFv",
        "colab": {
          "base_uri": "https://localhost:8080/"
        },
        "outputId": "4b2ca2a9-5b96-47aa-fed9-ba9538cf026e"
      },
      "execution_count": 32,
      "outputs": [
        {
          "output_type": "execute_result",
          "data": {
            "text/plain": [
              "thu    950\n",
              "wed    854\n",
              "tue    851\n",
              "fri    762\n",
              "mon    759\n",
              "Name: day_of_week, dtype: int64"
            ]
          },
          "metadata": {},
          "execution_count": 32
        }
      ]
    },
    {
      "cell_type": "code",
      "source": [
        "# check for changes\n",
        "campaign.head(3)"
      ],
      "metadata": {
        "id": "s7AIvF3GXi3R",
        "colab": {
          "base_uri": "https://localhost:8080/",
          "height": 163
        },
        "outputId": "e7498b53-f880-44ba-cd68-1122494ee8dc"
      },
      "execution_count": 33,
      "outputs": [
        {
          "output_type": "execute_result",
          "data": {
            "text/plain": [
              "   age        job  marital    education  default housing loan  \\\n",
              "0   56  housemaid  married     basic.4y       no      no   no   \n",
              "1   57   services  married  high.school  unknown      no   no   \n",
              "2   37   services  married  high.school       no     yes   no   \n",
              "\n",
              "     contact month day_of_week  campaign  pdays  previous     poutcome  \\\n",
              "0  telephone   may         mon         1    999         0  nonexistent   \n",
              "1  telephone   may         mon         1    999         0  nonexistent   \n",
              "2  telephone   may         mon         1    999         0  nonexistent   \n",
              "\n",
              "   emp.var.rate  cons.price.idx  cons.conf.idx  euribor3m  nr.employed  \\\n",
              "0           1.1          93.994          -36.4      4.857       5191.0   \n",
              "1           1.1          93.994          -36.4      4.857       5191.0   \n",
              "2           1.1          93.994          -36.4      4.857       5191.0   \n",
              "\n",
              "    y  \n",
              "0  no  \n",
              "1  no  \n",
              "2  no  "
            ],
            "text/html": [
              "\n",
              "  <div id=\"df-8deeb194-a86b-4163-aae7-09164b6a4e9c\" class=\"colab-df-container\">\n",
              "    <div>\n",
              "<style scoped>\n",
              "    .dataframe tbody tr th:only-of-type {\n",
              "        vertical-align: middle;\n",
              "    }\n",
              "\n",
              "    .dataframe tbody tr th {\n",
              "        vertical-align: top;\n",
              "    }\n",
              "\n",
              "    .dataframe thead th {\n",
              "        text-align: right;\n",
              "    }\n",
              "</style>\n",
              "<table border=\"1\" class=\"dataframe\">\n",
              "  <thead>\n",
              "    <tr style=\"text-align: right;\">\n",
              "      <th></th>\n",
              "      <th>age</th>\n",
              "      <th>job</th>\n",
              "      <th>marital</th>\n",
              "      <th>education</th>\n",
              "      <th>default</th>\n",
              "      <th>housing</th>\n",
              "      <th>loan</th>\n",
              "      <th>contact</th>\n",
              "      <th>month</th>\n",
              "      <th>day_of_week</th>\n",
              "      <th>campaign</th>\n",
              "      <th>pdays</th>\n",
              "      <th>previous</th>\n",
              "      <th>poutcome</th>\n",
              "      <th>emp.var.rate</th>\n",
              "      <th>cons.price.idx</th>\n",
              "      <th>cons.conf.idx</th>\n",
              "      <th>euribor3m</th>\n",
              "      <th>nr.employed</th>\n",
              "      <th>y</th>\n",
              "    </tr>\n",
              "  </thead>\n",
              "  <tbody>\n",
              "    <tr>\n",
              "      <th>0</th>\n",
              "      <td>56</td>\n",
              "      <td>housemaid</td>\n",
              "      <td>married</td>\n",
              "      <td>basic.4y</td>\n",
              "      <td>no</td>\n",
              "      <td>no</td>\n",
              "      <td>no</td>\n",
              "      <td>telephone</td>\n",
              "      <td>may</td>\n",
              "      <td>mon</td>\n",
              "      <td>1</td>\n",
              "      <td>999</td>\n",
              "      <td>0</td>\n",
              "      <td>nonexistent</td>\n",
              "      <td>1.1</td>\n",
              "      <td>93.994</td>\n",
              "      <td>-36.4</td>\n",
              "      <td>4.857</td>\n",
              "      <td>5191.0</td>\n",
              "      <td>no</td>\n",
              "    </tr>\n",
              "    <tr>\n",
              "      <th>1</th>\n",
              "      <td>57</td>\n",
              "      <td>services</td>\n",
              "      <td>married</td>\n",
              "      <td>high.school</td>\n",
              "      <td>unknown</td>\n",
              "      <td>no</td>\n",
              "      <td>no</td>\n",
              "      <td>telephone</td>\n",
              "      <td>may</td>\n",
              "      <td>mon</td>\n",
              "      <td>1</td>\n",
              "      <td>999</td>\n",
              "      <td>0</td>\n",
              "      <td>nonexistent</td>\n",
              "      <td>1.1</td>\n",
              "      <td>93.994</td>\n",
              "      <td>-36.4</td>\n",
              "      <td>4.857</td>\n",
              "      <td>5191.0</td>\n",
              "      <td>no</td>\n",
              "    </tr>\n",
              "    <tr>\n",
              "      <th>2</th>\n",
              "      <td>37</td>\n",
              "      <td>services</td>\n",
              "      <td>married</td>\n",
              "      <td>high.school</td>\n",
              "      <td>no</td>\n",
              "      <td>yes</td>\n",
              "      <td>no</td>\n",
              "      <td>telephone</td>\n",
              "      <td>may</td>\n",
              "      <td>mon</td>\n",
              "      <td>1</td>\n",
              "      <td>999</td>\n",
              "      <td>0</td>\n",
              "      <td>nonexistent</td>\n",
              "      <td>1.1</td>\n",
              "      <td>93.994</td>\n",
              "      <td>-36.4</td>\n",
              "      <td>4.857</td>\n",
              "      <td>5191.0</td>\n",
              "      <td>no</td>\n",
              "    </tr>\n",
              "  </tbody>\n",
              "</table>\n",
              "</div>\n",
              "    <div class=\"colab-df-buttons\">\n",
              "\n",
              "  <div class=\"colab-df-container\">\n",
              "    <button class=\"colab-df-convert\" onclick=\"convertToInteractive('df-8deeb194-a86b-4163-aae7-09164b6a4e9c')\"\n",
              "            title=\"Convert this dataframe to an interactive table.\"\n",
              "            style=\"display:none;\">\n",
              "\n",
              "  <svg xmlns=\"http://www.w3.org/2000/svg\" height=\"24px\" viewBox=\"0 -960 960 960\">\n",
              "    <path d=\"M120-120v-720h720v720H120Zm60-500h600v-160H180v160Zm220 220h160v-160H400v160Zm0 220h160v-160H400v160ZM180-400h160v-160H180v160Zm440 0h160v-160H620v160ZM180-180h160v-160H180v160Zm440 0h160v-160H620v160Z\"/>\n",
              "  </svg>\n",
              "    </button>\n",
              "\n",
              "  <style>\n",
              "    .colab-df-container {\n",
              "      display:flex;\n",
              "      gap: 12px;\n",
              "    }\n",
              "\n",
              "    .colab-df-convert {\n",
              "      background-color: #E8F0FE;\n",
              "      border: none;\n",
              "      border-radius: 50%;\n",
              "      cursor: pointer;\n",
              "      display: none;\n",
              "      fill: #1967D2;\n",
              "      height: 32px;\n",
              "      padding: 0 0 0 0;\n",
              "      width: 32px;\n",
              "    }\n",
              "\n",
              "    .colab-df-convert:hover {\n",
              "      background-color: #E2EBFA;\n",
              "      box-shadow: 0px 1px 2px rgba(60, 64, 67, 0.3), 0px 1px 3px 1px rgba(60, 64, 67, 0.15);\n",
              "      fill: #174EA6;\n",
              "    }\n",
              "\n",
              "    .colab-df-buttons div {\n",
              "      margin-bottom: 4px;\n",
              "    }\n",
              "\n",
              "    [theme=dark] .colab-df-convert {\n",
              "      background-color: #3B4455;\n",
              "      fill: #D2E3FC;\n",
              "    }\n",
              "\n",
              "    [theme=dark] .colab-df-convert:hover {\n",
              "      background-color: #434B5C;\n",
              "      box-shadow: 0px 1px 3px 1px rgba(0, 0, 0, 0.15);\n",
              "      filter: drop-shadow(0px 1px 2px rgba(0, 0, 0, 0.3));\n",
              "      fill: #FFFFFF;\n",
              "    }\n",
              "  </style>\n",
              "\n",
              "    <script>\n",
              "      const buttonEl =\n",
              "        document.querySelector('#df-8deeb194-a86b-4163-aae7-09164b6a4e9c button.colab-df-convert');\n",
              "      buttonEl.style.display =\n",
              "        google.colab.kernel.accessAllowed ? 'block' : 'none';\n",
              "\n",
              "      async function convertToInteractive(key) {\n",
              "        const element = document.querySelector('#df-8deeb194-a86b-4163-aae7-09164b6a4e9c');\n",
              "        const dataTable =\n",
              "          await google.colab.kernel.invokeFunction('convertToInteractive',\n",
              "                                                    [key], {});\n",
              "        if (!dataTable) return;\n",
              "\n",
              "        const docLinkHtml = 'Like what you see? Visit the ' +\n",
              "          '<a target=\"_blank\" href=https://colab.research.google.com/notebooks/data_table.ipynb>data table notebook</a>'\n",
              "          + ' to learn more about interactive tables.';\n",
              "        element.innerHTML = '';\n",
              "        dataTable['output_type'] = 'display_data';\n",
              "        await google.colab.output.renderOutput(dataTable, element);\n",
              "        const docLink = document.createElement('div');\n",
              "        docLink.innerHTML = docLinkHtml;\n",
              "        element.appendChild(docLink);\n",
              "      }\n",
              "    </script>\n",
              "  </div>\n",
              "\n",
              "\n",
              "<div id=\"df-05219840-5712-478b-8f97-25341f8c7fc2\">\n",
              "  <button class=\"colab-df-quickchart\" onclick=\"quickchart('df-05219840-5712-478b-8f97-25341f8c7fc2')\"\n",
              "            title=\"Suggest charts\"\n",
              "            style=\"display:none;\">\n",
              "\n",
              "<svg xmlns=\"http://www.w3.org/2000/svg\" height=\"24px\"viewBox=\"0 0 24 24\"\n",
              "     width=\"24px\">\n",
              "    <g>\n",
              "        <path d=\"M19 3H5c-1.1 0-2 .9-2 2v14c0 1.1.9 2 2 2h14c1.1 0 2-.9 2-2V5c0-1.1-.9-2-2-2zM9 17H7v-7h2v7zm4 0h-2V7h2v10zm4 0h-2v-4h2v4z\"/>\n",
              "    </g>\n",
              "</svg>\n",
              "  </button>\n",
              "\n",
              "<style>\n",
              "  .colab-df-quickchart {\n",
              "      --bg-color: #E8F0FE;\n",
              "      --fill-color: #1967D2;\n",
              "      --hover-bg-color: #E2EBFA;\n",
              "      --hover-fill-color: #174EA6;\n",
              "      --disabled-fill-color: #AAA;\n",
              "      --disabled-bg-color: #DDD;\n",
              "  }\n",
              "\n",
              "  [theme=dark] .colab-df-quickchart {\n",
              "      --bg-color: #3B4455;\n",
              "      --fill-color: #D2E3FC;\n",
              "      --hover-bg-color: #434B5C;\n",
              "      --hover-fill-color: #FFFFFF;\n",
              "      --disabled-bg-color: #3B4455;\n",
              "      --disabled-fill-color: #666;\n",
              "  }\n",
              "\n",
              "  .colab-df-quickchart {\n",
              "    background-color: var(--bg-color);\n",
              "    border: none;\n",
              "    border-radius: 50%;\n",
              "    cursor: pointer;\n",
              "    display: none;\n",
              "    fill: var(--fill-color);\n",
              "    height: 32px;\n",
              "    padding: 0;\n",
              "    width: 32px;\n",
              "  }\n",
              "\n",
              "  .colab-df-quickchart:hover {\n",
              "    background-color: var(--hover-bg-color);\n",
              "    box-shadow: 0 1px 2px rgba(60, 64, 67, 0.3), 0 1px 3px 1px rgba(60, 64, 67, 0.15);\n",
              "    fill: var(--button-hover-fill-color);\n",
              "  }\n",
              "\n",
              "  .colab-df-quickchart-complete:disabled,\n",
              "  .colab-df-quickchart-complete:disabled:hover {\n",
              "    background-color: var(--disabled-bg-color);\n",
              "    fill: var(--disabled-fill-color);\n",
              "    box-shadow: none;\n",
              "  }\n",
              "\n",
              "  .colab-df-spinner {\n",
              "    border: 2px solid var(--fill-color);\n",
              "    border-color: transparent;\n",
              "    border-bottom-color: var(--fill-color);\n",
              "    animation:\n",
              "      spin 1s steps(1) infinite;\n",
              "  }\n",
              "\n",
              "  @keyframes spin {\n",
              "    0% {\n",
              "      border-color: transparent;\n",
              "      border-bottom-color: var(--fill-color);\n",
              "      border-left-color: var(--fill-color);\n",
              "    }\n",
              "    20% {\n",
              "      border-color: transparent;\n",
              "      border-left-color: var(--fill-color);\n",
              "      border-top-color: var(--fill-color);\n",
              "    }\n",
              "    30% {\n",
              "      border-color: transparent;\n",
              "      border-left-color: var(--fill-color);\n",
              "      border-top-color: var(--fill-color);\n",
              "      border-right-color: var(--fill-color);\n",
              "    }\n",
              "    40% {\n",
              "      border-color: transparent;\n",
              "      border-right-color: var(--fill-color);\n",
              "      border-top-color: var(--fill-color);\n",
              "    }\n",
              "    60% {\n",
              "      border-color: transparent;\n",
              "      border-right-color: var(--fill-color);\n",
              "    }\n",
              "    80% {\n",
              "      border-color: transparent;\n",
              "      border-right-color: var(--fill-color);\n",
              "      border-bottom-color: var(--fill-color);\n",
              "    }\n",
              "    90% {\n",
              "      border-color: transparent;\n",
              "      border-bottom-color: var(--fill-color);\n",
              "    }\n",
              "  }\n",
              "</style>\n",
              "\n",
              "  <script>\n",
              "    async function quickchart(key) {\n",
              "      const quickchartButtonEl =\n",
              "        document.querySelector('#' + key + ' button');\n",
              "      quickchartButtonEl.disabled = true;  // To prevent multiple clicks.\n",
              "      quickchartButtonEl.classList.add('colab-df-spinner');\n",
              "      try {\n",
              "        const charts = await google.colab.kernel.invokeFunction(\n",
              "            'suggestCharts', [key], {});\n",
              "      } catch (error) {\n",
              "        console.error('Error during call to suggestCharts:', error);\n",
              "      }\n",
              "      quickchartButtonEl.classList.remove('colab-df-spinner');\n",
              "      quickchartButtonEl.classList.add('colab-df-quickchart-complete');\n",
              "    }\n",
              "    (() => {\n",
              "      let quickchartButtonEl =\n",
              "        document.querySelector('#df-05219840-5712-478b-8f97-25341f8c7fc2 button');\n",
              "      quickchartButtonEl.style.display =\n",
              "        google.colab.kernel.accessAllowed ? 'block' : 'none';\n",
              "    })();\n",
              "  </script>\n",
              "</div>\n",
              "    </div>\n",
              "  </div>\n"
            ]
          },
          "metadata": {},
          "execution_count": 33
        }
      ]
    },
    {
      "cell_type": "code",
      "source": [
        "# if we want to know only the unknowns\n",
        "unknown_count = campaign.eq('unknown').sum().to_frame('Count')\n",
        "unknown_count\n",
        "# do we want to keep uknowns?"
      ],
      "metadata": {
        "id": "rsCCkdkseuS7",
        "colab": {
          "base_uri": "https://localhost:8080/",
          "height": 677
        },
        "outputId": "bf204ab5-e443-4c2a-84af-268d32dd310b"
      },
      "execution_count": 34,
      "outputs": [
        {
          "output_type": "execute_result",
          "data": {
            "text/plain": [
              "                Count\n",
              "age                 0\n",
              "job               291\n",
              "marital            68\n",
              "education        1498\n",
              "default          7454\n",
              "housing           885\n",
              "loan              885\n",
              "contact             0\n",
              "month               0\n",
              "day_of_week         0\n",
              "campaign            0\n",
              "pdays               0\n",
              "previous            0\n",
              "poutcome            0\n",
              "emp.var.rate        0\n",
              "cons.price.idx      0\n",
              "cons.conf.idx       0\n",
              "euribor3m           0\n",
              "nr.employed         0\n",
              "y                   0"
            ],
            "text/html": [
              "\n",
              "  <div id=\"df-c909f0a8-e715-46c8-af2a-fa103a2c51be\" class=\"colab-df-container\">\n",
              "    <div>\n",
              "<style scoped>\n",
              "    .dataframe tbody tr th:only-of-type {\n",
              "        vertical-align: middle;\n",
              "    }\n",
              "\n",
              "    .dataframe tbody tr th {\n",
              "        vertical-align: top;\n",
              "    }\n",
              "\n",
              "    .dataframe thead th {\n",
              "        text-align: right;\n",
              "    }\n",
              "</style>\n",
              "<table border=\"1\" class=\"dataframe\">\n",
              "  <thead>\n",
              "    <tr style=\"text-align: right;\">\n",
              "      <th></th>\n",
              "      <th>Count</th>\n",
              "    </tr>\n",
              "  </thead>\n",
              "  <tbody>\n",
              "    <tr>\n",
              "      <th>age</th>\n",
              "      <td>0</td>\n",
              "    </tr>\n",
              "    <tr>\n",
              "      <th>job</th>\n",
              "      <td>291</td>\n",
              "    </tr>\n",
              "    <tr>\n",
              "      <th>marital</th>\n",
              "      <td>68</td>\n",
              "    </tr>\n",
              "    <tr>\n",
              "      <th>education</th>\n",
              "      <td>1498</td>\n",
              "    </tr>\n",
              "    <tr>\n",
              "      <th>default</th>\n",
              "      <td>7454</td>\n",
              "    </tr>\n",
              "    <tr>\n",
              "      <th>housing</th>\n",
              "      <td>885</td>\n",
              "    </tr>\n",
              "    <tr>\n",
              "      <th>loan</th>\n",
              "      <td>885</td>\n",
              "    </tr>\n",
              "    <tr>\n",
              "      <th>contact</th>\n",
              "      <td>0</td>\n",
              "    </tr>\n",
              "    <tr>\n",
              "      <th>month</th>\n",
              "      <td>0</td>\n",
              "    </tr>\n",
              "    <tr>\n",
              "      <th>day_of_week</th>\n",
              "      <td>0</td>\n",
              "    </tr>\n",
              "    <tr>\n",
              "      <th>campaign</th>\n",
              "      <td>0</td>\n",
              "    </tr>\n",
              "    <tr>\n",
              "      <th>pdays</th>\n",
              "      <td>0</td>\n",
              "    </tr>\n",
              "    <tr>\n",
              "      <th>previous</th>\n",
              "      <td>0</td>\n",
              "    </tr>\n",
              "    <tr>\n",
              "      <th>poutcome</th>\n",
              "      <td>0</td>\n",
              "    </tr>\n",
              "    <tr>\n",
              "      <th>emp.var.rate</th>\n",
              "      <td>0</td>\n",
              "    </tr>\n",
              "    <tr>\n",
              "      <th>cons.price.idx</th>\n",
              "      <td>0</td>\n",
              "    </tr>\n",
              "    <tr>\n",
              "      <th>cons.conf.idx</th>\n",
              "      <td>0</td>\n",
              "    </tr>\n",
              "    <tr>\n",
              "      <th>euribor3m</th>\n",
              "      <td>0</td>\n",
              "    </tr>\n",
              "    <tr>\n",
              "      <th>nr.employed</th>\n",
              "      <td>0</td>\n",
              "    </tr>\n",
              "    <tr>\n",
              "      <th>y</th>\n",
              "      <td>0</td>\n",
              "    </tr>\n",
              "  </tbody>\n",
              "</table>\n",
              "</div>\n",
              "    <div class=\"colab-df-buttons\">\n",
              "\n",
              "  <div class=\"colab-df-container\">\n",
              "    <button class=\"colab-df-convert\" onclick=\"convertToInteractive('df-c909f0a8-e715-46c8-af2a-fa103a2c51be')\"\n",
              "            title=\"Convert this dataframe to an interactive table.\"\n",
              "            style=\"display:none;\">\n",
              "\n",
              "  <svg xmlns=\"http://www.w3.org/2000/svg\" height=\"24px\" viewBox=\"0 -960 960 960\">\n",
              "    <path d=\"M120-120v-720h720v720H120Zm60-500h600v-160H180v160Zm220 220h160v-160H400v160Zm0 220h160v-160H400v160ZM180-400h160v-160H180v160Zm440 0h160v-160H620v160ZM180-180h160v-160H180v160Zm440 0h160v-160H620v160Z\"/>\n",
              "  </svg>\n",
              "    </button>\n",
              "\n",
              "  <style>\n",
              "    .colab-df-container {\n",
              "      display:flex;\n",
              "      gap: 12px;\n",
              "    }\n",
              "\n",
              "    .colab-df-convert {\n",
              "      background-color: #E8F0FE;\n",
              "      border: none;\n",
              "      border-radius: 50%;\n",
              "      cursor: pointer;\n",
              "      display: none;\n",
              "      fill: #1967D2;\n",
              "      height: 32px;\n",
              "      padding: 0 0 0 0;\n",
              "      width: 32px;\n",
              "    }\n",
              "\n",
              "    .colab-df-convert:hover {\n",
              "      background-color: #E2EBFA;\n",
              "      box-shadow: 0px 1px 2px rgba(60, 64, 67, 0.3), 0px 1px 3px 1px rgba(60, 64, 67, 0.15);\n",
              "      fill: #174EA6;\n",
              "    }\n",
              "\n",
              "    .colab-df-buttons div {\n",
              "      margin-bottom: 4px;\n",
              "    }\n",
              "\n",
              "    [theme=dark] .colab-df-convert {\n",
              "      background-color: #3B4455;\n",
              "      fill: #D2E3FC;\n",
              "    }\n",
              "\n",
              "    [theme=dark] .colab-df-convert:hover {\n",
              "      background-color: #434B5C;\n",
              "      box-shadow: 0px 1px 3px 1px rgba(0, 0, 0, 0.15);\n",
              "      filter: drop-shadow(0px 1px 2px rgba(0, 0, 0, 0.3));\n",
              "      fill: #FFFFFF;\n",
              "    }\n",
              "  </style>\n",
              "\n",
              "    <script>\n",
              "      const buttonEl =\n",
              "        document.querySelector('#df-c909f0a8-e715-46c8-af2a-fa103a2c51be button.colab-df-convert');\n",
              "      buttonEl.style.display =\n",
              "        google.colab.kernel.accessAllowed ? 'block' : 'none';\n",
              "\n",
              "      async function convertToInteractive(key) {\n",
              "        const element = document.querySelector('#df-c909f0a8-e715-46c8-af2a-fa103a2c51be');\n",
              "        const dataTable =\n",
              "          await google.colab.kernel.invokeFunction('convertToInteractive',\n",
              "                                                    [key], {});\n",
              "        if (!dataTable) return;\n",
              "\n",
              "        const docLinkHtml = 'Like what you see? Visit the ' +\n",
              "          '<a target=\"_blank\" href=https://colab.research.google.com/notebooks/data_table.ipynb>data table notebook</a>'\n",
              "          + ' to learn more about interactive tables.';\n",
              "        element.innerHTML = '';\n",
              "        dataTable['output_type'] = 'display_data';\n",
              "        await google.colab.output.renderOutput(dataTable, element);\n",
              "        const docLink = document.createElement('div');\n",
              "        docLink.innerHTML = docLinkHtml;\n",
              "        element.appendChild(docLink);\n",
              "      }\n",
              "    </script>\n",
              "  </div>\n",
              "\n",
              "\n",
              "<div id=\"df-2fc79aeb-671e-4d9b-b10e-c11abcdbec58\">\n",
              "  <button class=\"colab-df-quickchart\" onclick=\"quickchart('df-2fc79aeb-671e-4d9b-b10e-c11abcdbec58')\"\n",
              "            title=\"Suggest charts\"\n",
              "            style=\"display:none;\">\n",
              "\n",
              "<svg xmlns=\"http://www.w3.org/2000/svg\" height=\"24px\"viewBox=\"0 0 24 24\"\n",
              "     width=\"24px\">\n",
              "    <g>\n",
              "        <path d=\"M19 3H5c-1.1 0-2 .9-2 2v14c0 1.1.9 2 2 2h14c1.1 0 2-.9 2-2V5c0-1.1-.9-2-2-2zM9 17H7v-7h2v7zm4 0h-2V7h2v10zm4 0h-2v-4h2v4z\"/>\n",
              "    </g>\n",
              "</svg>\n",
              "  </button>\n",
              "\n",
              "<style>\n",
              "  .colab-df-quickchart {\n",
              "      --bg-color: #E8F0FE;\n",
              "      --fill-color: #1967D2;\n",
              "      --hover-bg-color: #E2EBFA;\n",
              "      --hover-fill-color: #174EA6;\n",
              "      --disabled-fill-color: #AAA;\n",
              "      --disabled-bg-color: #DDD;\n",
              "  }\n",
              "\n",
              "  [theme=dark] .colab-df-quickchart {\n",
              "      --bg-color: #3B4455;\n",
              "      --fill-color: #D2E3FC;\n",
              "      --hover-bg-color: #434B5C;\n",
              "      --hover-fill-color: #FFFFFF;\n",
              "      --disabled-bg-color: #3B4455;\n",
              "      --disabled-fill-color: #666;\n",
              "  }\n",
              "\n",
              "  .colab-df-quickchart {\n",
              "    background-color: var(--bg-color);\n",
              "    border: none;\n",
              "    border-radius: 50%;\n",
              "    cursor: pointer;\n",
              "    display: none;\n",
              "    fill: var(--fill-color);\n",
              "    height: 32px;\n",
              "    padding: 0;\n",
              "    width: 32px;\n",
              "  }\n",
              "\n",
              "  .colab-df-quickchart:hover {\n",
              "    background-color: var(--hover-bg-color);\n",
              "    box-shadow: 0 1px 2px rgba(60, 64, 67, 0.3), 0 1px 3px 1px rgba(60, 64, 67, 0.15);\n",
              "    fill: var(--button-hover-fill-color);\n",
              "  }\n",
              "\n",
              "  .colab-df-quickchart-complete:disabled,\n",
              "  .colab-df-quickchart-complete:disabled:hover {\n",
              "    background-color: var(--disabled-bg-color);\n",
              "    fill: var(--disabled-fill-color);\n",
              "    box-shadow: none;\n",
              "  }\n",
              "\n",
              "  .colab-df-spinner {\n",
              "    border: 2px solid var(--fill-color);\n",
              "    border-color: transparent;\n",
              "    border-bottom-color: var(--fill-color);\n",
              "    animation:\n",
              "      spin 1s steps(1) infinite;\n",
              "  }\n",
              "\n",
              "  @keyframes spin {\n",
              "    0% {\n",
              "      border-color: transparent;\n",
              "      border-bottom-color: var(--fill-color);\n",
              "      border-left-color: var(--fill-color);\n",
              "    }\n",
              "    20% {\n",
              "      border-color: transparent;\n",
              "      border-left-color: var(--fill-color);\n",
              "      border-top-color: var(--fill-color);\n",
              "    }\n",
              "    30% {\n",
              "      border-color: transparent;\n",
              "      border-left-color: var(--fill-color);\n",
              "      border-top-color: var(--fill-color);\n",
              "      border-right-color: var(--fill-color);\n",
              "    }\n",
              "    40% {\n",
              "      border-color: transparent;\n",
              "      border-right-color: var(--fill-color);\n",
              "      border-top-color: var(--fill-color);\n",
              "    }\n",
              "    60% {\n",
              "      border-color: transparent;\n",
              "      border-right-color: var(--fill-color);\n",
              "    }\n",
              "    80% {\n",
              "      border-color: transparent;\n",
              "      border-right-color: var(--fill-color);\n",
              "      border-bottom-color: var(--fill-color);\n",
              "    }\n",
              "    90% {\n",
              "      border-color: transparent;\n",
              "      border-bottom-color: var(--fill-color);\n",
              "    }\n",
              "  }\n",
              "</style>\n",
              "\n",
              "  <script>\n",
              "    async function quickchart(key) {\n",
              "      const quickchartButtonEl =\n",
              "        document.querySelector('#' + key + ' button');\n",
              "      quickchartButtonEl.disabled = true;  // To prevent multiple clicks.\n",
              "      quickchartButtonEl.classList.add('colab-df-spinner');\n",
              "      try {\n",
              "        const charts = await google.colab.kernel.invokeFunction(\n",
              "            'suggestCharts', [key], {});\n",
              "      } catch (error) {\n",
              "        console.error('Error during call to suggestCharts:', error);\n",
              "      }\n",
              "      quickchartButtonEl.classList.remove('colab-df-spinner');\n",
              "      quickchartButtonEl.classList.add('colab-df-quickchart-complete');\n",
              "    }\n",
              "    (() => {\n",
              "      let quickchartButtonEl =\n",
              "        document.querySelector('#df-2fc79aeb-671e-4d9b-b10e-c11abcdbec58 button');\n",
              "      quickchartButtonEl.style.display =\n",
              "        google.colab.kernel.accessAllowed ? 'block' : 'none';\n",
              "    })();\n",
              "  </script>\n",
              "</div>\n",
              "    </div>\n",
              "  </div>\n"
            ]
          },
          "metadata": {},
          "execution_count": 34
        }
      ]
    },
    {
      "cell_type": "code",
      "source": [
        "campaign[campaign['marital'] == \"unknown\"]\n"
      ],
      "metadata": {
        "colab": {
          "base_uri": "https://localhost:8080/",
          "height": 444
        },
        "id": "0QzpyM_MkSFR",
        "outputId": "fca06dcd-078d-48f3-9ace-054c9adef621"
      },
      "execution_count": 35,
      "outputs": [
        {
          "output_type": "execute_result",
          "data": {
            "text/plain": [
              "       age           job  marital          education  default housing  \\\n",
              "352     59       retired  unknown  university.degree  unknown      no   \n",
              "373     57       retired  unknown           basic.4y       no      no   \n",
              "1345    33      services  unknown        high.school       no     yes   \n",
              "1445    32       unknown  unknown  university.degree       no      no   \n",
              "3132    37    management  unknown        high.school       no      no   \n",
              "...    ...           ...      ...                ...      ...     ...   \n",
              "34685   31  entrepreneur  unknown  university.degree       no      no   \n",
              "34709   31  entrepreneur  unknown  university.degree       no     yes   \n",
              "35383   30    technician  unknown  university.degree       no      no   \n",
              "35384   30    technician  unknown  university.degree       no      no   \n",
              "36765   30    technician  unknown  university.degree       no      no   \n",
              "\n",
              "      loan    contact month day_of_week  campaign  pdays  previous  \\\n",
              "352     no  telephone   may         tue         1    999         0   \n",
              "373     no  telephone   may         tue         1    999         0   \n",
              "1345   yes  telephone   may         thu         2    999         0   \n",
              "1445    no  telephone   may         fri         4    999         0   \n",
              "3132    no  telephone   may         thu         6    999         0   \n",
              "...    ...        ...   ...         ...       ...    ...       ...   \n",
              "34685   no   cellular   oct         thu         1    999         0   \n",
              "34709   no  telephone   oct         thu         4    999         1   \n",
              "35383   no   cellular   mar         mon         2     11         2   \n",
              "35384   no   cellular   mar         mon         2      6         2   \n",
              "36765   no   cellular   oct         fri         2     16         1   \n",
              "\n",
              "          poutcome  emp.var.rate  cons.price.idx  cons.conf.idx  \\\n",
              "352    nonexistent           1.1          93.994          -36.4   \n",
              "373    nonexistent           1.1          93.994          -36.4   \n",
              "1345   nonexistent           1.1          93.994          -36.4   \n",
              "1445   nonexistent           1.1          93.994          -36.4   \n",
              "3132   nonexistent           1.1          93.994          -36.4   \n",
              "...            ...           ...             ...            ...   \n",
              "34685  nonexistent          -3.4          92.431          -26.9   \n",
              "34709      failure          -3.4          92.431          -26.9   \n",
              "35383      success          -1.8          93.369          -34.8   \n",
              "35384      success          -1.8          93.369          -34.8   \n",
              "36765      success          -1.1          94.601          -49.5   \n",
              "\n",
              "       euribor3m  nr.employed    y  \n",
              "352        4.857       5191.0   no  \n",
              "373        4.857       5191.0   no  \n",
              "1345       4.855       5191.0   no  \n",
              "1445       4.855       5191.0  yes  \n",
              "3132       4.860       5191.0   no  \n",
              "...          ...          ...  ...  \n",
              "34685      0.722       5017.5  yes  \n",
              "34709      0.722       5017.5   no  \n",
              "35383      0.639       5008.7  yes  \n",
              "35384      0.639       5008.7  yes  \n",
              "36765      0.942       4963.6   no  \n",
              "\n",
              "[68 rows x 20 columns]"
            ],
            "text/html": [
              "\n",
              "  <div id=\"df-ccbb9f4d-ed00-49a4-bc86-1a21589d04a7\" class=\"colab-df-container\">\n",
              "    <div>\n",
              "<style scoped>\n",
              "    .dataframe tbody tr th:only-of-type {\n",
              "        vertical-align: middle;\n",
              "    }\n",
              "\n",
              "    .dataframe tbody tr th {\n",
              "        vertical-align: top;\n",
              "    }\n",
              "\n",
              "    .dataframe thead th {\n",
              "        text-align: right;\n",
              "    }\n",
              "</style>\n",
              "<table border=\"1\" class=\"dataframe\">\n",
              "  <thead>\n",
              "    <tr style=\"text-align: right;\">\n",
              "      <th></th>\n",
              "      <th>age</th>\n",
              "      <th>job</th>\n",
              "      <th>marital</th>\n",
              "      <th>education</th>\n",
              "      <th>default</th>\n",
              "      <th>housing</th>\n",
              "      <th>loan</th>\n",
              "      <th>contact</th>\n",
              "      <th>month</th>\n",
              "      <th>day_of_week</th>\n",
              "      <th>campaign</th>\n",
              "      <th>pdays</th>\n",
              "      <th>previous</th>\n",
              "      <th>poutcome</th>\n",
              "      <th>emp.var.rate</th>\n",
              "      <th>cons.price.idx</th>\n",
              "      <th>cons.conf.idx</th>\n",
              "      <th>euribor3m</th>\n",
              "      <th>nr.employed</th>\n",
              "      <th>y</th>\n",
              "    </tr>\n",
              "  </thead>\n",
              "  <tbody>\n",
              "    <tr>\n",
              "      <th>352</th>\n",
              "      <td>59</td>\n",
              "      <td>retired</td>\n",
              "      <td>unknown</td>\n",
              "      <td>university.degree</td>\n",
              "      <td>unknown</td>\n",
              "      <td>no</td>\n",
              "      <td>no</td>\n",
              "      <td>telephone</td>\n",
              "      <td>may</td>\n",
              "      <td>tue</td>\n",
              "      <td>1</td>\n",
              "      <td>999</td>\n",
              "      <td>0</td>\n",
              "      <td>nonexistent</td>\n",
              "      <td>1.1</td>\n",
              "      <td>93.994</td>\n",
              "      <td>-36.4</td>\n",
              "      <td>4.857</td>\n",
              "      <td>5191.0</td>\n",
              "      <td>no</td>\n",
              "    </tr>\n",
              "    <tr>\n",
              "      <th>373</th>\n",
              "      <td>57</td>\n",
              "      <td>retired</td>\n",
              "      <td>unknown</td>\n",
              "      <td>basic.4y</td>\n",
              "      <td>no</td>\n",
              "      <td>no</td>\n",
              "      <td>no</td>\n",
              "      <td>telephone</td>\n",
              "      <td>may</td>\n",
              "      <td>tue</td>\n",
              "      <td>1</td>\n",
              "      <td>999</td>\n",
              "      <td>0</td>\n",
              "      <td>nonexistent</td>\n",
              "      <td>1.1</td>\n",
              "      <td>93.994</td>\n",
              "      <td>-36.4</td>\n",
              "      <td>4.857</td>\n",
              "      <td>5191.0</td>\n",
              "      <td>no</td>\n",
              "    </tr>\n",
              "    <tr>\n",
              "      <th>1345</th>\n",
              "      <td>33</td>\n",
              "      <td>services</td>\n",
              "      <td>unknown</td>\n",
              "      <td>high.school</td>\n",
              "      <td>no</td>\n",
              "      <td>yes</td>\n",
              "      <td>yes</td>\n",
              "      <td>telephone</td>\n",
              "      <td>may</td>\n",
              "      <td>thu</td>\n",
              "      <td>2</td>\n",
              "      <td>999</td>\n",
              "      <td>0</td>\n",
              "      <td>nonexistent</td>\n",
              "      <td>1.1</td>\n",
              "      <td>93.994</td>\n",
              "      <td>-36.4</td>\n",
              "      <td>4.855</td>\n",
              "      <td>5191.0</td>\n",
              "      <td>no</td>\n",
              "    </tr>\n",
              "    <tr>\n",
              "      <th>1445</th>\n",
              "      <td>32</td>\n",
              "      <td>unknown</td>\n",
              "      <td>unknown</td>\n",
              "      <td>university.degree</td>\n",
              "      <td>no</td>\n",
              "      <td>no</td>\n",
              "      <td>no</td>\n",
              "      <td>telephone</td>\n",
              "      <td>may</td>\n",
              "      <td>fri</td>\n",
              "      <td>4</td>\n",
              "      <td>999</td>\n",
              "      <td>0</td>\n",
              "      <td>nonexistent</td>\n",
              "      <td>1.1</td>\n",
              "      <td>93.994</td>\n",
              "      <td>-36.4</td>\n",
              "      <td>4.855</td>\n",
              "      <td>5191.0</td>\n",
              "      <td>yes</td>\n",
              "    </tr>\n",
              "    <tr>\n",
              "      <th>3132</th>\n",
              "      <td>37</td>\n",
              "      <td>management</td>\n",
              "      <td>unknown</td>\n",
              "      <td>high.school</td>\n",
              "      <td>no</td>\n",
              "      <td>no</td>\n",
              "      <td>no</td>\n",
              "      <td>telephone</td>\n",
              "      <td>may</td>\n",
              "      <td>thu</td>\n",
              "      <td>6</td>\n",
              "      <td>999</td>\n",
              "      <td>0</td>\n",
              "      <td>nonexistent</td>\n",
              "      <td>1.1</td>\n",
              "      <td>93.994</td>\n",
              "      <td>-36.4</td>\n",
              "      <td>4.860</td>\n",
              "      <td>5191.0</td>\n",
              "      <td>no</td>\n",
              "    </tr>\n",
              "    <tr>\n",
              "      <th>...</th>\n",
              "      <td>...</td>\n",
              "      <td>...</td>\n",
              "      <td>...</td>\n",
              "      <td>...</td>\n",
              "      <td>...</td>\n",
              "      <td>...</td>\n",
              "      <td>...</td>\n",
              "      <td>...</td>\n",
              "      <td>...</td>\n",
              "      <td>...</td>\n",
              "      <td>...</td>\n",
              "      <td>...</td>\n",
              "      <td>...</td>\n",
              "      <td>...</td>\n",
              "      <td>...</td>\n",
              "      <td>...</td>\n",
              "      <td>...</td>\n",
              "      <td>...</td>\n",
              "      <td>...</td>\n",
              "      <td>...</td>\n",
              "    </tr>\n",
              "    <tr>\n",
              "      <th>34685</th>\n",
              "      <td>31</td>\n",
              "      <td>entrepreneur</td>\n",
              "      <td>unknown</td>\n",
              "      <td>university.degree</td>\n",
              "      <td>no</td>\n",
              "      <td>no</td>\n",
              "      <td>no</td>\n",
              "      <td>cellular</td>\n",
              "      <td>oct</td>\n",
              "      <td>thu</td>\n",
              "      <td>1</td>\n",
              "      <td>999</td>\n",
              "      <td>0</td>\n",
              "      <td>nonexistent</td>\n",
              "      <td>-3.4</td>\n",
              "      <td>92.431</td>\n",
              "      <td>-26.9</td>\n",
              "      <td>0.722</td>\n",
              "      <td>5017.5</td>\n",
              "      <td>yes</td>\n",
              "    </tr>\n",
              "    <tr>\n",
              "      <th>34709</th>\n",
              "      <td>31</td>\n",
              "      <td>entrepreneur</td>\n",
              "      <td>unknown</td>\n",
              "      <td>university.degree</td>\n",
              "      <td>no</td>\n",
              "      <td>yes</td>\n",
              "      <td>no</td>\n",
              "      <td>telephone</td>\n",
              "      <td>oct</td>\n",
              "      <td>thu</td>\n",
              "      <td>4</td>\n",
              "      <td>999</td>\n",
              "      <td>1</td>\n",
              "      <td>failure</td>\n",
              "      <td>-3.4</td>\n",
              "      <td>92.431</td>\n",
              "      <td>-26.9</td>\n",
              "      <td>0.722</td>\n",
              "      <td>5017.5</td>\n",
              "      <td>no</td>\n",
              "    </tr>\n",
              "    <tr>\n",
              "      <th>35383</th>\n",
              "      <td>30</td>\n",
              "      <td>technician</td>\n",
              "      <td>unknown</td>\n",
              "      <td>university.degree</td>\n",
              "      <td>no</td>\n",
              "      <td>no</td>\n",
              "      <td>no</td>\n",
              "      <td>cellular</td>\n",
              "      <td>mar</td>\n",
              "      <td>mon</td>\n",
              "      <td>2</td>\n",
              "      <td>11</td>\n",
              "      <td>2</td>\n",
              "      <td>success</td>\n",
              "      <td>-1.8</td>\n",
              "      <td>93.369</td>\n",
              "      <td>-34.8</td>\n",
              "      <td>0.639</td>\n",
              "      <td>5008.7</td>\n",
              "      <td>yes</td>\n",
              "    </tr>\n",
              "    <tr>\n",
              "      <th>35384</th>\n",
              "      <td>30</td>\n",
              "      <td>technician</td>\n",
              "      <td>unknown</td>\n",
              "      <td>university.degree</td>\n",
              "      <td>no</td>\n",
              "      <td>no</td>\n",
              "      <td>no</td>\n",
              "      <td>cellular</td>\n",
              "      <td>mar</td>\n",
              "      <td>mon</td>\n",
              "      <td>2</td>\n",
              "      <td>6</td>\n",
              "      <td>2</td>\n",
              "      <td>success</td>\n",
              "      <td>-1.8</td>\n",
              "      <td>93.369</td>\n",
              "      <td>-34.8</td>\n",
              "      <td>0.639</td>\n",
              "      <td>5008.7</td>\n",
              "      <td>yes</td>\n",
              "    </tr>\n",
              "    <tr>\n",
              "      <th>36765</th>\n",
              "      <td>30</td>\n",
              "      <td>technician</td>\n",
              "      <td>unknown</td>\n",
              "      <td>university.degree</td>\n",
              "      <td>no</td>\n",
              "      <td>no</td>\n",
              "      <td>no</td>\n",
              "      <td>cellular</td>\n",
              "      <td>oct</td>\n",
              "      <td>fri</td>\n",
              "      <td>2</td>\n",
              "      <td>16</td>\n",
              "      <td>1</td>\n",
              "      <td>success</td>\n",
              "      <td>-1.1</td>\n",
              "      <td>94.601</td>\n",
              "      <td>-49.5</td>\n",
              "      <td>0.942</td>\n",
              "      <td>4963.6</td>\n",
              "      <td>no</td>\n",
              "    </tr>\n",
              "  </tbody>\n",
              "</table>\n",
              "<p>68 rows × 20 columns</p>\n",
              "</div>\n",
              "    <div class=\"colab-df-buttons\">\n",
              "\n",
              "  <div class=\"colab-df-container\">\n",
              "    <button class=\"colab-df-convert\" onclick=\"convertToInteractive('df-ccbb9f4d-ed00-49a4-bc86-1a21589d04a7')\"\n",
              "            title=\"Convert this dataframe to an interactive table.\"\n",
              "            style=\"display:none;\">\n",
              "\n",
              "  <svg xmlns=\"http://www.w3.org/2000/svg\" height=\"24px\" viewBox=\"0 -960 960 960\">\n",
              "    <path d=\"M120-120v-720h720v720H120Zm60-500h600v-160H180v160Zm220 220h160v-160H400v160Zm0 220h160v-160H400v160ZM180-400h160v-160H180v160Zm440 0h160v-160H620v160ZM180-180h160v-160H180v160Zm440 0h160v-160H620v160Z\"/>\n",
              "  </svg>\n",
              "    </button>\n",
              "\n",
              "  <style>\n",
              "    .colab-df-container {\n",
              "      display:flex;\n",
              "      gap: 12px;\n",
              "    }\n",
              "\n",
              "    .colab-df-convert {\n",
              "      background-color: #E8F0FE;\n",
              "      border: none;\n",
              "      border-radius: 50%;\n",
              "      cursor: pointer;\n",
              "      display: none;\n",
              "      fill: #1967D2;\n",
              "      height: 32px;\n",
              "      padding: 0 0 0 0;\n",
              "      width: 32px;\n",
              "    }\n",
              "\n",
              "    .colab-df-convert:hover {\n",
              "      background-color: #E2EBFA;\n",
              "      box-shadow: 0px 1px 2px rgba(60, 64, 67, 0.3), 0px 1px 3px 1px rgba(60, 64, 67, 0.15);\n",
              "      fill: #174EA6;\n",
              "    }\n",
              "\n",
              "    .colab-df-buttons div {\n",
              "      margin-bottom: 4px;\n",
              "    }\n",
              "\n",
              "    [theme=dark] .colab-df-convert {\n",
              "      background-color: #3B4455;\n",
              "      fill: #D2E3FC;\n",
              "    }\n",
              "\n",
              "    [theme=dark] .colab-df-convert:hover {\n",
              "      background-color: #434B5C;\n",
              "      box-shadow: 0px 1px 3px 1px rgba(0, 0, 0, 0.15);\n",
              "      filter: drop-shadow(0px 1px 2px rgba(0, 0, 0, 0.3));\n",
              "      fill: #FFFFFF;\n",
              "    }\n",
              "  </style>\n",
              "\n",
              "    <script>\n",
              "      const buttonEl =\n",
              "        document.querySelector('#df-ccbb9f4d-ed00-49a4-bc86-1a21589d04a7 button.colab-df-convert');\n",
              "      buttonEl.style.display =\n",
              "        google.colab.kernel.accessAllowed ? 'block' : 'none';\n",
              "\n",
              "      async function convertToInteractive(key) {\n",
              "        const element = document.querySelector('#df-ccbb9f4d-ed00-49a4-bc86-1a21589d04a7');\n",
              "        const dataTable =\n",
              "          await google.colab.kernel.invokeFunction('convertToInteractive',\n",
              "                                                    [key], {});\n",
              "        if (!dataTable) return;\n",
              "\n",
              "        const docLinkHtml = 'Like what you see? Visit the ' +\n",
              "          '<a target=\"_blank\" href=https://colab.research.google.com/notebooks/data_table.ipynb>data table notebook</a>'\n",
              "          + ' to learn more about interactive tables.';\n",
              "        element.innerHTML = '';\n",
              "        dataTable['output_type'] = 'display_data';\n",
              "        await google.colab.output.renderOutput(dataTable, element);\n",
              "        const docLink = document.createElement('div');\n",
              "        docLink.innerHTML = docLinkHtml;\n",
              "        element.appendChild(docLink);\n",
              "      }\n",
              "    </script>\n",
              "  </div>\n",
              "\n",
              "\n",
              "<div id=\"df-228598b8-15c0-43f6-bb97-a2ddf705f618\">\n",
              "  <button class=\"colab-df-quickchart\" onclick=\"quickchart('df-228598b8-15c0-43f6-bb97-a2ddf705f618')\"\n",
              "            title=\"Suggest charts\"\n",
              "            style=\"display:none;\">\n",
              "\n",
              "<svg xmlns=\"http://www.w3.org/2000/svg\" height=\"24px\"viewBox=\"0 0 24 24\"\n",
              "     width=\"24px\">\n",
              "    <g>\n",
              "        <path d=\"M19 3H5c-1.1 0-2 .9-2 2v14c0 1.1.9 2 2 2h14c1.1 0 2-.9 2-2V5c0-1.1-.9-2-2-2zM9 17H7v-7h2v7zm4 0h-2V7h2v10zm4 0h-2v-4h2v4z\"/>\n",
              "    </g>\n",
              "</svg>\n",
              "  </button>\n",
              "\n",
              "<style>\n",
              "  .colab-df-quickchart {\n",
              "      --bg-color: #E8F0FE;\n",
              "      --fill-color: #1967D2;\n",
              "      --hover-bg-color: #E2EBFA;\n",
              "      --hover-fill-color: #174EA6;\n",
              "      --disabled-fill-color: #AAA;\n",
              "      --disabled-bg-color: #DDD;\n",
              "  }\n",
              "\n",
              "  [theme=dark] .colab-df-quickchart {\n",
              "      --bg-color: #3B4455;\n",
              "      --fill-color: #D2E3FC;\n",
              "      --hover-bg-color: #434B5C;\n",
              "      --hover-fill-color: #FFFFFF;\n",
              "      --disabled-bg-color: #3B4455;\n",
              "      --disabled-fill-color: #666;\n",
              "  }\n",
              "\n",
              "  .colab-df-quickchart {\n",
              "    background-color: var(--bg-color);\n",
              "    border: none;\n",
              "    border-radius: 50%;\n",
              "    cursor: pointer;\n",
              "    display: none;\n",
              "    fill: var(--fill-color);\n",
              "    height: 32px;\n",
              "    padding: 0;\n",
              "    width: 32px;\n",
              "  }\n",
              "\n",
              "  .colab-df-quickchart:hover {\n",
              "    background-color: var(--hover-bg-color);\n",
              "    box-shadow: 0 1px 2px rgba(60, 64, 67, 0.3), 0 1px 3px 1px rgba(60, 64, 67, 0.15);\n",
              "    fill: var(--button-hover-fill-color);\n",
              "  }\n",
              "\n",
              "  .colab-df-quickchart-complete:disabled,\n",
              "  .colab-df-quickchart-complete:disabled:hover {\n",
              "    background-color: var(--disabled-bg-color);\n",
              "    fill: var(--disabled-fill-color);\n",
              "    box-shadow: none;\n",
              "  }\n",
              "\n",
              "  .colab-df-spinner {\n",
              "    border: 2px solid var(--fill-color);\n",
              "    border-color: transparent;\n",
              "    border-bottom-color: var(--fill-color);\n",
              "    animation:\n",
              "      spin 1s steps(1) infinite;\n",
              "  }\n",
              "\n",
              "  @keyframes spin {\n",
              "    0% {\n",
              "      border-color: transparent;\n",
              "      border-bottom-color: var(--fill-color);\n",
              "      border-left-color: var(--fill-color);\n",
              "    }\n",
              "    20% {\n",
              "      border-color: transparent;\n",
              "      border-left-color: var(--fill-color);\n",
              "      border-top-color: var(--fill-color);\n",
              "    }\n",
              "    30% {\n",
              "      border-color: transparent;\n",
              "      border-left-color: var(--fill-color);\n",
              "      border-top-color: var(--fill-color);\n",
              "      border-right-color: var(--fill-color);\n",
              "    }\n",
              "    40% {\n",
              "      border-color: transparent;\n",
              "      border-right-color: var(--fill-color);\n",
              "      border-top-color: var(--fill-color);\n",
              "    }\n",
              "    60% {\n",
              "      border-color: transparent;\n",
              "      border-right-color: var(--fill-color);\n",
              "    }\n",
              "    80% {\n",
              "      border-color: transparent;\n",
              "      border-right-color: var(--fill-color);\n",
              "      border-bottom-color: var(--fill-color);\n",
              "    }\n",
              "    90% {\n",
              "      border-color: transparent;\n",
              "      border-bottom-color: var(--fill-color);\n",
              "    }\n",
              "  }\n",
              "</style>\n",
              "\n",
              "  <script>\n",
              "    async function quickchart(key) {\n",
              "      const quickchartButtonEl =\n",
              "        document.querySelector('#' + key + ' button');\n",
              "      quickchartButtonEl.disabled = true;  // To prevent multiple clicks.\n",
              "      quickchartButtonEl.classList.add('colab-df-spinner');\n",
              "      try {\n",
              "        const charts = await google.colab.kernel.invokeFunction(\n",
              "            'suggestCharts', [key], {});\n",
              "      } catch (error) {\n",
              "        console.error('Error during call to suggestCharts:', error);\n",
              "      }\n",
              "      quickchartButtonEl.classList.remove('colab-df-spinner');\n",
              "      quickchartButtonEl.classList.add('colab-df-quickchart-complete');\n",
              "    }\n",
              "    (() => {\n",
              "      let quickchartButtonEl =\n",
              "        document.querySelector('#df-228598b8-15c0-43f6-bb97-a2ddf705f618 button');\n",
              "      quickchartButtonEl.style.display =\n",
              "        google.colab.kernel.accessAllowed ? 'block' : 'none';\n",
              "    })();\n",
              "  </script>\n",
              "</div>\n",
              "    </div>\n",
              "  </div>\n"
            ]
          },
          "metadata": {},
          "execution_count": 35
        }
      ]
    },
    {
      "cell_type": "code",
      "source": [
        "campaign.drop(campaign[campaign['marital']== \"unknown\"].index, inplace=True)\n",
        "campaign.shape"
      ],
      "metadata": {
        "colab": {
          "base_uri": "https://localhost:8080/"
        },
        "id": "Zg7b7u3gks7V",
        "outputId": "2c1b6b22-3cee-485a-cc0a-bc49abcfd5de"
      },
      "execution_count": 36,
      "outputs": [
        {
          "output_type": "execute_result",
          "data": {
            "text/plain": [
              "(35514, 20)"
            ]
          },
          "metadata": {},
          "execution_count": 36
        }
      ]
    },
    {
      "cell_type": "code",
      "source": [
        "campaign[campaign['default'] == \"yes\"].shape"
      ],
      "metadata": {
        "colab": {
          "base_uri": "https://localhost:8080/"
        },
        "id": "g3chhYzHk8lO",
        "outputId": "e032f522-844c-4501-b3d0-3a4755ca1b27"
      },
      "execution_count": 37,
      "outputs": [
        {
          "output_type": "execute_result",
          "data": {
            "text/plain": [
              "(3, 20)"
            ]
          },
          "metadata": {},
          "execution_count": 37
        }
      ]
    },
    {
      "cell_type": "code",
      "source": [
        "# Identify features\n",
        "#Checking out the categories and their respective counts in each feature - running it through a for loop\n",
        "for col in campaign.select_dtypes(include='object').columns:\n",
        "    print(col, \"column\")\n",
        "    print(\"Number of unique:\", campaign[col].nunique())\n",
        "    print(campaign[col].value_counts(), '\\n')"
      ],
      "metadata": {
        "colab": {
          "base_uri": "https://localhost:8080/"
        },
        "id": "fLrkOfu5ePPh",
        "outputId": "dd22fe40-6428-41a8-bcca-034f8538f57b"
      },
      "execution_count": 38,
      "outputs": [
        {
          "output_type": "stream",
          "name": "stdout",
          "text": [
            "job column\n",
            "Number of unique: 12\n",
            "admin.           8936\n",
            "blue-collar      7965\n",
            "technician       5767\n",
            "services         3400\n",
            "management       2558\n",
            "retired          1498\n",
            "entrepreneur     1267\n",
            "self-employed    1241\n",
            "housemaid         937\n",
            "unemployed        889\n",
            "student           772\n",
            "unknown           284\n",
            "Name: job, dtype: int64 \n",
            "\n",
            "marital column\n",
            "Number of unique: 3\n",
            "married     21581\n",
            "single       9925\n",
            "divorced     4008\n",
            "Name: marital, dtype: int64 \n",
            "\n",
            "education column\n",
            "Number of unique: 8\n",
            "university.degree      10408\n",
            "high.school             8221\n",
            "basic.9y                5198\n",
            "professional.course     4549\n",
            "basic.4y                3614\n",
            "basic.6y                2018\n",
            "unknown                 1490\n",
            "illiterate                16\n",
            "Name: education, dtype: int64 \n",
            "\n",
            "default column\n",
            "Number of unique: 3\n",
            "no         28068\n",
            "unknown     7443\n",
            "yes            3\n",
            "Name: default, dtype: int64 \n",
            "\n",
            "housing column\n",
            "Number of unique: 3\n",
            "yes        18606\n",
            "no         16024\n",
            "unknown      884\n",
            "Name: housing, dtype: int64 \n",
            "\n",
            "loan column\n",
            "Number of unique: 3\n",
            "no         29113\n",
            "yes         5517\n",
            "unknown      884\n",
            "Name: loan, dtype: int64 \n",
            "\n",
            "contact column\n",
            "Number of unique: 2\n",
            "cellular     22246\n",
            "telephone    13268\n",
            "Name: contact, dtype: int64 \n",
            "\n",
            "month column\n",
            "Number of unique: 10\n",
            "may    11969\n",
            "jul     6049\n",
            "aug     5152\n",
            "jun     4742\n",
            "nov     3529\n",
            "apr     2291\n",
            "oct      643\n",
            "sep      503\n",
            "mar      479\n",
            "dec      157\n",
            "Name: month, dtype: int64 \n",
            "\n",
            "day_of_week column\n",
            "Number of unique: 5\n",
            "mon    7373\n",
            "thu    7366\n",
            "wed    7020\n",
            "tue    6951\n",
            "fri    6804\n",
            "Name: day_of_week, dtype: int64 \n",
            "\n",
            "poutcome column\n",
            "Number of unique: 3\n",
            "nonexistent    30509\n",
            "failure         3772\n",
            "success         1233\n",
            "Name: poutcome, dtype: int64 \n",
            "\n",
            "y column\n",
            "Number of unique: 2\n",
            "no     31347\n",
            "yes     4167\n",
            "Name: y, dtype: int64 \n",
            "\n"
          ]
        }
      ]
    },
    {
      "cell_type": "code",
      "source": [
        "# default means we do not want them to subscribe\n",
        "#pd.crosstabl(c['default'],c['y'])"
      ],
      "metadata": {
        "id": "9KJUptCVnpxp"
      },
      "execution_count": null,
      "outputs": []
    },
    {
      "cell_type": "markdown",
      "source": [
        "Does the data have any null values\n",
        "\n",
        "If there are null h.replace('unknown',np.NaN,inplace=True)"
      ],
      "metadata": {
        "id": "Cbr0lIxKn-0C"
      }
    },
    {
      "cell_type": "code",
      "source": [
        "#campaign[\"education\"]=campaign[\"education\"].replace([\"illiterate\",\"basic.4y\",\"basic.6y\",\"basic.9y\",\"high.school\",\"professional.course\",\"university.degree\"],[1,2,3,4,5,6,7])\n",
        "#campaign[\"education\"].value_counts()\n",
        "#campaign = pd.get_dummies(campaign,prefix=[\"job\"],columns=[\"job\"])\n",
        "#campaign = pd.get_dummies(campaign,prefix=[\"marital\"],columns=[\"marital\"])\n",
        "#campaign = pd.get_dummies(campaign,prefix=[\"contact\"],columns=[\"contact\"])\n",
        "#campaign[\"job\"] = campaign[\"job\"].replace([\"unemployed\",\"student\",\"services\",\"housemaid\",\"blue-collar\",\"technician\",\"admin.\",\"management\",\"self-employed\",\"entrepreneur\",\"retired\"],[0,1,2,3,4,5,6,7,8,9,10])\n",
        "#campaign[\"job\"].value_counts()\n",
        "#campaign['day_of_week'] = campaign['day_of_week'].replace([\"mon\",\"tue\",\"wed\",\"thu\",\"fri\"],[1,2,3,4,5])\n",
        "#campaign['month'] = campaign['month'].replace([\"jan\",\"feb\",\"mar\",\"apr\", \"may\",\"jun\", \"jul\", \"aug\", \"sep\", \"oct\", \"nov\", \"dec\"],[1,2,3,4,5,6,7,8,9,10,11,12])\n",
        "#print(campaign['day_of_week'].value_counts())\n",
        "#print(campaign['month'].value_counts())\n"
      ],
      "metadata": {
        "id": "QFZlQUihkwRY"
      },
      "execution_count": null,
      "outputs": []
    },
    {
      "cell_type": "code",
      "source": [
        "features_target =['age','month','day_of_week','campaign','y','education','housing' ,'loan','marital', 'contact','job','default']\n",
        "campaign_features_target = campaign[features_target]\n",
        "campaign_features_target.head(3)\n",
        "\n",
        "# we need to condense education"
      ],
      "metadata": {
        "id": "CXF9DsGoQIfc",
        "colab": {
          "base_uri": "https://localhost:8080/",
          "height": 143
        },
        "outputId": "4c9d0b10-00e1-4a11-896c-9fae9a3be470"
      },
      "execution_count": 39,
      "outputs": [
        {
          "output_type": "execute_result",
          "data": {
            "text/plain": [
              "   age month day_of_week  campaign   y    education housing loan  \\\n",
              "0   56   may         mon         1  no     basic.4y      no   no   \n",
              "1   57   may         mon         1  no  high.school      no   no   \n",
              "2   37   may         mon         1  no  high.school     yes   no   \n",
              "\n",
              "   marital    contact        job  default  \n",
              "0  married  telephone  housemaid       no  \n",
              "1  married  telephone   services  unknown  \n",
              "2  married  telephone   services       no  "
            ],
            "text/html": [
              "\n",
              "  <div id=\"df-d6e2ea2b-8808-4110-9a76-c08170fc0af1\" class=\"colab-df-container\">\n",
              "    <div>\n",
              "<style scoped>\n",
              "    .dataframe tbody tr th:only-of-type {\n",
              "        vertical-align: middle;\n",
              "    }\n",
              "\n",
              "    .dataframe tbody tr th {\n",
              "        vertical-align: top;\n",
              "    }\n",
              "\n",
              "    .dataframe thead th {\n",
              "        text-align: right;\n",
              "    }\n",
              "</style>\n",
              "<table border=\"1\" class=\"dataframe\">\n",
              "  <thead>\n",
              "    <tr style=\"text-align: right;\">\n",
              "      <th></th>\n",
              "      <th>age</th>\n",
              "      <th>month</th>\n",
              "      <th>day_of_week</th>\n",
              "      <th>campaign</th>\n",
              "      <th>y</th>\n",
              "      <th>education</th>\n",
              "      <th>housing</th>\n",
              "      <th>loan</th>\n",
              "      <th>marital</th>\n",
              "      <th>contact</th>\n",
              "      <th>job</th>\n",
              "      <th>default</th>\n",
              "    </tr>\n",
              "  </thead>\n",
              "  <tbody>\n",
              "    <tr>\n",
              "      <th>0</th>\n",
              "      <td>56</td>\n",
              "      <td>may</td>\n",
              "      <td>mon</td>\n",
              "      <td>1</td>\n",
              "      <td>no</td>\n",
              "      <td>basic.4y</td>\n",
              "      <td>no</td>\n",
              "      <td>no</td>\n",
              "      <td>married</td>\n",
              "      <td>telephone</td>\n",
              "      <td>housemaid</td>\n",
              "      <td>no</td>\n",
              "    </tr>\n",
              "    <tr>\n",
              "      <th>1</th>\n",
              "      <td>57</td>\n",
              "      <td>may</td>\n",
              "      <td>mon</td>\n",
              "      <td>1</td>\n",
              "      <td>no</td>\n",
              "      <td>high.school</td>\n",
              "      <td>no</td>\n",
              "      <td>no</td>\n",
              "      <td>married</td>\n",
              "      <td>telephone</td>\n",
              "      <td>services</td>\n",
              "      <td>unknown</td>\n",
              "    </tr>\n",
              "    <tr>\n",
              "      <th>2</th>\n",
              "      <td>37</td>\n",
              "      <td>may</td>\n",
              "      <td>mon</td>\n",
              "      <td>1</td>\n",
              "      <td>no</td>\n",
              "      <td>high.school</td>\n",
              "      <td>yes</td>\n",
              "      <td>no</td>\n",
              "      <td>married</td>\n",
              "      <td>telephone</td>\n",
              "      <td>services</td>\n",
              "      <td>no</td>\n",
              "    </tr>\n",
              "  </tbody>\n",
              "</table>\n",
              "</div>\n",
              "    <div class=\"colab-df-buttons\">\n",
              "\n",
              "  <div class=\"colab-df-container\">\n",
              "    <button class=\"colab-df-convert\" onclick=\"convertToInteractive('df-d6e2ea2b-8808-4110-9a76-c08170fc0af1')\"\n",
              "            title=\"Convert this dataframe to an interactive table.\"\n",
              "            style=\"display:none;\">\n",
              "\n",
              "  <svg xmlns=\"http://www.w3.org/2000/svg\" height=\"24px\" viewBox=\"0 -960 960 960\">\n",
              "    <path d=\"M120-120v-720h720v720H120Zm60-500h600v-160H180v160Zm220 220h160v-160H400v160Zm0 220h160v-160H400v160ZM180-400h160v-160H180v160Zm440 0h160v-160H620v160ZM180-180h160v-160H180v160Zm440 0h160v-160H620v160Z\"/>\n",
              "  </svg>\n",
              "    </button>\n",
              "\n",
              "  <style>\n",
              "    .colab-df-container {\n",
              "      display:flex;\n",
              "      gap: 12px;\n",
              "    }\n",
              "\n",
              "    .colab-df-convert {\n",
              "      background-color: #E8F0FE;\n",
              "      border: none;\n",
              "      border-radius: 50%;\n",
              "      cursor: pointer;\n",
              "      display: none;\n",
              "      fill: #1967D2;\n",
              "      height: 32px;\n",
              "      padding: 0 0 0 0;\n",
              "      width: 32px;\n",
              "    }\n",
              "\n",
              "    .colab-df-convert:hover {\n",
              "      background-color: #E2EBFA;\n",
              "      box-shadow: 0px 1px 2px rgba(60, 64, 67, 0.3), 0px 1px 3px 1px rgba(60, 64, 67, 0.15);\n",
              "      fill: #174EA6;\n",
              "    }\n",
              "\n",
              "    .colab-df-buttons div {\n",
              "      margin-bottom: 4px;\n",
              "    }\n",
              "\n",
              "    [theme=dark] .colab-df-convert {\n",
              "      background-color: #3B4455;\n",
              "      fill: #D2E3FC;\n",
              "    }\n",
              "\n",
              "    [theme=dark] .colab-df-convert:hover {\n",
              "      background-color: #434B5C;\n",
              "      box-shadow: 0px 1px 3px 1px rgba(0, 0, 0, 0.15);\n",
              "      filter: drop-shadow(0px 1px 2px rgba(0, 0, 0, 0.3));\n",
              "      fill: #FFFFFF;\n",
              "    }\n",
              "  </style>\n",
              "\n",
              "    <script>\n",
              "      const buttonEl =\n",
              "        document.querySelector('#df-d6e2ea2b-8808-4110-9a76-c08170fc0af1 button.colab-df-convert');\n",
              "      buttonEl.style.display =\n",
              "        google.colab.kernel.accessAllowed ? 'block' : 'none';\n",
              "\n",
              "      async function convertToInteractive(key) {\n",
              "        const element = document.querySelector('#df-d6e2ea2b-8808-4110-9a76-c08170fc0af1');\n",
              "        const dataTable =\n",
              "          await google.colab.kernel.invokeFunction('convertToInteractive',\n",
              "                                                    [key], {});\n",
              "        if (!dataTable) return;\n",
              "\n",
              "        const docLinkHtml = 'Like what you see? Visit the ' +\n",
              "          '<a target=\"_blank\" href=https://colab.research.google.com/notebooks/data_table.ipynb>data table notebook</a>'\n",
              "          + ' to learn more about interactive tables.';\n",
              "        element.innerHTML = '';\n",
              "        dataTable['output_type'] = 'display_data';\n",
              "        await google.colab.output.renderOutput(dataTable, element);\n",
              "        const docLink = document.createElement('div');\n",
              "        docLink.innerHTML = docLinkHtml;\n",
              "        element.appendChild(docLink);\n",
              "      }\n",
              "    </script>\n",
              "  </div>\n",
              "\n",
              "\n",
              "<div id=\"df-df7cd79b-9c52-42ca-8ea3-e11055977781\">\n",
              "  <button class=\"colab-df-quickchart\" onclick=\"quickchart('df-df7cd79b-9c52-42ca-8ea3-e11055977781')\"\n",
              "            title=\"Suggest charts\"\n",
              "            style=\"display:none;\">\n",
              "\n",
              "<svg xmlns=\"http://www.w3.org/2000/svg\" height=\"24px\"viewBox=\"0 0 24 24\"\n",
              "     width=\"24px\">\n",
              "    <g>\n",
              "        <path d=\"M19 3H5c-1.1 0-2 .9-2 2v14c0 1.1.9 2 2 2h14c1.1 0 2-.9 2-2V5c0-1.1-.9-2-2-2zM9 17H7v-7h2v7zm4 0h-2V7h2v10zm4 0h-2v-4h2v4z\"/>\n",
              "    </g>\n",
              "</svg>\n",
              "  </button>\n",
              "\n",
              "<style>\n",
              "  .colab-df-quickchart {\n",
              "      --bg-color: #E8F0FE;\n",
              "      --fill-color: #1967D2;\n",
              "      --hover-bg-color: #E2EBFA;\n",
              "      --hover-fill-color: #174EA6;\n",
              "      --disabled-fill-color: #AAA;\n",
              "      --disabled-bg-color: #DDD;\n",
              "  }\n",
              "\n",
              "  [theme=dark] .colab-df-quickchart {\n",
              "      --bg-color: #3B4455;\n",
              "      --fill-color: #D2E3FC;\n",
              "      --hover-bg-color: #434B5C;\n",
              "      --hover-fill-color: #FFFFFF;\n",
              "      --disabled-bg-color: #3B4455;\n",
              "      --disabled-fill-color: #666;\n",
              "  }\n",
              "\n",
              "  .colab-df-quickchart {\n",
              "    background-color: var(--bg-color);\n",
              "    border: none;\n",
              "    border-radius: 50%;\n",
              "    cursor: pointer;\n",
              "    display: none;\n",
              "    fill: var(--fill-color);\n",
              "    height: 32px;\n",
              "    padding: 0;\n",
              "    width: 32px;\n",
              "  }\n",
              "\n",
              "  .colab-df-quickchart:hover {\n",
              "    background-color: var(--hover-bg-color);\n",
              "    box-shadow: 0 1px 2px rgba(60, 64, 67, 0.3), 0 1px 3px 1px rgba(60, 64, 67, 0.15);\n",
              "    fill: var(--button-hover-fill-color);\n",
              "  }\n",
              "\n",
              "  .colab-df-quickchart-complete:disabled,\n",
              "  .colab-df-quickchart-complete:disabled:hover {\n",
              "    background-color: var(--disabled-bg-color);\n",
              "    fill: var(--disabled-fill-color);\n",
              "    box-shadow: none;\n",
              "  }\n",
              "\n",
              "  .colab-df-spinner {\n",
              "    border: 2px solid var(--fill-color);\n",
              "    border-color: transparent;\n",
              "    border-bottom-color: var(--fill-color);\n",
              "    animation:\n",
              "      spin 1s steps(1) infinite;\n",
              "  }\n",
              "\n",
              "  @keyframes spin {\n",
              "    0% {\n",
              "      border-color: transparent;\n",
              "      border-bottom-color: var(--fill-color);\n",
              "      border-left-color: var(--fill-color);\n",
              "    }\n",
              "    20% {\n",
              "      border-color: transparent;\n",
              "      border-left-color: var(--fill-color);\n",
              "      border-top-color: var(--fill-color);\n",
              "    }\n",
              "    30% {\n",
              "      border-color: transparent;\n",
              "      border-left-color: var(--fill-color);\n",
              "      border-top-color: var(--fill-color);\n",
              "      border-right-color: var(--fill-color);\n",
              "    }\n",
              "    40% {\n",
              "      border-color: transparent;\n",
              "      border-right-color: var(--fill-color);\n",
              "      border-top-color: var(--fill-color);\n",
              "    }\n",
              "    60% {\n",
              "      border-color: transparent;\n",
              "      border-right-color: var(--fill-color);\n",
              "    }\n",
              "    80% {\n",
              "      border-color: transparent;\n",
              "      border-right-color: var(--fill-color);\n",
              "      border-bottom-color: var(--fill-color);\n",
              "    }\n",
              "    90% {\n",
              "      border-color: transparent;\n",
              "      border-bottom-color: var(--fill-color);\n",
              "    }\n",
              "  }\n",
              "</style>\n",
              "\n",
              "  <script>\n",
              "    async function quickchart(key) {\n",
              "      const quickchartButtonEl =\n",
              "        document.querySelector('#' + key + ' button');\n",
              "      quickchartButtonEl.disabled = true;  // To prevent multiple clicks.\n",
              "      quickchartButtonEl.classList.add('colab-df-spinner');\n",
              "      try {\n",
              "        const charts = await google.colab.kernel.invokeFunction(\n",
              "            'suggestCharts', [key], {});\n",
              "      } catch (error) {\n",
              "        console.error('Error during call to suggestCharts:', error);\n",
              "      }\n",
              "      quickchartButtonEl.classList.remove('colab-df-spinner');\n",
              "      quickchartButtonEl.classList.add('colab-df-quickchart-complete');\n",
              "    }\n",
              "    (() => {\n",
              "      let quickchartButtonEl =\n",
              "        document.querySelector('#df-df7cd79b-9c52-42ca-8ea3-e11055977781 button');\n",
              "      quickchartButtonEl.style.display =\n",
              "        google.colab.kernel.accessAllowed ? 'block' : 'none';\n",
              "    })();\n",
              "  </script>\n",
              "</div>\n",
              "    </div>\n",
              "  </div>\n"
            ]
          },
          "metadata": {},
          "execution_count": 39
        }
      ]
    },
    {
      "cell_type": "markdown",
      "source": [
        "### After we set features remove the Null Values\n"
      ],
      "metadata": {
        "id": "hqZpHtRKrkDK"
      }
    },
    {
      "cell_type": "code",
      "source": [
        "# clean up values we do not need\n",
        "# replace unknowns with Nan\n",
        "# both default and poutcome have so little useable data in comparison to missing data or such a poor balance of values\n",
        "# that I don't think they are worth using in training.\n",
        "# poutcome: outcome of the previous marketing campaign (categorical: \"failure\",\"nonexistent\",\"success\")\n",
        "# default: has credit in default? (categorical: \"no\",\"yes\",\"unknown\")\n",
        "\n"
      ],
      "metadata": {
        "id": "LHdncOgRe9OH"
      },
      "execution_count": 40,
      "outputs": []
    },
    {
      "cell_type": "code",
      "source": [
        "# Remove null values and check for null values\n",
        "# Identify null values\n",
        "campaign_features_target.isna().sum()"
      ],
      "metadata": {
        "id": "kUB9ShVshCNU",
        "colab": {
          "base_uri": "https://localhost:8080/"
        },
        "outputId": "02bc7500-7067-4e16-cc63-629bdecb62cf"
      },
      "execution_count": 41,
      "outputs": [
        {
          "output_type": "execute_result",
          "data": {
            "text/plain": [
              "age            0\n",
              "month          0\n",
              "day_of_week    0\n",
              "campaign       0\n",
              "y              0\n",
              "education      0\n",
              "housing        0\n",
              "loan           0\n",
              "marital        0\n",
              "contact        0\n",
              "job            0\n",
              "default        0\n",
              "dtype: int64"
            ]
          },
          "metadata": {},
          "execution_count": 41
        }
      ]
    },
    {
      "cell_type": "code",
      "source": [
        "# Remove null values , sometimes we will add a value for null values\n",
        "# there are other methods so decide how you want to handle\n",
        "campaign_features_target = campaign_features_target.dropna()"
      ],
      "metadata": {
        "id": "6qcM2T1S3W_p"
      },
      "execution_count": 42,
      "outputs": []
    },
    {
      "cell_type": "markdown",
      "source": [
        "Null Values = figure out how to handle\n"
      ],
      "metadata": {
        "id": "LE8Q8o0Nr5AH"
      }
    },
    {
      "cell_type": "code",
      "source": [
        "# check for null values\n",
        "campaign_features_target.isna().sum()"
      ],
      "metadata": {
        "colab": {
          "base_uri": "https://localhost:8080/"
        },
        "id": "HFrmHmuO3dcl",
        "outputId": "058aa13c-a5ef-4968-b41c-e2f69b1c7e09"
      },
      "execution_count": 43,
      "outputs": [
        {
          "output_type": "execute_result",
          "data": {
            "text/plain": [
              "age            0\n",
              "month          0\n",
              "day_of_week    0\n",
              "campaign       0\n",
              "y              0\n",
              "education      0\n",
              "housing        0\n",
              "loan           0\n",
              "marital        0\n",
              "contact        0\n",
              "job            0\n",
              "default        0\n",
              "dtype: int64"
            ]
          },
          "metadata": {},
          "execution_count": 43
        }
      ]
    },
    {
      "cell_type": "code",
      "source": [
        "# Create a feature set and target set"
      ],
      "metadata": {
        "id": "Y5TRKlhchCym"
      },
      "execution_count": null,
      "outputs": []
    },
    {
      "cell_type": "code",
      "source": [
        "# important seperate items\n",
        "# feature items\n",
        "# target item for this particular data set it is Y who signed up\n",
        "# create two dataframes\n",
        "y = campaign_features_target['y']\n",
        "X = campaign_features_target.drop(columns= 'y')\n",
        "X.head()"
      ],
      "metadata": {
        "colab": {
          "base_uri": "https://localhost:8080/",
          "height": 206
        },
        "id": "-6ev4skH3lFc",
        "outputId": "adf4a2ea-fb8d-42f1-a0e5-dea021bb2b20"
      },
      "execution_count": 44,
      "outputs": [
        {
          "output_type": "execute_result",
          "data": {
            "text/plain": [
              "   age month day_of_week  campaign    education housing loan  marital  \\\n",
              "0   56   may         mon         1     basic.4y      no   no  married   \n",
              "1   57   may         mon         1  high.school      no   no  married   \n",
              "2   37   may         mon         1  high.school     yes   no  married   \n",
              "3   40   may         mon         1     basic.6y      no   no  married   \n",
              "4   56   may         mon         1  high.school      no  yes  married   \n",
              "\n",
              "     contact        job  default  \n",
              "0  telephone  housemaid       no  \n",
              "1  telephone   services  unknown  \n",
              "2  telephone   services       no  \n",
              "3  telephone     admin.       no  \n",
              "4  telephone   services       no  "
            ],
            "text/html": [
              "\n",
              "  <div id=\"df-ab8dbe7b-d9de-4bbe-94de-8a296956ea4d\" class=\"colab-df-container\">\n",
              "    <div>\n",
              "<style scoped>\n",
              "    .dataframe tbody tr th:only-of-type {\n",
              "        vertical-align: middle;\n",
              "    }\n",
              "\n",
              "    .dataframe tbody tr th {\n",
              "        vertical-align: top;\n",
              "    }\n",
              "\n",
              "    .dataframe thead th {\n",
              "        text-align: right;\n",
              "    }\n",
              "</style>\n",
              "<table border=\"1\" class=\"dataframe\">\n",
              "  <thead>\n",
              "    <tr style=\"text-align: right;\">\n",
              "      <th></th>\n",
              "      <th>age</th>\n",
              "      <th>month</th>\n",
              "      <th>day_of_week</th>\n",
              "      <th>campaign</th>\n",
              "      <th>education</th>\n",
              "      <th>housing</th>\n",
              "      <th>loan</th>\n",
              "      <th>marital</th>\n",
              "      <th>contact</th>\n",
              "      <th>job</th>\n",
              "      <th>default</th>\n",
              "    </tr>\n",
              "  </thead>\n",
              "  <tbody>\n",
              "    <tr>\n",
              "      <th>0</th>\n",
              "      <td>56</td>\n",
              "      <td>may</td>\n",
              "      <td>mon</td>\n",
              "      <td>1</td>\n",
              "      <td>basic.4y</td>\n",
              "      <td>no</td>\n",
              "      <td>no</td>\n",
              "      <td>married</td>\n",
              "      <td>telephone</td>\n",
              "      <td>housemaid</td>\n",
              "      <td>no</td>\n",
              "    </tr>\n",
              "    <tr>\n",
              "      <th>1</th>\n",
              "      <td>57</td>\n",
              "      <td>may</td>\n",
              "      <td>mon</td>\n",
              "      <td>1</td>\n",
              "      <td>high.school</td>\n",
              "      <td>no</td>\n",
              "      <td>no</td>\n",
              "      <td>married</td>\n",
              "      <td>telephone</td>\n",
              "      <td>services</td>\n",
              "      <td>unknown</td>\n",
              "    </tr>\n",
              "    <tr>\n",
              "      <th>2</th>\n",
              "      <td>37</td>\n",
              "      <td>may</td>\n",
              "      <td>mon</td>\n",
              "      <td>1</td>\n",
              "      <td>high.school</td>\n",
              "      <td>yes</td>\n",
              "      <td>no</td>\n",
              "      <td>married</td>\n",
              "      <td>telephone</td>\n",
              "      <td>services</td>\n",
              "      <td>no</td>\n",
              "    </tr>\n",
              "    <tr>\n",
              "      <th>3</th>\n",
              "      <td>40</td>\n",
              "      <td>may</td>\n",
              "      <td>mon</td>\n",
              "      <td>1</td>\n",
              "      <td>basic.6y</td>\n",
              "      <td>no</td>\n",
              "      <td>no</td>\n",
              "      <td>married</td>\n",
              "      <td>telephone</td>\n",
              "      <td>admin.</td>\n",
              "      <td>no</td>\n",
              "    </tr>\n",
              "    <tr>\n",
              "      <th>4</th>\n",
              "      <td>56</td>\n",
              "      <td>may</td>\n",
              "      <td>mon</td>\n",
              "      <td>1</td>\n",
              "      <td>high.school</td>\n",
              "      <td>no</td>\n",
              "      <td>yes</td>\n",
              "      <td>married</td>\n",
              "      <td>telephone</td>\n",
              "      <td>services</td>\n",
              "      <td>no</td>\n",
              "    </tr>\n",
              "  </tbody>\n",
              "</table>\n",
              "</div>\n",
              "    <div class=\"colab-df-buttons\">\n",
              "\n",
              "  <div class=\"colab-df-container\">\n",
              "    <button class=\"colab-df-convert\" onclick=\"convertToInteractive('df-ab8dbe7b-d9de-4bbe-94de-8a296956ea4d')\"\n",
              "            title=\"Convert this dataframe to an interactive table.\"\n",
              "            style=\"display:none;\">\n",
              "\n",
              "  <svg xmlns=\"http://www.w3.org/2000/svg\" height=\"24px\" viewBox=\"0 -960 960 960\">\n",
              "    <path d=\"M120-120v-720h720v720H120Zm60-500h600v-160H180v160Zm220 220h160v-160H400v160Zm0 220h160v-160H400v160ZM180-400h160v-160H180v160Zm440 0h160v-160H620v160ZM180-180h160v-160H180v160Zm440 0h160v-160H620v160Z\"/>\n",
              "  </svg>\n",
              "    </button>\n",
              "\n",
              "  <style>\n",
              "    .colab-df-container {\n",
              "      display:flex;\n",
              "      gap: 12px;\n",
              "    }\n",
              "\n",
              "    .colab-df-convert {\n",
              "      background-color: #E8F0FE;\n",
              "      border: none;\n",
              "      border-radius: 50%;\n",
              "      cursor: pointer;\n",
              "      display: none;\n",
              "      fill: #1967D2;\n",
              "      height: 32px;\n",
              "      padding: 0 0 0 0;\n",
              "      width: 32px;\n",
              "    }\n",
              "\n",
              "    .colab-df-convert:hover {\n",
              "      background-color: #E2EBFA;\n",
              "      box-shadow: 0px 1px 2px rgba(60, 64, 67, 0.3), 0px 1px 3px 1px rgba(60, 64, 67, 0.15);\n",
              "      fill: #174EA6;\n",
              "    }\n",
              "\n",
              "    .colab-df-buttons div {\n",
              "      margin-bottom: 4px;\n",
              "    }\n",
              "\n",
              "    [theme=dark] .colab-df-convert {\n",
              "      background-color: #3B4455;\n",
              "      fill: #D2E3FC;\n",
              "    }\n",
              "\n",
              "    [theme=dark] .colab-df-convert:hover {\n",
              "      background-color: #434B5C;\n",
              "      box-shadow: 0px 1px 3px 1px rgba(0, 0, 0, 0.15);\n",
              "      filter: drop-shadow(0px 1px 2px rgba(0, 0, 0, 0.3));\n",
              "      fill: #FFFFFF;\n",
              "    }\n",
              "  </style>\n",
              "\n",
              "    <script>\n",
              "      const buttonEl =\n",
              "        document.querySelector('#df-ab8dbe7b-d9de-4bbe-94de-8a296956ea4d button.colab-df-convert');\n",
              "      buttonEl.style.display =\n",
              "        google.colab.kernel.accessAllowed ? 'block' : 'none';\n",
              "\n",
              "      async function convertToInteractive(key) {\n",
              "        const element = document.querySelector('#df-ab8dbe7b-d9de-4bbe-94de-8a296956ea4d');\n",
              "        const dataTable =\n",
              "          await google.colab.kernel.invokeFunction('convertToInteractive',\n",
              "                                                    [key], {});\n",
              "        if (!dataTable) return;\n",
              "\n",
              "        const docLinkHtml = 'Like what you see? Visit the ' +\n",
              "          '<a target=\"_blank\" href=https://colab.research.google.com/notebooks/data_table.ipynb>data table notebook</a>'\n",
              "          + ' to learn more about interactive tables.';\n",
              "        element.innerHTML = '';\n",
              "        dataTable['output_type'] = 'display_data';\n",
              "        await google.colab.output.renderOutput(dataTable, element);\n",
              "        const docLink = document.createElement('div');\n",
              "        docLink.innerHTML = docLinkHtml;\n",
              "        element.appendChild(docLink);\n",
              "      }\n",
              "    </script>\n",
              "  </div>\n",
              "\n",
              "\n",
              "<div id=\"df-ce24d773-68a9-4792-91ec-5697c95b448b\">\n",
              "  <button class=\"colab-df-quickchart\" onclick=\"quickchart('df-ce24d773-68a9-4792-91ec-5697c95b448b')\"\n",
              "            title=\"Suggest charts\"\n",
              "            style=\"display:none;\">\n",
              "\n",
              "<svg xmlns=\"http://www.w3.org/2000/svg\" height=\"24px\"viewBox=\"0 0 24 24\"\n",
              "     width=\"24px\">\n",
              "    <g>\n",
              "        <path d=\"M19 3H5c-1.1 0-2 .9-2 2v14c0 1.1.9 2 2 2h14c1.1 0 2-.9 2-2V5c0-1.1-.9-2-2-2zM9 17H7v-7h2v7zm4 0h-2V7h2v10zm4 0h-2v-4h2v4z\"/>\n",
              "    </g>\n",
              "</svg>\n",
              "  </button>\n",
              "\n",
              "<style>\n",
              "  .colab-df-quickchart {\n",
              "      --bg-color: #E8F0FE;\n",
              "      --fill-color: #1967D2;\n",
              "      --hover-bg-color: #E2EBFA;\n",
              "      --hover-fill-color: #174EA6;\n",
              "      --disabled-fill-color: #AAA;\n",
              "      --disabled-bg-color: #DDD;\n",
              "  }\n",
              "\n",
              "  [theme=dark] .colab-df-quickchart {\n",
              "      --bg-color: #3B4455;\n",
              "      --fill-color: #D2E3FC;\n",
              "      --hover-bg-color: #434B5C;\n",
              "      --hover-fill-color: #FFFFFF;\n",
              "      --disabled-bg-color: #3B4455;\n",
              "      --disabled-fill-color: #666;\n",
              "  }\n",
              "\n",
              "  .colab-df-quickchart {\n",
              "    background-color: var(--bg-color);\n",
              "    border: none;\n",
              "    border-radius: 50%;\n",
              "    cursor: pointer;\n",
              "    display: none;\n",
              "    fill: var(--fill-color);\n",
              "    height: 32px;\n",
              "    padding: 0;\n",
              "    width: 32px;\n",
              "  }\n",
              "\n",
              "  .colab-df-quickchart:hover {\n",
              "    background-color: var(--hover-bg-color);\n",
              "    box-shadow: 0 1px 2px rgba(60, 64, 67, 0.3), 0 1px 3px 1px rgba(60, 64, 67, 0.15);\n",
              "    fill: var(--button-hover-fill-color);\n",
              "  }\n",
              "\n",
              "  .colab-df-quickchart-complete:disabled,\n",
              "  .colab-df-quickchart-complete:disabled:hover {\n",
              "    background-color: var(--disabled-bg-color);\n",
              "    fill: var(--disabled-fill-color);\n",
              "    box-shadow: none;\n",
              "  }\n",
              "\n",
              "  .colab-df-spinner {\n",
              "    border: 2px solid var(--fill-color);\n",
              "    border-color: transparent;\n",
              "    border-bottom-color: var(--fill-color);\n",
              "    animation:\n",
              "      spin 1s steps(1) infinite;\n",
              "  }\n",
              "\n",
              "  @keyframes spin {\n",
              "    0% {\n",
              "      border-color: transparent;\n",
              "      border-bottom-color: var(--fill-color);\n",
              "      border-left-color: var(--fill-color);\n",
              "    }\n",
              "    20% {\n",
              "      border-color: transparent;\n",
              "      border-left-color: var(--fill-color);\n",
              "      border-top-color: var(--fill-color);\n",
              "    }\n",
              "    30% {\n",
              "      border-color: transparent;\n",
              "      border-left-color: var(--fill-color);\n",
              "      border-top-color: var(--fill-color);\n",
              "      border-right-color: var(--fill-color);\n",
              "    }\n",
              "    40% {\n",
              "      border-color: transparent;\n",
              "      border-right-color: var(--fill-color);\n",
              "      border-top-color: var(--fill-color);\n",
              "    }\n",
              "    60% {\n",
              "      border-color: transparent;\n",
              "      border-right-color: var(--fill-color);\n",
              "    }\n",
              "    80% {\n",
              "      border-color: transparent;\n",
              "      border-right-color: var(--fill-color);\n",
              "      border-bottom-color: var(--fill-color);\n",
              "    }\n",
              "    90% {\n",
              "      border-color: transparent;\n",
              "      border-bottom-color: var(--fill-color);\n",
              "    }\n",
              "  }\n",
              "</style>\n",
              "\n",
              "  <script>\n",
              "    async function quickchart(key) {\n",
              "      const quickchartButtonEl =\n",
              "        document.querySelector('#' + key + ' button');\n",
              "      quickchartButtonEl.disabled = true;  // To prevent multiple clicks.\n",
              "      quickchartButtonEl.classList.add('colab-df-spinner');\n",
              "      try {\n",
              "        const charts = await google.colab.kernel.invokeFunction(\n",
              "            'suggestCharts', [key], {});\n",
              "      } catch (error) {\n",
              "        console.error('Error during call to suggestCharts:', error);\n",
              "      }\n",
              "      quickchartButtonEl.classList.remove('colab-df-spinner');\n",
              "      quickchartButtonEl.classList.add('colab-df-quickchart-complete');\n",
              "    }\n",
              "    (() => {\n",
              "      let quickchartButtonEl =\n",
              "        document.querySelector('#df-ce24d773-68a9-4792-91ec-5697c95b448b button');\n",
              "      quickchartButtonEl.style.display =\n",
              "        google.colab.kernel.accessAllowed ? 'block' : 'none';\n",
              "    })();\n",
              "  </script>\n",
              "</div>\n",
              "    </div>\n",
              "  </div>\n"
            ]
          },
          "metadata": {},
          "execution_count": 44
        }
      ]
    },
    {
      "cell_type": "code",
      "source": [
        "# Convert categorical variables to one-hot encoding\n",
        "campaign_features_target = pd.get_dummies(campaign, drop_first=True)\n"
      ],
      "metadata": {
        "id": "COcsi3S5d1JS"
      },
      "execution_count": 45,
      "outputs": []
    },
    {
      "cell_type": "code",
      "source": [
        "campaign_features_target.head(3)"
      ],
      "metadata": {
        "colab": {
          "base_uri": "https://localhost:8080/",
          "height": 210
        },
        "id": "oXAM_LFcjsr6",
        "outputId": "dc8312e8-4c55-43b1-9d3f-ba81fcea8d8a"
      },
      "execution_count": 46,
      "outputs": [
        {
          "output_type": "execute_result",
          "data": {
            "text/plain": [
              "   age  campaign  pdays  previous  emp.var.rate  cons.price.idx  \\\n",
              "0   56         1    999         0           1.1          93.994   \n",
              "1   57         1    999         0           1.1          93.994   \n",
              "2   37         1    999         0           1.1          93.994   \n",
              "\n",
              "   cons.conf.idx  euribor3m  nr.employed  job_blue-collar  ...  \\\n",
              "0          -36.4      4.857       5191.0                0  ...   \n",
              "1          -36.4      4.857       5191.0                0  ...   \n",
              "2          -36.4      4.857       5191.0                0  ...   \n",
              "\n",
              "   month_nov  month_oct  month_sep  day_of_week_mon  day_of_week_thu  \\\n",
              "0          0          0          0                1                0   \n",
              "1          0          0          0                1                0   \n",
              "2          0          0          0                1                0   \n",
              "\n",
              "   day_of_week_tue  day_of_week_wed  poutcome_nonexistent  \\\n",
              "0                0                0                     1   \n",
              "1                0                0                     1   \n",
              "2                0                0                     1   \n",
              "\n",
              "   poutcome_success  y_yes  \n",
              "0                 0      0  \n",
              "1                 0      0  \n",
              "2                 0      0  \n",
              "\n",
              "[3 rows x 52 columns]"
            ],
            "text/html": [
              "\n",
              "  <div id=\"df-c8650573-a141-473f-b5cf-dcdfa7ff1b31\" class=\"colab-df-container\">\n",
              "    <div>\n",
              "<style scoped>\n",
              "    .dataframe tbody tr th:only-of-type {\n",
              "        vertical-align: middle;\n",
              "    }\n",
              "\n",
              "    .dataframe tbody tr th {\n",
              "        vertical-align: top;\n",
              "    }\n",
              "\n",
              "    .dataframe thead th {\n",
              "        text-align: right;\n",
              "    }\n",
              "</style>\n",
              "<table border=\"1\" class=\"dataframe\">\n",
              "  <thead>\n",
              "    <tr style=\"text-align: right;\">\n",
              "      <th></th>\n",
              "      <th>age</th>\n",
              "      <th>campaign</th>\n",
              "      <th>pdays</th>\n",
              "      <th>previous</th>\n",
              "      <th>emp.var.rate</th>\n",
              "      <th>cons.price.idx</th>\n",
              "      <th>cons.conf.idx</th>\n",
              "      <th>euribor3m</th>\n",
              "      <th>nr.employed</th>\n",
              "      <th>job_blue-collar</th>\n",
              "      <th>...</th>\n",
              "      <th>month_nov</th>\n",
              "      <th>month_oct</th>\n",
              "      <th>month_sep</th>\n",
              "      <th>day_of_week_mon</th>\n",
              "      <th>day_of_week_thu</th>\n",
              "      <th>day_of_week_tue</th>\n",
              "      <th>day_of_week_wed</th>\n",
              "      <th>poutcome_nonexistent</th>\n",
              "      <th>poutcome_success</th>\n",
              "      <th>y_yes</th>\n",
              "    </tr>\n",
              "  </thead>\n",
              "  <tbody>\n",
              "    <tr>\n",
              "      <th>0</th>\n",
              "      <td>56</td>\n",
              "      <td>1</td>\n",
              "      <td>999</td>\n",
              "      <td>0</td>\n",
              "      <td>1.1</td>\n",
              "      <td>93.994</td>\n",
              "      <td>-36.4</td>\n",
              "      <td>4.857</td>\n",
              "      <td>5191.0</td>\n",
              "      <td>0</td>\n",
              "      <td>...</td>\n",
              "      <td>0</td>\n",
              "      <td>0</td>\n",
              "      <td>0</td>\n",
              "      <td>1</td>\n",
              "      <td>0</td>\n",
              "      <td>0</td>\n",
              "      <td>0</td>\n",
              "      <td>1</td>\n",
              "      <td>0</td>\n",
              "      <td>0</td>\n",
              "    </tr>\n",
              "    <tr>\n",
              "      <th>1</th>\n",
              "      <td>57</td>\n",
              "      <td>1</td>\n",
              "      <td>999</td>\n",
              "      <td>0</td>\n",
              "      <td>1.1</td>\n",
              "      <td>93.994</td>\n",
              "      <td>-36.4</td>\n",
              "      <td>4.857</td>\n",
              "      <td>5191.0</td>\n",
              "      <td>0</td>\n",
              "      <td>...</td>\n",
              "      <td>0</td>\n",
              "      <td>0</td>\n",
              "      <td>0</td>\n",
              "      <td>1</td>\n",
              "      <td>0</td>\n",
              "      <td>0</td>\n",
              "      <td>0</td>\n",
              "      <td>1</td>\n",
              "      <td>0</td>\n",
              "      <td>0</td>\n",
              "    </tr>\n",
              "    <tr>\n",
              "      <th>2</th>\n",
              "      <td>37</td>\n",
              "      <td>1</td>\n",
              "      <td>999</td>\n",
              "      <td>0</td>\n",
              "      <td>1.1</td>\n",
              "      <td>93.994</td>\n",
              "      <td>-36.4</td>\n",
              "      <td>4.857</td>\n",
              "      <td>5191.0</td>\n",
              "      <td>0</td>\n",
              "      <td>...</td>\n",
              "      <td>0</td>\n",
              "      <td>0</td>\n",
              "      <td>0</td>\n",
              "      <td>1</td>\n",
              "      <td>0</td>\n",
              "      <td>0</td>\n",
              "      <td>0</td>\n",
              "      <td>1</td>\n",
              "      <td>0</td>\n",
              "      <td>0</td>\n",
              "    </tr>\n",
              "  </tbody>\n",
              "</table>\n",
              "<p>3 rows × 52 columns</p>\n",
              "</div>\n",
              "    <div class=\"colab-df-buttons\">\n",
              "\n",
              "  <div class=\"colab-df-container\">\n",
              "    <button class=\"colab-df-convert\" onclick=\"convertToInteractive('df-c8650573-a141-473f-b5cf-dcdfa7ff1b31')\"\n",
              "            title=\"Convert this dataframe to an interactive table.\"\n",
              "            style=\"display:none;\">\n",
              "\n",
              "  <svg xmlns=\"http://www.w3.org/2000/svg\" height=\"24px\" viewBox=\"0 -960 960 960\">\n",
              "    <path d=\"M120-120v-720h720v720H120Zm60-500h600v-160H180v160Zm220 220h160v-160H400v160Zm0 220h160v-160H400v160ZM180-400h160v-160H180v160Zm440 0h160v-160H620v160ZM180-180h160v-160H180v160Zm440 0h160v-160H620v160Z\"/>\n",
              "  </svg>\n",
              "    </button>\n",
              "\n",
              "  <style>\n",
              "    .colab-df-container {\n",
              "      display:flex;\n",
              "      gap: 12px;\n",
              "    }\n",
              "\n",
              "    .colab-df-convert {\n",
              "      background-color: #E8F0FE;\n",
              "      border: none;\n",
              "      border-radius: 50%;\n",
              "      cursor: pointer;\n",
              "      display: none;\n",
              "      fill: #1967D2;\n",
              "      height: 32px;\n",
              "      padding: 0 0 0 0;\n",
              "      width: 32px;\n",
              "    }\n",
              "\n",
              "    .colab-df-convert:hover {\n",
              "      background-color: #E2EBFA;\n",
              "      box-shadow: 0px 1px 2px rgba(60, 64, 67, 0.3), 0px 1px 3px 1px rgba(60, 64, 67, 0.15);\n",
              "      fill: #174EA6;\n",
              "    }\n",
              "\n",
              "    .colab-df-buttons div {\n",
              "      margin-bottom: 4px;\n",
              "    }\n",
              "\n",
              "    [theme=dark] .colab-df-convert {\n",
              "      background-color: #3B4455;\n",
              "      fill: #D2E3FC;\n",
              "    }\n",
              "\n",
              "    [theme=dark] .colab-df-convert:hover {\n",
              "      background-color: #434B5C;\n",
              "      box-shadow: 0px 1px 3px 1px rgba(0, 0, 0, 0.15);\n",
              "      filter: drop-shadow(0px 1px 2px rgba(0, 0, 0, 0.3));\n",
              "      fill: #FFFFFF;\n",
              "    }\n",
              "  </style>\n",
              "\n",
              "    <script>\n",
              "      const buttonEl =\n",
              "        document.querySelector('#df-c8650573-a141-473f-b5cf-dcdfa7ff1b31 button.colab-df-convert');\n",
              "      buttonEl.style.display =\n",
              "        google.colab.kernel.accessAllowed ? 'block' : 'none';\n",
              "\n",
              "      async function convertToInteractive(key) {\n",
              "        const element = document.querySelector('#df-c8650573-a141-473f-b5cf-dcdfa7ff1b31');\n",
              "        const dataTable =\n",
              "          await google.colab.kernel.invokeFunction('convertToInteractive',\n",
              "                                                    [key], {});\n",
              "        if (!dataTable) return;\n",
              "\n",
              "        const docLinkHtml = 'Like what you see? Visit the ' +\n",
              "          '<a target=\"_blank\" href=https://colab.research.google.com/notebooks/data_table.ipynb>data table notebook</a>'\n",
              "          + ' to learn more about interactive tables.';\n",
              "        element.innerHTML = '';\n",
              "        dataTable['output_type'] = 'display_data';\n",
              "        await google.colab.output.renderOutput(dataTable, element);\n",
              "        const docLink = document.createElement('div');\n",
              "        docLink.innerHTML = docLinkHtml;\n",
              "        element.appendChild(docLink);\n",
              "      }\n",
              "    </script>\n",
              "  </div>\n",
              "\n",
              "\n",
              "<div id=\"df-5d7b1f3b-0306-4027-9352-64081a08c1a9\">\n",
              "  <button class=\"colab-df-quickchart\" onclick=\"quickchart('df-5d7b1f3b-0306-4027-9352-64081a08c1a9')\"\n",
              "            title=\"Suggest charts\"\n",
              "            style=\"display:none;\">\n",
              "\n",
              "<svg xmlns=\"http://www.w3.org/2000/svg\" height=\"24px\"viewBox=\"0 0 24 24\"\n",
              "     width=\"24px\">\n",
              "    <g>\n",
              "        <path d=\"M19 3H5c-1.1 0-2 .9-2 2v14c0 1.1.9 2 2 2h14c1.1 0 2-.9 2-2V5c0-1.1-.9-2-2-2zM9 17H7v-7h2v7zm4 0h-2V7h2v10zm4 0h-2v-4h2v4z\"/>\n",
              "    </g>\n",
              "</svg>\n",
              "  </button>\n",
              "\n",
              "<style>\n",
              "  .colab-df-quickchart {\n",
              "      --bg-color: #E8F0FE;\n",
              "      --fill-color: #1967D2;\n",
              "      --hover-bg-color: #E2EBFA;\n",
              "      --hover-fill-color: #174EA6;\n",
              "      --disabled-fill-color: #AAA;\n",
              "      --disabled-bg-color: #DDD;\n",
              "  }\n",
              "\n",
              "  [theme=dark] .colab-df-quickchart {\n",
              "      --bg-color: #3B4455;\n",
              "      --fill-color: #D2E3FC;\n",
              "      --hover-bg-color: #434B5C;\n",
              "      --hover-fill-color: #FFFFFF;\n",
              "      --disabled-bg-color: #3B4455;\n",
              "      --disabled-fill-color: #666;\n",
              "  }\n",
              "\n",
              "  .colab-df-quickchart {\n",
              "    background-color: var(--bg-color);\n",
              "    border: none;\n",
              "    border-radius: 50%;\n",
              "    cursor: pointer;\n",
              "    display: none;\n",
              "    fill: var(--fill-color);\n",
              "    height: 32px;\n",
              "    padding: 0;\n",
              "    width: 32px;\n",
              "  }\n",
              "\n",
              "  .colab-df-quickchart:hover {\n",
              "    background-color: var(--hover-bg-color);\n",
              "    box-shadow: 0 1px 2px rgba(60, 64, 67, 0.3), 0 1px 3px 1px rgba(60, 64, 67, 0.15);\n",
              "    fill: var(--button-hover-fill-color);\n",
              "  }\n",
              "\n",
              "  .colab-df-quickchart-complete:disabled,\n",
              "  .colab-df-quickchart-complete:disabled:hover {\n",
              "    background-color: var(--disabled-bg-color);\n",
              "    fill: var(--disabled-fill-color);\n",
              "    box-shadow: none;\n",
              "  }\n",
              "\n",
              "  .colab-df-spinner {\n",
              "    border: 2px solid var(--fill-color);\n",
              "    border-color: transparent;\n",
              "    border-bottom-color: var(--fill-color);\n",
              "    animation:\n",
              "      spin 1s steps(1) infinite;\n",
              "  }\n",
              "\n",
              "  @keyframes spin {\n",
              "    0% {\n",
              "      border-color: transparent;\n",
              "      border-bottom-color: var(--fill-color);\n",
              "      border-left-color: var(--fill-color);\n",
              "    }\n",
              "    20% {\n",
              "      border-color: transparent;\n",
              "      border-left-color: var(--fill-color);\n",
              "      border-top-color: var(--fill-color);\n",
              "    }\n",
              "    30% {\n",
              "      border-color: transparent;\n",
              "      border-left-color: var(--fill-color);\n",
              "      border-top-color: var(--fill-color);\n",
              "      border-right-color: var(--fill-color);\n",
              "    }\n",
              "    40% {\n",
              "      border-color: transparent;\n",
              "      border-right-color: var(--fill-color);\n",
              "      border-top-color: var(--fill-color);\n",
              "    }\n",
              "    60% {\n",
              "      border-color: transparent;\n",
              "      border-right-color: var(--fill-color);\n",
              "    }\n",
              "    80% {\n",
              "      border-color: transparent;\n",
              "      border-right-color: var(--fill-color);\n",
              "      border-bottom-color: var(--fill-color);\n",
              "    }\n",
              "    90% {\n",
              "      border-color: transparent;\n",
              "      border-bottom-color: var(--fill-color);\n",
              "    }\n",
              "  }\n",
              "</style>\n",
              "\n",
              "  <script>\n",
              "    async function quickchart(key) {\n",
              "      const quickchartButtonEl =\n",
              "        document.querySelector('#' + key + ' button');\n",
              "      quickchartButtonEl.disabled = true;  // To prevent multiple clicks.\n",
              "      quickchartButtonEl.classList.add('colab-df-spinner');\n",
              "      try {\n",
              "        const charts = await google.colab.kernel.invokeFunction(\n",
              "            'suggestCharts', [key], {});\n",
              "      } catch (error) {\n",
              "        console.error('Error during call to suggestCharts:', error);\n",
              "      }\n",
              "      quickchartButtonEl.classList.remove('colab-df-spinner');\n",
              "      quickchartButtonEl.classList.add('colab-df-quickchart-complete');\n",
              "    }\n",
              "    (() => {\n",
              "      let quickchartButtonEl =\n",
              "        document.querySelector('#df-5d7b1f3b-0306-4027-9352-64081a08c1a9 button');\n",
              "      quickchartButtonEl.style.display =\n",
              "        google.colab.kernel.accessAllowed ? 'block' : 'none';\n",
              "    })();\n",
              "  </script>\n",
              "</div>\n",
              "    </div>\n",
              "  </div>\n"
            ]
          },
          "metadata": {},
          "execution_count": 46
        }
      ]
    },
    {
      "cell_type": "code",
      "source": [
        "# Feature engineering - One-Hot Encoding - binary boolean option replace text with 1 or zero\n",
        "#   watch out for the \"Dummy Variable Trap\"\n",
        "# Encode our features and target as needed\n",
        "# prep data set for categorical value - machine learning only uses values\n",
        "# use get dummies on dataframe insert paramater\n",
        "X = pd.get_dummies(X,drop_first= True)\n",
        "X.head()"
      ],
      "metadata": {
        "id": "YeMniNsehFtd",
        "colab": {
          "base_uri": "https://localhost:8080/",
          "height": 273
        },
        "outputId": "85693ca0-95ce-4991-aa98-29b3633ff33b"
      },
      "execution_count": 47,
      "outputs": [
        {
          "output_type": "execute_result",
          "data": {
            "text/plain": [
              "   age  campaign  month_aug  month_dec  month_jul  month_jun  month_mar  \\\n",
              "0   56         1          0          0          0          0          0   \n",
              "1   57         1          0          0          0          0          0   \n",
              "2   37         1          0          0          0          0          0   \n",
              "3   40         1          0          0          0          0          0   \n",
              "4   56         1          0          0          0          0          0   \n",
              "\n",
              "   month_may  month_nov  month_oct  ...  job_management  job_retired  \\\n",
              "0          1          0          0  ...               0            0   \n",
              "1          1          0          0  ...               0            0   \n",
              "2          1          0          0  ...               0            0   \n",
              "3          1          0          0  ...               0            0   \n",
              "4          1          0          0  ...               0            0   \n",
              "\n",
              "   job_self-employed  job_services  job_student  job_technician  \\\n",
              "0                  0             0            0               0   \n",
              "1                  0             1            0               0   \n",
              "2                  0             1            0               0   \n",
              "3                  0             0            0               0   \n",
              "4                  0             1            0               0   \n",
              "\n",
              "   job_unemployed  job_unknown  default_unknown  default_yes  \n",
              "0               0            0                0            0  \n",
              "1               0            0                1            0  \n",
              "2               0            0                0            0  \n",
              "3               0            0                0            0  \n",
              "4               0            0                0            0  \n",
              "\n",
              "[5 rows x 42 columns]"
            ],
            "text/html": [
              "\n",
              "  <div id=\"df-6e5ba6e5-a1ab-46dd-8a5e-3f6a2b1afe8f\" class=\"colab-df-container\">\n",
              "    <div>\n",
              "<style scoped>\n",
              "    .dataframe tbody tr th:only-of-type {\n",
              "        vertical-align: middle;\n",
              "    }\n",
              "\n",
              "    .dataframe tbody tr th {\n",
              "        vertical-align: top;\n",
              "    }\n",
              "\n",
              "    .dataframe thead th {\n",
              "        text-align: right;\n",
              "    }\n",
              "</style>\n",
              "<table border=\"1\" class=\"dataframe\">\n",
              "  <thead>\n",
              "    <tr style=\"text-align: right;\">\n",
              "      <th></th>\n",
              "      <th>age</th>\n",
              "      <th>campaign</th>\n",
              "      <th>month_aug</th>\n",
              "      <th>month_dec</th>\n",
              "      <th>month_jul</th>\n",
              "      <th>month_jun</th>\n",
              "      <th>month_mar</th>\n",
              "      <th>month_may</th>\n",
              "      <th>month_nov</th>\n",
              "      <th>month_oct</th>\n",
              "      <th>...</th>\n",
              "      <th>job_management</th>\n",
              "      <th>job_retired</th>\n",
              "      <th>job_self-employed</th>\n",
              "      <th>job_services</th>\n",
              "      <th>job_student</th>\n",
              "      <th>job_technician</th>\n",
              "      <th>job_unemployed</th>\n",
              "      <th>job_unknown</th>\n",
              "      <th>default_unknown</th>\n",
              "      <th>default_yes</th>\n",
              "    </tr>\n",
              "  </thead>\n",
              "  <tbody>\n",
              "    <tr>\n",
              "      <th>0</th>\n",
              "      <td>56</td>\n",
              "      <td>1</td>\n",
              "      <td>0</td>\n",
              "      <td>0</td>\n",
              "      <td>0</td>\n",
              "      <td>0</td>\n",
              "      <td>0</td>\n",
              "      <td>1</td>\n",
              "      <td>0</td>\n",
              "      <td>0</td>\n",
              "      <td>...</td>\n",
              "      <td>0</td>\n",
              "      <td>0</td>\n",
              "      <td>0</td>\n",
              "      <td>0</td>\n",
              "      <td>0</td>\n",
              "      <td>0</td>\n",
              "      <td>0</td>\n",
              "      <td>0</td>\n",
              "      <td>0</td>\n",
              "      <td>0</td>\n",
              "    </tr>\n",
              "    <tr>\n",
              "      <th>1</th>\n",
              "      <td>57</td>\n",
              "      <td>1</td>\n",
              "      <td>0</td>\n",
              "      <td>0</td>\n",
              "      <td>0</td>\n",
              "      <td>0</td>\n",
              "      <td>0</td>\n",
              "      <td>1</td>\n",
              "      <td>0</td>\n",
              "      <td>0</td>\n",
              "      <td>...</td>\n",
              "      <td>0</td>\n",
              "      <td>0</td>\n",
              "      <td>0</td>\n",
              "      <td>1</td>\n",
              "      <td>0</td>\n",
              "      <td>0</td>\n",
              "      <td>0</td>\n",
              "      <td>0</td>\n",
              "      <td>1</td>\n",
              "      <td>0</td>\n",
              "    </tr>\n",
              "    <tr>\n",
              "      <th>2</th>\n",
              "      <td>37</td>\n",
              "      <td>1</td>\n",
              "      <td>0</td>\n",
              "      <td>0</td>\n",
              "      <td>0</td>\n",
              "      <td>0</td>\n",
              "      <td>0</td>\n",
              "      <td>1</td>\n",
              "      <td>0</td>\n",
              "      <td>0</td>\n",
              "      <td>...</td>\n",
              "      <td>0</td>\n",
              "      <td>0</td>\n",
              "      <td>0</td>\n",
              "      <td>1</td>\n",
              "      <td>0</td>\n",
              "      <td>0</td>\n",
              "      <td>0</td>\n",
              "      <td>0</td>\n",
              "      <td>0</td>\n",
              "      <td>0</td>\n",
              "    </tr>\n",
              "    <tr>\n",
              "      <th>3</th>\n",
              "      <td>40</td>\n",
              "      <td>1</td>\n",
              "      <td>0</td>\n",
              "      <td>0</td>\n",
              "      <td>0</td>\n",
              "      <td>0</td>\n",
              "      <td>0</td>\n",
              "      <td>1</td>\n",
              "      <td>0</td>\n",
              "      <td>0</td>\n",
              "      <td>...</td>\n",
              "      <td>0</td>\n",
              "      <td>0</td>\n",
              "      <td>0</td>\n",
              "      <td>0</td>\n",
              "      <td>0</td>\n",
              "      <td>0</td>\n",
              "      <td>0</td>\n",
              "      <td>0</td>\n",
              "      <td>0</td>\n",
              "      <td>0</td>\n",
              "    </tr>\n",
              "    <tr>\n",
              "      <th>4</th>\n",
              "      <td>56</td>\n",
              "      <td>1</td>\n",
              "      <td>0</td>\n",
              "      <td>0</td>\n",
              "      <td>0</td>\n",
              "      <td>0</td>\n",
              "      <td>0</td>\n",
              "      <td>1</td>\n",
              "      <td>0</td>\n",
              "      <td>0</td>\n",
              "      <td>...</td>\n",
              "      <td>0</td>\n",
              "      <td>0</td>\n",
              "      <td>0</td>\n",
              "      <td>1</td>\n",
              "      <td>0</td>\n",
              "      <td>0</td>\n",
              "      <td>0</td>\n",
              "      <td>0</td>\n",
              "      <td>0</td>\n",
              "      <td>0</td>\n",
              "    </tr>\n",
              "  </tbody>\n",
              "</table>\n",
              "<p>5 rows × 42 columns</p>\n",
              "</div>\n",
              "    <div class=\"colab-df-buttons\">\n",
              "\n",
              "  <div class=\"colab-df-container\">\n",
              "    <button class=\"colab-df-convert\" onclick=\"convertToInteractive('df-6e5ba6e5-a1ab-46dd-8a5e-3f6a2b1afe8f')\"\n",
              "            title=\"Convert this dataframe to an interactive table.\"\n",
              "            style=\"display:none;\">\n",
              "\n",
              "  <svg xmlns=\"http://www.w3.org/2000/svg\" height=\"24px\" viewBox=\"0 -960 960 960\">\n",
              "    <path d=\"M120-120v-720h720v720H120Zm60-500h600v-160H180v160Zm220 220h160v-160H400v160Zm0 220h160v-160H400v160ZM180-400h160v-160H180v160Zm440 0h160v-160H620v160ZM180-180h160v-160H180v160Zm440 0h160v-160H620v160Z\"/>\n",
              "  </svg>\n",
              "    </button>\n",
              "\n",
              "  <style>\n",
              "    .colab-df-container {\n",
              "      display:flex;\n",
              "      gap: 12px;\n",
              "    }\n",
              "\n",
              "    .colab-df-convert {\n",
              "      background-color: #E8F0FE;\n",
              "      border: none;\n",
              "      border-radius: 50%;\n",
              "      cursor: pointer;\n",
              "      display: none;\n",
              "      fill: #1967D2;\n",
              "      height: 32px;\n",
              "      padding: 0 0 0 0;\n",
              "      width: 32px;\n",
              "    }\n",
              "\n",
              "    .colab-df-convert:hover {\n",
              "      background-color: #E2EBFA;\n",
              "      box-shadow: 0px 1px 2px rgba(60, 64, 67, 0.3), 0px 1px 3px 1px rgba(60, 64, 67, 0.15);\n",
              "      fill: #174EA6;\n",
              "    }\n",
              "\n",
              "    .colab-df-buttons div {\n",
              "      margin-bottom: 4px;\n",
              "    }\n",
              "\n",
              "    [theme=dark] .colab-df-convert {\n",
              "      background-color: #3B4455;\n",
              "      fill: #D2E3FC;\n",
              "    }\n",
              "\n",
              "    [theme=dark] .colab-df-convert:hover {\n",
              "      background-color: #434B5C;\n",
              "      box-shadow: 0px 1px 3px 1px rgba(0, 0, 0, 0.15);\n",
              "      filter: drop-shadow(0px 1px 2px rgba(0, 0, 0, 0.3));\n",
              "      fill: #FFFFFF;\n",
              "    }\n",
              "  </style>\n",
              "\n",
              "    <script>\n",
              "      const buttonEl =\n",
              "        document.querySelector('#df-6e5ba6e5-a1ab-46dd-8a5e-3f6a2b1afe8f button.colab-df-convert');\n",
              "      buttonEl.style.display =\n",
              "        google.colab.kernel.accessAllowed ? 'block' : 'none';\n",
              "\n",
              "      async function convertToInteractive(key) {\n",
              "        const element = document.querySelector('#df-6e5ba6e5-a1ab-46dd-8a5e-3f6a2b1afe8f');\n",
              "        const dataTable =\n",
              "          await google.colab.kernel.invokeFunction('convertToInteractive',\n",
              "                                                    [key], {});\n",
              "        if (!dataTable) return;\n",
              "\n",
              "        const docLinkHtml = 'Like what you see? Visit the ' +\n",
              "          '<a target=\"_blank\" href=https://colab.research.google.com/notebooks/data_table.ipynb>data table notebook</a>'\n",
              "          + ' to learn more about interactive tables.';\n",
              "        element.innerHTML = '';\n",
              "        dataTable['output_type'] = 'display_data';\n",
              "        await google.colab.output.renderOutput(dataTable, element);\n",
              "        const docLink = document.createElement('div');\n",
              "        docLink.innerHTML = docLinkHtml;\n",
              "        element.appendChild(docLink);\n",
              "      }\n",
              "    </script>\n",
              "  </div>\n",
              "\n",
              "\n",
              "<div id=\"df-1c08e0c3-dc91-4ceb-9349-3121411f74e9\">\n",
              "  <button class=\"colab-df-quickchart\" onclick=\"quickchart('df-1c08e0c3-dc91-4ceb-9349-3121411f74e9')\"\n",
              "            title=\"Suggest charts\"\n",
              "            style=\"display:none;\">\n",
              "\n",
              "<svg xmlns=\"http://www.w3.org/2000/svg\" height=\"24px\"viewBox=\"0 0 24 24\"\n",
              "     width=\"24px\">\n",
              "    <g>\n",
              "        <path d=\"M19 3H5c-1.1 0-2 .9-2 2v14c0 1.1.9 2 2 2h14c1.1 0 2-.9 2-2V5c0-1.1-.9-2-2-2zM9 17H7v-7h2v7zm4 0h-2V7h2v10zm4 0h-2v-4h2v4z\"/>\n",
              "    </g>\n",
              "</svg>\n",
              "  </button>\n",
              "\n",
              "<style>\n",
              "  .colab-df-quickchart {\n",
              "      --bg-color: #E8F0FE;\n",
              "      --fill-color: #1967D2;\n",
              "      --hover-bg-color: #E2EBFA;\n",
              "      --hover-fill-color: #174EA6;\n",
              "      --disabled-fill-color: #AAA;\n",
              "      --disabled-bg-color: #DDD;\n",
              "  }\n",
              "\n",
              "  [theme=dark] .colab-df-quickchart {\n",
              "      --bg-color: #3B4455;\n",
              "      --fill-color: #D2E3FC;\n",
              "      --hover-bg-color: #434B5C;\n",
              "      --hover-fill-color: #FFFFFF;\n",
              "      --disabled-bg-color: #3B4455;\n",
              "      --disabled-fill-color: #666;\n",
              "  }\n",
              "\n",
              "  .colab-df-quickchart {\n",
              "    background-color: var(--bg-color);\n",
              "    border: none;\n",
              "    border-radius: 50%;\n",
              "    cursor: pointer;\n",
              "    display: none;\n",
              "    fill: var(--fill-color);\n",
              "    height: 32px;\n",
              "    padding: 0;\n",
              "    width: 32px;\n",
              "  }\n",
              "\n",
              "  .colab-df-quickchart:hover {\n",
              "    background-color: var(--hover-bg-color);\n",
              "    box-shadow: 0 1px 2px rgba(60, 64, 67, 0.3), 0 1px 3px 1px rgba(60, 64, 67, 0.15);\n",
              "    fill: var(--button-hover-fill-color);\n",
              "  }\n",
              "\n",
              "  .colab-df-quickchart-complete:disabled,\n",
              "  .colab-df-quickchart-complete:disabled:hover {\n",
              "    background-color: var(--disabled-bg-color);\n",
              "    fill: var(--disabled-fill-color);\n",
              "    box-shadow: none;\n",
              "  }\n",
              "\n",
              "  .colab-df-spinner {\n",
              "    border: 2px solid var(--fill-color);\n",
              "    border-color: transparent;\n",
              "    border-bottom-color: var(--fill-color);\n",
              "    animation:\n",
              "      spin 1s steps(1) infinite;\n",
              "  }\n",
              "\n",
              "  @keyframes spin {\n",
              "    0% {\n",
              "      border-color: transparent;\n",
              "      border-bottom-color: var(--fill-color);\n",
              "      border-left-color: var(--fill-color);\n",
              "    }\n",
              "    20% {\n",
              "      border-color: transparent;\n",
              "      border-left-color: var(--fill-color);\n",
              "      border-top-color: var(--fill-color);\n",
              "    }\n",
              "    30% {\n",
              "      border-color: transparent;\n",
              "      border-left-color: var(--fill-color);\n",
              "      border-top-color: var(--fill-color);\n",
              "      border-right-color: var(--fill-color);\n",
              "    }\n",
              "    40% {\n",
              "      border-color: transparent;\n",
              "      border-right-color: var(--fill-color);\n",
              "      border-top-color: var(--fill-color);\n",
              "    }\n",
              "    60% {\n",
              "      border-color: transparent;\n",
              "      border-right-color: var(--fill-color);\n",
              "    }\n",
              "    80% {\n",
              "      border-color: transparent;\n",
              "      border-right-color: var(--fill-color);\n",
              "      border-bottom-color: var(--fill-color);\n",
              "    }\n",
              "    90% {\n",
              "      border-color: transparent;\n",
              "      border-bottom-color: var(--fill-color);\n",
              "    }\n",
              "  }\n",
              "</style>\n",
              "\n",
              "  <script>\n",
              "    async function quickchart(key) {\n",
              "      const quickchartButtonEl =\n",
              "        document.querySelector('#' + key + ' button');\n",
              "      quickchartButtonEl.disabled = true;  // To prevent multiple clicks.\n",
              "      quickchartButtonEl.classList.add('colab-df-spinner');\n",
              "      try {\n",
              "        const charts = await google.colab.kernel.invokeFunction(\n",
              "            'suggestCharts', [key], {});\n",
              "      } catch (error) {\n",
              "        console.error('Error during call to suggestCharts:', error);\n",
              "      }\n",
              "      quickchartButtonEl.classList.remove('colab-df-spinner');\n",
              "      quickchartButtonEl.classList.add('colab-df-quickchart-complete');\n",
              "    }\n",
              "    (() => {\n",
              "      let quickchartButtonEl =\n",
              "        document.querySelector('#df-1c08e0c3-dc91-4ceb-9349-3121411f74e9 button');\n",
              "      quickchartButtonEl.style.display =\n",
              "        google.colab.kernel.accessAllowed ? 'block' : 'none';\n",
              "    })();\n",
              "  </script>\n",
              "</div>\n",
              "    </div>\n",
              "  </div>\n"
            ]
          },
          "metadata": {},
          "execution_count": 47
        }
      ]
    },
    {
      "cell_type": "code",
      "source": [
        "# Finding the unique values of y\n",
        "# housing: has housing loan? (categorical: \"no\",\"yes\",\"unknown\")\n",
        "# y — has the client subscribed a term deposit? (binary: “1”, means “Yes”, “0” means “No”)\n",
        "campaign['y'].unique()"
      ],
      "metadata": {
        "id": "yoTzjXBXfTZv",
        "colab": {
          "base_uri": "https://localhost:8080/"
        },
        "outputId": "5c6fba54-650f-4724-87a7-09229ec898b0"
      },
      "execution_count": 48,
      "outputs": [
        {
          "output_type": "execute_result",
          "data": {
            "text/plain": [
              "array(['no', 'yes'], dtype=object)"
            ]
          },
          "metadata": {},
          "execution_count": 48
        }
      ]
    },
    {
      "cell_type": "code",
      "source": [
        "import altair as alt\n",
        "day = campaign_features_target.groupby([\"day_of_week\",\"y\"])[\"day_of_week\"].count()\n",
        "day.head(15)"
      ],
      "metadata": {
        "colab": {
          "base_uri": "https://localhost:8080/",
          "height": 374
        },
        "id": "CC6kOgcpXsyI",
        "outputId": "99f0f614-1853-4ea8-8bf5-152bd904f37f"
      },
      "execution_count": 49,
      "outputs": [
        {
          "output_type": "error",
          "ename": "KeyError",
          "evalue": "ignored",
          "traceback": [
            "\u001b[0;31m--------------------------------------------------------------------------\u001b[0m",
            "\u001b[0;31mKeyError\u001b[0m                                 Traceback (most recent call last)",
            "\u001b[0;32m<ipython-input-49-ee0cb0510ec8>\u001b[0m in \u001b[0;36m<cell line: 2>\u001b[0;34m()\u001b[0m\n\u001b[1;32m      1\u001b[0m \u001b[0;32mimport\u001b[0m \u001b[0maltair\u001b[0m \u001b[0;32mas\u001b[0m \u001b[0malt\u001b[0m\u001b[0;34m\u001b[0m\u001b[0;34m\u001b[0m\u001b[0m\n\u001b[0;32m----> 2\u001b[0;31m \u001b[0mday\u001b[0m \u001b[0;34m=\u001b[0m \u001b[0mcampaign_features_target\u001b[0m\u001b[0;34m.\u001b[0m\u001b[0mgroupby\u001b[0m\u001b[0;34m(\u001b[0m\u001b[0;34m[\u001b[0m\u001b[0;34m\"day_of_week\"\u001b[0m\u001b[0;34m,\u001b[0m\u001b[0;34m\"y\"\u001b[0m\u001b[0;34m]\u001b[0m\u001b[0;34m)\u001b[0m\u001b[0;34m[\u001b[0m\u001b[0;34m\"day_of_week\"\u001b[0m\u001b[0;34m]\u001b[0m\u001b[0;34m.\u001b[0m\u001b[0mcount\u001b[0m\u001b[0;34m(\u001b[0m\u001b[0;34m)\u001b[0m\u001b[0;34m\u001b[0m\u001b[0;34m\u001b[0m\u001b[0m\n\u001b[0m\u001b[1;32m      3\u001b[0m \u001b[0mday\u001b[0m\u001b[0;34m.\u001b[0m\u001b[0mhead\u001b[0m\u001b[0;34m(\u001b[0m\u001b[0;36m15\u001b[0m\u001b[0;34m)\u001b[0m\u001b[0;34m\u001b[0m\u001b[0;34m\u001b[0m\u001b[0m\n",
            "\u001b[0;32m/usr/local/lib/python3.10/dist-packages/pandas/core/frame.py\u001b[0m in \u001b[0;36mgroupby\u001b[0;34m(self, by, axis, level, as_index, sort, group_keys, squeeze, observed, dropna)\u001b[0m\n\u001b[1;32m   8400\u001b[0m         \u001b[0maxis\u001b[0m \u001b[0;34m=\u001b[0m \u001b[0mself\u001b[0m\u001b[0;34m.\u001b[0m\u001b[0m_get_axis_number\u001b[0m\u001b[0;34m(\u001b[0m\u001b[0maxis\u001b[0m\u001b[0;34m)\u001b[0m\u001b[0;34m\u001b[0m\u001b[0;34m\u001b[0m\u001b[0m\n\u001b[1;32m   8401\u001b[0m \u001b[0;34m\u001b[0m\u001b[0m\n\u001b[0;32m-> 8402\u001b[0;31m         return DataFrameGroupBy(\n\u001b[0m\u001b[1;32m   8403\u001b[0m             \u001b[0mobj\u001b[0m\u001b[0;34m=\u001b[0m\u001b[0mself\u001b[0m\u001b[0;34m,\u001b[0m\u001b[0;34m\u001b[0m\u001b[0;34m\u001b[0m\u001b[0m\n\u001b[1;32m   8404\u001b[0m             \u001b[0mkeys\u001b[0m\u001b[0;34m=\u001b[0m\u001b[0mby\u001b[0m\u001b[0;34m,\u001b[0m\u001b[0;34m\u001b[0m\u001b[0;34m\u001b[0m\u001b[0m\n",
            "\u001b[0;32m/usr/local/lib/python3.10/dist-packages/pandas/core/groupby/groupby.py\u001b[0m in \u001b[0;36m__init__\u001b[0;34m(self, obj, keys, axis, level, grouper, exclusions, selection, as_index, sort, group_keys, squeeze, observed, mutated, dropna)\u001b[0m\n\u001b[1;32m    963\u001b[0m             \u001b[0;32mfrom\u001b[0m \u001b[0mpandas\u001b[0m\u001b[0;34m.\u001b[0m\u001b[0mcore\u001b[0m\u001b[0;34m.\u001b[0m\u001b[0mgroupby\u001b[0m\u001b[0;34m.\u001b[0m\u001b[0mgrouper\u001b[0m \u001b[0;32mimport\u001b[0m \u001b[0mget_grouper\u001b[0m\u001b[0;34m\u001b[0m\u001b[0;34m\u001b[0m\u001b[0m\n\u001b[1;32m    964\u001b[0m \u001b[0;34m\u001b[0m\u001b[0m\n\u001b[0;32m--> 965\u001b[0;31m             grouper, exclusions, obj = get_grouper(\n\u001b[0m\u001b[1;32m    966\u001b[0m                 \u001b[0mobj\u001b[0m\u001b[0;34m,\u001b[0m\u001b[0;34m\u001b[0m\u001b[0;34m\u001b[0m\u001b[0m\n\u001b[1;32m    967\u001b[0m                 \u001b[0mkeys\u001b[0m\u001b[0;34m,\u001b[0m\u001b[0;34m\u001b[0m\u001b[0;34m\u001b[0m\u001b[0m\n",
            "\u001b[0;32m/usr/local/lib/python3.10/dist-packages/pandas/core/groupby/grouper.py\u001b[0m in \u001b[0;36mget_grouper\u001b[0;34m(obj, key, axis, level, sort, observed, mutated, validate, dropna)\u001b[0m\n\u001b[1;32m    886\u001b[0m                 \u001b[0min_axis\u001b[0m\u001b[0;34m,\u001b[0m \u001b[0mlevel\u001b[0m\u001b[0;34m,\u001b[0m \u001b[0mgpr\u001b[0m \u001b[0;34m=\u001b[0m \u001b[0;32mFalse\u001b[0m\u001b[0;34m,\u001b[0m \u001b[0mgpr\u001b[0m\u001b[0;34m,\u001b[0m \u001b[0;32mNone\u001b[0m\u001b[0;34m\u001b[0m\u001b[0;34m\u001b[0m\u001b[0m\n\u001b[1;32m    887\u001b[0m             \u001b[0;32melse\u001b[0m\u001b[0;34m:\u001b[0m\u001b[0;34m\u001b[0m\u001b[0;34m\u001b[0m\u001b[0m\n\u001b[0;32m--> 888\u001b[0;31m                 \u001b[0;32mraise\u001b[0m \u001b[0mKeyError\u001b[0m\u001b[0;34m(\u001b[0m\u001b[0mgpr\u001b[0m\u001b[0;34m)\u001b[0m\u001b[0;34m\u001b[0m\u001b[0;34m\u001b[0m\u001b[0m\n\u001b[0m\u001b[1;32m    889\u001b[0m         \u001b[0;32melif\u001b[0m \u001b[0misinstance\u001b[0m\u001b[0;34m(\u001b[0m\u001b[0mgpr\u001b[0m\u001b[0;34m,\u001b[0m \u001b[0mGrouper\u001b[0m\u001b[0;34m)\u001b[0m \u001b[0;32mand\u001b[0m \u001b[0mgpr\u001b[0m\u001b[0;34m.\u001b[0m\u001b[0mkey\u001b[0m \u001b[0;32mis\u001b[0m \u001b[0;32mnot\u001b[0m \u001b[0;32mNone\u001b[0m\u001b[0;34m:\u001b[0m\u001b[0;34m\u001b[0m\u001b[0;34m\u001b[0m\u001b[0m\n\u001b[1;32m    890\u001b[0m             \u001b[0;31m# Add key to exclusions\u001b[0m\u001b[0;34m\u001b[0m\u001b[0;34m\u001b[0m\u001b[0m\n",
            "\u001b[0;31mKeyError\u001b[0m: 'day_of_week'"
          ]
        }
      ]
    },
    {
      "cell_type": "markdown",
      "source": [
        "#Train/Test Split Data\n",
        "*   Create a holdout set by spliting the X and y sets into training and test sets\n",
        "*   Normalize or Standardize the x train and test sets\n",
        "\n",
        "Take data set and split it up to train and to test our model\n",
        "\n",
        "* Create a hold out set by splitting the X and y sets into training test sets\n",
        "* Normalize or standardize the x train and test sets\n",
        "Do for every model to understand performance for our model\n",
        "\n",
        "Split X and y sets into training and test sets take data set and split up and create a data set that will train our model and to test our model pass our future set and our target variable identify test size or split size or 80/20(need enough data for training), and then random state is a random seed value starting at a certain value to replicate results) We want to replicate our results"
      ],
      "metadata": {
        "id": "ZVlevfS8fCo9"
      }
    },
    {
      "cell_type": "markdown",
      "source": [
        "Model Selection: baseline models\n",
        "In this section, we will first compare the performance of the following 7 machine learning models using default hyperparameters:\n",
        "\n",
        "-K-nearest neighbors\n",
        "\n",
        "-Logistic regression\n",
        "\n",
        "-Stochastic gradient descent\n",
        "\n",
        "-Naive Bayes\n",
        "\n",
        "-Decision tree\n",
        "\n",
        "-Random forest\n",
        "\n",
        "-Gradient boosting classifier"
      ],
      "metadata": {
        "id": "95O5usqIHUPm"
      }
    },
    {
      "cell_type": "code",
      "source": [
        "# plot raw data"
      ],
      "metadata": {
        "id": "bu_KLcgs2y1c"
      },
      "execution_count": null,
      "outputs": []
    },
    {
      "cell_type": "code",
      "source": [
        "# normalize data set it 99 % of the time but not tree algorithms"
      ],
      "metadata": {
        "id": "h71vwWmTvwz1"
      },
      "execution_count": null,
      "outputs": []
    },
    {
      "cell_type": "code",
      "source": [
        "# Split X and y sets into training and test sets\n",
        "# Split our data into training and test data, with 30% reserved for testing\n",
        "X_train, X_test, y_train, y_test = train_test_split(X, y, test_size=0.30, random_state=1)"
      ],
      "metadata": {
        "id": "GSPhl42DiWW-"
      },
      "execution_count": 50,
      "outputs": []
    },
    {
      "cell_type": "code",
      "source": [
        "# Use StandardScaler() to normolize data around a mean of 0\n",
        "scaler = StandardScaler()\n",
        "X_scaler = scaler.fit(X_train)\n",
        "X_train_scaled = X_scaler.transform(X_train)\n",
        "X_test_scaled = X_scaler.transform(X_test)\n",
        "print(X_test_scaled)"
      ],
      "metadata": {
        "colab": {
          "base_uri": "https://localhost:8080/"
        },
        "id": "U-f4tiedvtB5",
        "outputId": "8eb67f80-7c1f-4504-f139-64e3a05e2f93"
      },
      "execution_count": 51,
      "outputs": [
        {
          "output_type": "stream",
          "name": "stdout",
          "text": [
            "[[-0.67738039 -0.57077544 -0.413379   ... -0.08960397 -0.51555567\n",
            "  -0.00896996]\n",
            " [ 0.08254082 -0.57077544 -0.413379   ... -0.08960397  1.93965475\n",
            "  -0.00896996]\n",
            " [-1.72227206 -0.21564437 -0.413379   ... -0.08960397 -0.51555567\n",
            "  -0.00896996]\n",
            " ...\n",
            " [-0.48740009 -0.21564437 -0.413379   ... -0.08960397  1.93965475\n",
            "  -0.00896996]\n",
            " [ 0.84246203  0.13948669 -0.413379   ... -0.08960397  1.93965475\n",
            "  -0.00896996]\n",
            " [ 0.84246203 -0.57077544 -0.413379   ... -0.08960397 -0.51555567\n",
            "  -0.00896996]]\n"
          ]
        }
      ]
    },
    {
      "cell_type": "markdown",
      "source": [
        "How do we handle the categorical features? We need to encode them. Keep meaning intact\n",
        "\n",
        "Example male = 1 female = 0\n",
        "\n",
        "*Feature engineering *- one hot encoding , watch out for the dummy variable trap\n",
        "\n",
        "Example:\n",
        "\n",
        "X = pd.get_dummies(X, drop_first= True)\n",
        "\n",
        "always include the drop first true value - drop the new column so we will not get duplicate informaiton - if we keep all new columns it will create noise. we only need one column for example for male and female\n",
        "X.head()"
      ],
      "metadata": {
        "id": "Z2aaTkVgcT_t"
      }
    },
    {
      "cell_type": "markdown",
      "source": [
        "# K nearest Neighbors(KNN)\n",
        "\n",
        "KNN is used on categorical KNN is supervised learning while K-means is unsupervised\n",
        "\n",
        "KNN is used for clustering, DT for classification. (Both are used for classification.)\n",
        "\n",
        "KNN determines neighborhoods, so there must be a distance metric. This implies that all the features must be numeric. Distance metrics may be affected by varying scales between attributes and also high-dimensional space.\n",
        "\n",
        "KNN is a classifier that makes predictions based on neighboring data points. It first finds the number of k neighbors with the shortest distance.\n",
        "\n",
        "Then counts each class for those k neighbors and makes a predication based on the class with the hightest count.\n",
        "\n",
        "(counts the neighbors for classification. So with data points we have a two features sets column1 and column2 with two categories - is our data blue or orange but we need to make predication if it is blue or orange- it will count the categories - we have more blue than orange and so the point is blue) counts neighbors this is called Euclidean distance.\n",
        "\n",
        "Example: n_neighbors should not be even start with odd usually start with three - work our way up - look at accuracy and see how it improves. example"
      ],
      "metadata": {
        "id": "A9lBA7UQc8GM"
      }
    },
    {
      "cell_type": "markdown",
      "source": [
        "## KNN Normal"
      ],
      "metadata": {
        "id": "mjJb_K6IIIyX"
      }
    },
    {
      "cell_type": "code",
      "source": [
        "# Build the KNN model - empty model choose odd number 3 to 5\n",
        "KNNclf = KNeighborsClassifier(n_neighbors = 3 )\n",
        "# Train or Fit the KNN model insert training data set that has been normanized and the y train\n",
        "KNNclf.fit(X_train_scaled, y_train)\n",
        "# Make predictions on the x_test set using the trained model - use mode . predict pass test set through it\n",
        "# result is y test predicatin\n",
        "KNNtest_predictions = KNNclf.predict(X_test_scaled)"
      ],
      "metadata": {
        "id": "I7Zl_1ySdD5z"
      },
      "execution_count": 52,
      "outputs": []
    },
    {
      "cell_type": "code",
      "source": [
        "# Evaluate the model accuracy\n",
        "# use various metrics 79% were correct\n",
        "# models should not be 90 % high to start off double check work to see what is going on\n",
        "accuracy_score(y_test, KNNtest_predictions)"
      ],
      "metadata": {
        "id": "tsPLomACixxH",
        "colab": {
          "base_uri": "https://localhost:8080/"
        },
        "outputId": "42d22cb5-43d2-4e6f-8b28-98fae8ed2a96"
      },
      "execution_count": 53,
      "outputs": [
        {
          "output_type": "execute_result",
          "data": {
            "text/plain": [
              "0.865884561238855"
            ]
          },
          "metadata": {},
          "execution_count": 53
        }
      ]
    },
    {
      "cell_type": "code",
      "source": [
        "# Data has a small imbalance\n",
        "# count values in no and yes\n",
        "y_train.value_counts()"
      ],
      "metadata": {
        "id": "rrpg2tD1i2Oz",
        "colab": {
          "base_uri": "https://localhost:8080/"
        },
        "outputId": "faf9ca33-03fa-43b8-b251-c04290b4fdc1"
      },
      "execution_count": 54,
      "outputs": [
        {
          "output_type": "execute_result",
          "data": {
            "text/plain": [
              "no     21969\n",
              "yes     2890\n",
              "Name: y, dtype: int64"
            ]
          },
          "metadata": {},
          "execution_count": 54
        }
      ]
    },
    {
      "cell_type": "markdown",
      "source": [
        "Look at accuracy and see how it improves.\n",
        "\n",
        "example : Evaluate the model accuracy accuracy_score(y_test, KNNtest_predications)\n",
        "\n",
        "compare the y_test - the answers to the actual data we are testing\n",
        "\n",
        "Use accuracy score function\n",
        "\n",
        "this will help us evualate our data"
      ],
      "metadata": {
        "id": "6YTe3AqjdWeZ"
      }
    },
    {
      "cell_type": "code",
      "source": [
        "# display confusion matrix\n",
        "confusion_matrix(y_test,KNNtest_predictions)"
      ],
      "metadata": {
        "id": "5jJ1q3FlILXk",
        "colab": {
          "base_uri": "https://localhost:8080/"
        },
        "outputId": "9a1ee325-e760-4559-e59a-ceca5bd5b391"
      },
      "execution_count": 55,
      "outputs": [
        {
          "output_type": "execute_result",
          "data": {
            "text/plain": [
              "array([[8990,  388],\n",
              "       [1041,  236]])"
            ]
          },
          "metadata": {},
          "execution_count": 55
        }
      ]
    },
    {
      "cell_type": "markdown",
      "source": [
        "## Evaluate Models\n",
        "\n",
        "What is a classification report?\n",
        "\n",
        "It is a report that details the precision, recall, and accuracy of the predicted data points for each categorical class. A classification report can be used to determine the rate of false positives, false negatives, and the quality of the predictions.\n",
        "\n",
        "***Precision:*** is the ratio of correctly predicted positive observations to the total predicted positive observations. High precision shows low false positives. TP / (TP + FP)\n",
        "\n",
        "***Recall or Sensitivity:*** is the ratio of correctly pridicted positive observations to total actual positive observations. High recall shows low false negatives. TP / (TP + FN)\n",
        "Specificity: is the ratio of correctly predicted negative observations to total actual negative observations. TN / (TN + FP)\n",
        "\n",
        "A***ccuracy:*** how often the model is correct-the ratio of correctly predicted observations to the total number of observations. (TP + TN) / (TP +\n",
        "TN + FP + FN)\n",
        "\n",
        "***F1-score:*** is a weighted harmonic mean of precision and recall. 2*(Recall * Precision) / (Recall + Precision)\n",
        "\n",
        "***Support: ***is the number of occurence of the given class in your measured dataset.\n",
        "Macro-Avg: simple mean of the scores.\n",
        "Weighted-Avg: average that factors in the count for each class."
      ],
      "metadata": {
        "id": "9sPo2p9tJJRV"
      }
    },
    {
      "cell_type": "code",
      "source": [
        "# Display classification report\n",
        "# the higher precision the lower the false positives\n",
        "# increase precsion as much as possible\n",
        "# recall the higher the lower the false\n",
        "print(classification_report(y_test,KNNtest_predictions))"
      ],
      "metadata": {
        "id": "rt1FW1kCjWWe",
        "colab": {
          "base_uri": "https://localhost:8080/"
        },
        "outputId": "aafbcefc-5168-4b66-cdb6-65bad32ca0e7"
      },
      "execution_count": 56,
      "outputs": [
        {
          "output_type": "stream",
          "name": "stdout",
          "text": [
            "              precision    recall  f1-score   support\n",
            "\n",
            "          no       0.90      0.96      0.93      9378\n",
            "         yes       0.38      0.18      0.25      1277\n",
            "\n",
            "    accuracy                           0.87     10655\n",
            "   macro avg       0.64      0.57      0.59     10655\n",
            "weighted avg       0.83      0.87      0.85     10655\n",
            "\n"
          ]
        }
      ]
    },
    {
      "cell_type": "code",
      "source": [
        "# Let's visualize the tree"
      ],
      "metadata": {
        "id": "bQTf8ec2jePi"
      },
      "execution_count": null,
      "outputs": []
    },
    {
      "cell_type": "code",
      "source": [
        "# example : Evaluate the model accuracy"
      ],
      "metadata": {
        "id": "VJx0s1FLdcLw"
      },
      "execution_count": null,
      "outputs": []
    },
    {
      "cell_type": "markdown",
      "source": [
        "Count the values to look at the data\n",
        "This can check for imbalance\n",
        "look at values in our training\n",
        "look at our categories in our training.\n"
      ],
      "metadata": {
        "id": "4140qvTrdaH2"
      }
    },
    {
      "cell_type": "code",
      "source": [
        "# example"
      ],
      "metadata": {
        "id": "hXBa81AJdjG7"
      },
      "execution_count": null,
      "outputs": []
    },
    {
      "cell_type": "markdown",
      "source": [
        "random forest classifier algo works the best"
      ],
      "metadata": {
        "id": "ZGxzgovey4zU"
      }
    },
    {
      "cell_type": "markdown",
      "source": [
        "## Random resampling oversampling Undersampling"
      ],
      "metadata": {
        "id": "mOAlpO8pLlfw"
      }
    },
    {
      "cell_type": "code",
      "source": [
        "## Random Undersampling\n",
        "# oversampling is the process of creating more instances\n",
        "# we need to balance the dataset\n",
        "# or we can undersample\n",
        "# instantiate the RadomUndersampler instance\n",
        "rus = RandomUnderSampler(random_state = 1)"
      ],
      "metadata": {
        "id": "ysZF0K-PLkZt"
      },
      "execution_count": 57,
      "outputs": []
    },
    {
      "cell_type": "code",
      "source": [
        "# fit the data to the resampler model\n",
        "X_resampled, y_resampled = rus.fit_resample(X_train_scaled, y_train)"
      ],
      "metadata": {
        "id": "7BoUEfj-NLXf"
      },
      "execution_count": 58,
      "outputs": []
    },
    {
      "cell_type": "code",
      "source": [
        "# count the distinct values\n",
        "y_resampled.value_counts()"
      ],
      "metadata": {
        "id": "bk8WM3lQNXAI",
        "colab": {
          "base_uri": "https://localhost:8080/"
        },
        "outputId": "aa94c623-68db-48a2-c232-cb4330a2acdf"
      },
      "execution_count": 59,
      "outputs": [
        {
          "output_type": "execute_result",
          "data": {
            "text/plain": [
              "no     2890\n",
              "yes    2890\n",
              "Name: y, dtype: int64"
            ]
          },
          "metadata": {},
          "execution_count": 59
        }
      ]
    },
    {
      "cell_type": "code",
      "source": [
        "# build the resampled model\n",
        "# Build the KNN model - empty model choose odd number 3 to 5\n",
        "KNNclf_resampled = KNeighborsClassifier(n_neighbors = 3 )\n",
        "# Train or Fit the KNN model insert training data set that has been normanized and the y train\n",
        "KNNclf_resampled.fit(X_resampled , y_resampled)\n",
        "# Make predictions on the x_test set using the trained model - use mode . predict pass test set through it\n",
        "# result is y test predicatin\n",
        "KNNtest_pred_resampled  = KNNclf_resampled .predict(X_test_scaled)"
      ],
      "metadata": {
        "id": "TqxmKiXWNlRu"
      },
      "execution_count": 60,
      "outputs": []
    },
    {
      "cell_type": "code",
      "source": [
        "# Evaluate the model accuracy\n",
        "accuracy_score(y_test, KNNtest_pred_resampled)"
      ],
      "metadata": {
        "id": "HRnZYojwOVl1",
        "colab": {
          "base_uri": "https://localhost:8080/"
        },
        "outputId": "bd6c9352-e78e-40c4-a364-e05ed479dc95"
      },
      "execution_count": 61,
      "outputs": [
        {
          "output_type": "execute_result",
          "data": {
            "text/plain": [
              "0.6221492257156265"
            ]
          },
          "metadata": {},
          "execution_count": 61
        }
      ]
    },
    {
      "cell_type": "code",
      "source": [
        "# Display classification report\n",
        "# the higher precision the lower the false positives\n",
        "# increase precsion as much as possible\n",
        "# recall the higher the lower the false\n",
        "print(classification_report(y_test,KNNtest_pred_resampled))"
      ],
      "metadata": {
        "id": "9N6kOoW_gBbo",
        "colab": {
          "base_uri": "https://localhost:8080/"
        },
        "outputId": "1525c1ff-01d5-4d7a-f123-934512675141"
      },
      "execution_count": 62,
      "outputs": [
        {
          "output_type": "stream",
          "name": "stdout",
          "text": [
            "              precision    recall  f1-score   support\n",
            "\n",
            "          no       0.93      0.62      0.74      9378\n",
            "         yes       0.18      0.63      0.29      1277\n",
            "\n",
            "    accuracy                           0.62     10655\n",
            "   macro avg       0.55      0.63      0.51     10655\n",
            "weighted avg       0.84      0.62      0.69     10655\n",
            "\n"
          ]
        }
      ]
    },
    {
      "cell_type": "markdown",
      "source": [
        "## OverSampling\n"
      ],
      "metadata": {
        "id": "avpiow85NKJs"
      }
    },
    {
      "cell_type": "code",
      "source": [
        "from imblearn.over_sampling import RandomOverSampler\n",
        "\n",
        "# instantiate the _oversampler instance\n",
        "random_oversampler = RandomOverSampler(random_state = 1)\n",
        "\n",
        "# fit the data to the _oversampler model\n",
        "\n",
        "X_oversampler, y_oversampler = random_oversampler.fit_resample(X_train_scaled, y_train)\n",
        "\n",
        "# count the distinct values\n",
        "y_oversampler.value_counts()"
      ],
      "metadata": {
        "id": "8pIqYFSiOzUc",
        "colab": {
          "base_uri": "https://localhost:8080/"
        },
        "outputId": "66d288ba-3f4e-4ec6-f28b-822bef0d4e78"
      },
      "execution_count": 63,
      "outputs": [
        {
          "output_type": "execute_result",
          "data": {
            "text/plain": [
              "no     21969\n",
              "yes    21969\n",
              "Name: y, dtype: int64"
            ]
          },
          "metadata": {},
          "execution_count": 63
        }
      ]
    },
    {
      "cell_type": "code",
      "source": [
        "# build the _oversampler model\n",
        "# Build the KNN model - empty model choose odd number 3 to 5\n",
        "KNNclf_oversampler = KNeighborsClassifier(n_neighbors = 3 )\n",
        "# Train or Fit the KNN model insert training data set that has been normanized and the y train\n",
        "KNNclf_oversampler.fit(X_oversampler , y_oversampler)\n",
        "# Make predictions on the x_test set using the trained model - use mode . predict pass test set through it\n",
        "# result is y test predicatin\n",
        "KNNtest_pred_oversampler  = KNNclf_oversampler .predict(X_test_scaled)\n",
        "# Evaluate the model accuracy\n",
        "accuracy_score(y_test, KNNtest_pred_oversampler)"
      ],
      "metadata": {
        "id": "rliX6WyPTCcM",
        "colab": {
          "base_uri": "https://localhost:8080/"
        },
        "outputId": "fa83fc76-f38d-412e-9c29-3012f91fcf8c"
      },
      "execution_count": 64,
      "outputs": [
        {
          "output_type": "execute_result",
          "data": {
            "text/plain": [
              "0.7776630689816987"
            ]
          },
          "metadata": {},
          "execution_count": 64
        }
      ]
    },
    {
      "cell_type": "code",
      "source": [
        "# Display classification report\n",
        "# the higher precision the lower the false positives\n",
        "# increase precsion as much as possible\n",
        "# recall the higher the lower the false\n",
        "print(classification_report(y_test,KNNtest_pred_oversampler))"
      ],
      "metadata": {
        "id": "VWg_v9XUgTIf",
        "colab": {
          "base_uri": "https://localhost:8080/"
        },
        "outputId": "3d83e758-0041-4330-90d4-82191982cae7"
      },
      "execution_count": 65,
      "outputs": [
        {
          "output_type": "stream",
          "name": "stdout",
          "text": [
            "              precision    recall  f1-score   support\n",
            "\n",
            "          no       0.91      0.83      0.87      9378\n",
            "         yes       0.23      0.38      0.29      1277\n",
            "\n",
            "    accuracy                           0.78     10655\n",
            "   macro avg       0.57      0.60      0.58     10655\n",
            "weighted avg       0.83      0.78      0.80     10655\n",
            "\n"
          ]
        }
      ]
    },
    {
      "cell_type": "code",
      "source": [
        "# evaluate the model accuracy\n",
        "print(f'Original model: {accuracy_score(y_test, KNNtest_predictions)}')\n",
        "# print(f'Undersampling model: {accuracy_score(y_test, KNNtest_pred_resampled)}')\n",
        "print(f'Oversampling model: {accuracy_score(y_test, KNNtest_pred_oversampler)}')"
      ],
      "metadata": {
        "id": "Lt5uao4PP5Ge",
        "colab": {
          "base_uri": "https://localhost:8080/"
        },
        "outputId": "d1f3e639-9703-4764-ddff-fd0c69dcc422"
      },
      "execution_count": 66,
      "outputs": [
        {
          "output_type": "stream",
          "name": "stdout",
          "text": [
            "Original model: 0.865884561238855\n",
            "Oversampling model: 0.7776630689816987\n"
          ]
        }
      ]
    },
    {
      "cell_type": "markdown",
      "source": [
        "# Decision Trees\n",
        "Tree-based algorithms are supervised learning methods that are mostly used for classifications and regression problems. The decision logic can be traced throughout each step of the model to see how the model reached the final prediction.\n",
        "\n",
        "There are some key concepts that are important to know when working with decision trees:\n",
        "\n",
        "* Root Node: A node that is divided into two or more homogeneous sets and represents the entire population or sample data.\n",
        "* Parent Node: A node that is divided into sub-nodes.\n",
        "* Child Node: Sub-nodes of a parent node.\n",
        "* Decision Node: A sub-node that is split into further sub-nodes.\n",
        "* Leaf or Terminal Node: Nodes that do not split.\n",
        "* Branch or Sub-Tree: A subsection of the entire tree.\n",
        "* Splitting: The process of dividing a node into two or more sub-nodes.\n",
        "* Pruning: The process of removing sub-nodes of a decision node.\n",
        "* Tree's Depth: The number of decision nodes encountered before making a decision.\n"
      ],
      "metadata": {
        "id": "1latIcIySQj9"
      }
    },
    {
      "cell_type": "markdown",
      "source": [
        "## Decision Tree Normal"
      ],
      "metadata": {
        "id": "tsR1u_G4GO2W"
      }
    },
    {
      "cell_type": "code",
      "source": [
        "# Build the decision tree model\n",
        "treeclf = DecisionTreeClassifier()\n",
        "\n",
        "# Train or Fit the decision tree model\n",
        "treeclf.fit(X_train_scaled, y_train)\n",
        "\n",
        "# Make predictions on the x_test set using the trained model\n",
        "treetest_predictions = treeclf.predict(X_test_scaled)"
      ],
      "metadata": {
        "id": "pdLcn0IaSY-D"
      },
      "execution_count": 67,
      "outputs": []
    },
    {
      "cell_type": "code",
      "source": [
        "# Display confusion matrix\n",
        "confusion_matrix(y_test, treetest_predictions)"
      ],
      "metadata": {
        "id": "QZ7UBrbUSa27",
        "colab": {
          "base_uri": "https://localhost:8080/"
        },
        "outputId": "7a0cddea-feaf-47d0-b3d8-eac60c5c09e3"
      },
      "execution_count": 68,
      "outputs": [
        {
          "output_type": "execute_result",
          "data": {
            "text/plain": [
              "array([[8357, 1021],\n",
              "       [ 963,  314]])"
            ]
          },
          "metadata": {},
          "execution_count": 68
        }
      ]
    },
    {
      "cell_type": "code",
      "source": [
        "# Display classification report\n",
        "# the higher precision the lower the false positives\n",
        "# increase precsion as much as possible\n",
        "# recall the higher the lower the false\n",
        "print(classification_report(y_test,treetest_predictions))"
      ],
      "metadata": {
        "id": "fxQTcYy7H7f5",
        "colab": {
          "base_uri": "https://localhost:8080/"
        },
        "outputId": "2855b326-c3c6-4c65-822b-12fc3b531df4"
      },
      "execution_count": 69,
      "outputs": [
        {
          "output_type": "stream",
          "name": "stdout",
          "text": [
            "              precision    recall  f1-score   support\n",
            "\n",
            "          no       0.90      0.89      0.89      9378\n",
            "         yes       0.24      0.25      0.24      1277\n",
            "\n",
            "    accuracy                           0.81     10655\n",
            "   macro avg       0.57      0.57      0.57     10655\n",
            "weighted avg       0.82      0.81      0.82     10655\n",
            "\n"
          ]
        }
      ]
    },
    {
      "cell_type": "code",
      "source": [
        "print(f'Original model: {accuracy_score(y_test, KNNtest_predictions)}')\n",
        "print(f'Undersampling model: {accuracy_score(y_test, KNNtest_pred_resampled)}')\n",
        "print(f'Oversampling model: {accuracy_score(y_test, KNNtest_pred_oversampler)}')\n",
        "print(f'Decision Tree model: {accuracy_score(y_test, treetest_predictions)}')"
      ],
      "metadata": {
        "id": "Y08jjSeDUuQr",
        "colab": {
          "base_uri": "https://localhost:8080/"
        },
        "outputId": "cd303bbe-d800-4a2b-f003-407ee3074de7"
      },
      "execution_count": 70,
      "outputs": [
        {
          "output_type": "stream",
          "name": "stdout",
          "text": [
            "Original model: 0.865884561238855\n",
            "Undersampling model: 0.6221492257156265\n",
            "Oversampling model: 0.7776630689816987\n",
            "Decision Tree model: 0.8137963397465978\n"
          ]
        }
      ]
    },
    {
      "cell_type": "code",
      "source": [
        "# @title\n",
        "# Display classification report\n",
        "# the higher precision the lower the false positives\n",
        "# increase precsion as much as possible\n",
        "# recall the higher the lower the false\n",
        "print(classification_report(y_test,treetest_predictions))"
      ],
      "metadata": {
        "id": "ro2U87vvgniO",
        "colab": {
          "base_uri": "https://localhost:8080/"
        },
        "outputId": "bce9ad54-c456-45db-ba21-753afa27ca5d"
      },
      "execution_count": 71,
      "outputs": [
        {
          "output_type": "stream",
          "name": "stdout",
          "text": [
            "              precision    recall  f1-score   support\n",
            "\n",
            "          no       0.90      0.89      0.89      9378\n",
            "         yes       0.24      0.25      0.24      1277\n",
            "\n",
            "    accuracy                           0.81     10655\n",
            "   macro avg       0.57      0.57      0.57     10655\n",
            "weighted avg       0.82      0.81      0.82     10655\n",
            "\n"
          ]
        }
      ]
    },
    {
      "cell_type": "code",
      "source": [
        "# Let's visualize the tree\n",
        "fig, ax = plt.subplots(figsize=(5,5))\n",
        "tree.plot_tree(treeclf, fontsize=10, feature_names=X.columns)\n",
        "plt.show()"
      ],
      "metadata": {
        "id": "Ghff6uJMSct6"
      },
      "execution_count": null,
      "outputs": []
    },
    {
      "cell_type": "markdown",
      "source": [
        "## Decision Tree Random Sampling"
      ],
      "metadata": {
        "id": "wxVUfnyTGFmn"
      }
    },
    {
      "cell_type": "code",
      "source": [
        "# Build the decision tree model\n",
        "treeclf_resampled = DecisionTreeClassifier()\n",
        "# Train or Fit the decision tree model\n",
        "treeclf_resampled.fit(X_resampled , y_resampled)\n",
        "# Make predictions on the x_test set using the trained model\n",
        "treetest_pred_resampled = treeclf_resampled.predict(X_test_scaled)\n",
        "# Display confusion matrix\n",
        "confusion_matrix(y_test, treetest_pred_resampled)"
      ],
      "metadata": {
        "id": "5FfOrNQNFxQ-"
      },
      "execution_count": null,
      "outputs": []
    },
    {
      "cell_type": "code",
      "source": [
        "\n",
        "print(classification_report(y_test, treetest_pred_resampled))"
      ],
      "metadata": {
        "id": "SRDuE5KARiyB"
      },
      "execution_count": null,
      "outputs": []
    },
    {
      "cell_type": "code",
      "source": [
        "print(f'Original model: {accuracy_score(y_test, KNNtest_predictions)}')\n",
        "print(f'Undersampling model: {accuracy_score(y_test, KNNtest_pred_resampled)}')\n",
        "print(f'Oversampling model: {accuracy_score(y_test, KNNtest_pred_oversampler)}')\n",
        "print(f'Decision Tree model: {accuracy_score(y_test, treetest_predictions)}')\n",
        "print(f'Decision Tree Undersampling model: {accuracy_score(y_test, treetest_pred_resampled)}')"
      ],
      "metadata": {
        "id": "NKAtrc-ZRGZp"
      },
      "execution_count": null,
      "outputs": []
    },
    {
      "cell_type": "markdown",
      "source": [
        "## Decision Tree Oversampling"
      ],
      "metadata": {
        "id": "1JJwPCxSRykY"
      }
    },
    {
      "cell_type": "code",
      "source": [
        "# Build the decision tree model\n",
        "treeclf_oversampler = DecisionTreeClassifier()\n",
        "# Train or Fit the decision tree model\n",
        "treeclf_oversampler.fit(X_oversampler, y_oversampler)\n",
        "# Make predictions on the x_test set using the trained model\n",
        "treetest_pred_oversampler = treeclf_oversampler.predict(X_test_scaled)\n",
        "# Display confusion matrix\n",
        "confusion_matrix(y_test, treetest_pred_oversampler)"
      ],
      "metadata": {
        "id": "h22sSuDgRxAE"
      },
      "execution_count": null,
      "outputs": []
    },
    {
      "cell_type": "code",
      "source": [
        "print(classification_report(y_test, treetest_pred_oversampler))"
      ],
      "metadata": {
        "id": "GU7BrwKFSJHO"
      },
      "execution_count": null,
      "outputs": []
    },
    {
      "cell_type": "code",
      "source": [
        "print(f'Original model: {accuracy_score(y_test, KNNtest_predictions)}')\n",
        "print(f'Undersampling model: {accuracy_score(y_test, KNNtest_pred_resampled)}')\n",
        "print(f'Oversampling model: {accuracy_score(y_test, KNNtest_pred_oversampler)}')\n",
        "print(f'Decision Tree model: {accuracy_score(y_test, treetest_predictions)}')\n",
        "print(f'Decision Tree Undersampling model: {accuracy_score(y_test, treetest_pred_resampled)}')\n",
        "print(f'Decision Tree oversampling model: {accuracy_score(y_test, treetest_pred_oversampler)}')"
      ],
      "metadata": {
        "id": "dxZGaBC_RucL"
      },
      "execution_count": null,
      "outputs": []
    },
    {
      "cell_type": "markdown",
      "source": [
        "#Random forest\n"
      ],
      "metadata": {
        "id": "gX39NHH5LXIu"
      }
    },
    {
      "cell_type": "markdown",
      "source": [
        "We first create an instance of the Random Forest model, with the default parameters. We then fit this to our training data. We pass both the features and the target variable, so the model can learn.\n",
        "\n",
        "https://www.datacamp.com/tutorial/random-forests-classifier-python"
      ],
      "metadata": {
        "id": "nW5F2tH733Yg"
      }
    },
    {
      "cell_type": "markdown",
      "source": [
        "## Random Forest Normal"
      ],
      "metadata": {
        "id": "nd-K2iD7T8cH"
      }
    },
    {
      "cell_type": "code",
      "source": [
        "# Normal\n",
        "# build the random forest\n",
        "rf = RandomForestClassifier()\n",
        "# Train or Fit the decision tree model\n",
        "rf.fit(X_train_scaled, y_train)\n",
        "# Make predictions on the x_test set using the trained model\n",
        "rf_predictions = rf.predict(X_test_scaled)\n",
        "y_pred = rf.predict(X_test_scaled)"
      ],
      "metadata": {
        "id": "G3l7obDn34n-"
      },
      "execution_count": null,
      "outputs": []
    },
    {
      "cell_type": "markdown",
      "source": [
        "At this point, we have a trained Random Forest model, but we need to find out whether it is making accurate predictions."
      ],
      "metadata": {
        "id": "LPMu_LO65I_x"
      }
    },
    {
      "cell_type": "code",
      "source": [
        "# Display confusion matrix\n",
        "confusion_matrix(y_test, rf_predictions)"
      ],
      "metadata": {
        "id": "RBxvi8aFUBny"
      },
      "execution_count": null,
      "outputs": []
    },
    {
      "cell_type": "code",
      "source": [
        "print(classification_report(y_test, rf_predictions))"
      ],
      "metadata": {
        "id": "iR3UV1GXUKhO"
      },
      "execution_count": null,
      "outputs": []
    },
    {
      "cell_type": "markdown",
      "source": [
        "The simplest way to evaluate this model is using accuracy; we check the predictions against the actual values in the test set and count up how many the model got right."
      ],
      "metadata": {
        "id": "xgIE5GG05Qyq"
      }
    },
    {
      "cell_type": "code",
      "source": [
        "accuracy = accuracy_score(y_test, y_pred)\n",
        "print(\"Accuracy:\", accuracy)"
      ],
      "metadata": {
        "id": "B8bKBEE25Prs"
      },
      "execution_count": null,
      "outputs": []
    },
    {
      "cell_type": "code",
      "source": [
        "# evaluate the model accuracy\n",
        "print(f'Original model: {accuracy_score(y_test, KNNtest_predictions)}')\n",
        "print(f'Undersampling model: {accuracy_score(y_test, KNNtest_pred_resampled)}')\n",
        "print(f'Oversampling model: {accuracy_score(y_test, KNNtest_pred_oversampler)}')\n",
        "print(f'Decision Tree model: {accuracy_score(y_test, treetest_predictions)}')\n",
        "print(f'Decision Tree Undersampling model: {accuracy_score(y_test, treetest_pred_resampled)}')\n",
        "print(f'Decision Tree oversampling model: {accuracy_score(y_test, treetest_pred_oversampler)}')\n",
        "print(f'Random Forest model: {accuracy_score(y_test, rf_predictions)}')"
      ],
      "metadata": {
        "id": "8gbg1IuAUba0"
      },
      "execution_count": null,
      "outputs": []
    },
    {
      "cell_type": "code",
      "source": [
        "# We can use the following code to visualize our first 3 trees.\n",
        "# Export the first three decision trees from the forest\n",
        "\n",
        "for i in range(3):\n",
        "    tree = rf.estimators_[i]\n",
        "    dot_data = export_graphviz(tree,\n",
        "                               feature_names=X_train.columns,\n",
        "                               filled=True,\n",
        "                               max_depth=2,\n",
        "                               impurity=False,\n",
        "                               proportion=True)\n",
        "    graph = graphviz.Source(dot_data)\n",
        "    display(graph)"
      ],
      "metadata": {
        "id": "-w0IyalYGwrS"
      },
      "execution_count": null,
      "outputs": []
    },
    {
      "cell_type": "markdown",
      "source": [
        "## Random Forest OverSampling"
      ],
      "metadata": {
        "id": "Ri-FWxy6UtX9"
      }
    },
    {
      "cell_type": "code",
      "source": [
        "# build the random forest\n",
        "rf_oversampler = RandomForestClassifier()\n",
        "# Train or Fit the decision tree model\n",
        "rf_oversampler.fit(X_oversampler, y_oversampler)\n",
        "# Make predictions on the x_test set using the trained model\n",
        "rf_pred_oversampler = rf_oversampler.predict(X_test_scaled)\n",
        "y_pred = rf_oversampler.predict(X_test_scaled)"
      ],
      "metadata": {
        "id": "fyrdvgJdUsho"
      },
      "execution_count": null,
      "outputs": []
    },
    {
      "cell_type": "code",
      "source": [
        "# Display confusion matrix\n",
        "confusion_matrix(y_test, rf_pred_oversampler)"
      ],
      "metadata": {
        "id": "cOkpDf5cU8Nc"
      },
      "execution_count": null,
      "outputs": []
    },
    {
      "cell_type": "code",
      "source": [
        "print(classification_report(y_test, rf_pred_oversampler))"
      ],
      "metadata": {
        "id": "5sn_ORAKU-4z"
      },
      "execution_count": null,
      "outputs": []
    },
    {
      "cell_type": "code",
      "source": [
        "accuracy = accuracy_score(y_test, y_pred)\n",
        "print(\"Accuracy:\", accuracy)"
      ],
      "metadata": {
        "id": "hvn-P1q8VBVC"
      },
      "execution_count": null,
      "outputs": []
    },
    {
      "cell_type": "code",
      "source": [
        "# evaluate the model accuracy\n",
        "print(f'Original model: {accuracy_score(y_test, KNNtest_predictions)}')\n",
        "print(f'Undersampling model: {accuracy_score(y_test, KNNtest_pred_resampled)}')\n",
        "print(f'Oversampling model: {accuracy_score(y_test, KNNtest_pred_oversampler)}')\n",
        "print(f'Decision Tree model: {accuracy_score(y_test, treetest_predictions)}')\n",
        "print(f'Decision Tree Undersampling model: {accuracy_score(y_test, treetest_pred_resampled)}')\n",
        "print(f'Decision Tree oversampling model: {accuracy_score(y_test, treetest_pred_oversampler)}')\n",
        "print(f'Random Forest model: {accuracy_score(y_test, rf_predictions)}')\n",
        "print(f'Random Forest oversampling model: {accuracy_score(y_test, rf_pred_oversampler)}')"
      ],
      "metadata": {
        "id": "LSqIInGfVDaM"
      },
      "execution_count": null,
      "outputs": []
    },
    {
      "cell_type": "markdown",
      "source": [
        "##Random Forest with oversampling Example 2"
      ],
      "metadata": {
        "id": "8d_417KZvr6F"
      }
    },
    {
      "cell_type": "code",
      "source": [
        "# before oversampling\n",
        "print(\"counts of label '1': {}\".format(sum(y_train == 1)))\n",
        "print(\"counts of label '0': {} \\n\".format(sum(y_train == 0)))"
      ],
      "metadata": {
        "id": "ukQT9_Jvhq7j"
      },
      "execution_count": null,
      "outputs": []
    },
    {
      "cell_type": "code",
      "source": [
        "from imblearn.over_sampling import RandomOverSampler\n",
        "# Normal\n",
        "# build the random forest\n",
        "rf2_oversampler = RandomForestClassifier()\n",
        "# Train or Fit the decision tree model\n",
        "rf2_oversampler.fit(X_oversampler, y_oversampler)\n",
        "# Make predictions on the x_test set using the trained model\n",
        "rf2_oversampler_predictions = rf2_oversampler.predict(X_test_scaled)\n",
        "y_pred = rf2_oversampler.predict(X_test_scaled)"
      ],
      "metadata": {
        "id": "O9ceCEe5vvkH"
      },
      "execution_count": null,
      "outputs": []
    },
    {
      "cell_type": "code",
      "source": [
        "# Display confusion matrix\n",
        "confusion_matrix(y_test, rf2_oversampler_predictions)"
      ],
      "metadata": {
        "id": "77TpRYvc0Jty"
      },
      "execution_count": null,
      "outputs": []
    },
    {
      "cell_type": "code",
      "source": [
        "accuracy = accuracy_score(y_test, y_pred)\n",
        "print(\"Accuracy:\", accuracy)"
      ],
      "metadata": {
        "id": "uQNcq32fxK8d"
      },
      "execution_count": null,
      "outputs": []
    },
    {
      "cell_type": "code",
      "source": [
        "# Display classification report\n",
        "# the higher precision the lower the false positives\n",
        "# increase precsion as much as possible\n",
        "# recall the higher the lower the false\n",
        "print(classification_report(y_test,rf2_oversampler_predictions))"
      ],
      "metadata": {
        "id": "tUc3mkEzxYT1"
      },
      "execution_count": null,
      "outputs": []
    },
    {
      "cell_type": "code",
      "source": [
        "# evaluate the model accuracy\n",
        "print(f'Original model: {accuracy_score(y_test, KNNtest_predictions)}')\n",
        "print(f'Undersampling model: {accuracy_score(y_test, KNNtest_pred_resampled)}')\n",
        "print(f'Oversampling model: {accuracy_score(y_test, KNNtest_pred_oversampler)}')\n",
        "print(f'Decision Tree model: {accuracy_score(y_test, treetest_predictions)}')\n",
        "print(f'Decision Tree Undersampling model: {accuracy_score(y_test, treetest_pred_resampled)}')\n",
        "print(f'Decision Tree oversampling model: {accuracy_score(y_test, treetest_pred_oversampler)}')\n",
        "print(f'Random Forest model: {accuracy_score(y_test, rf_predictions)}')\n",
        "print(f'Random Forest oversampling model: {accuracy_score(y_test, rf_pred_oversampler)}')\n",
        "print(f'Random Forest oversampling 2 model: {accuracy_score(y_test, rf2_oversampler_predictions)}')"
      ],
      "metadata": {
        "id": "yAtb_REMxNnN"
      },
      "execution_count": null,
      "outputs": []
    },
    {
      "cell_type": "markdown",
      "source": [
        "## Random Forest Normal n_estimators and max_depth"
      ],
      "metadata": {
        "id": "aF3k8d0udbC_"
      }
    },
    {
      "cell_type": "code",
      "source": [
        "# decide how to pick the n estimator it is the number of decision trees in the forest\n",
        "# max depth is the number of splits tht each decision tree is allowed to make to low underfits\n",
        "# to high overfits generally we go with a max depth of 3, 5, 7\n",
        "# Note: By applying bootstrap, the data set is split into in-bag and out-of-bag(OOB)\n",
        "# data sets. This removes the need for creating a validation dataset."
      ],
      "metadata": {
        "id": "96edVlxRXkM5"
      },
      "execution_count": null,
      "outputs": []
    },
    {
      "cell_type": "markdown",
      "source": [
        "### Example Set Up"
      ],
      "metadata": {
        "id": "pUOT33v7nwcC"
      }
    },
    {
      "cell_type": "code",
      "source": [
        "rf = RandomForestClassifier(n_estimators=100, oob_score=True)\n",
        "rf.fit(X_train_scaled, y_train)"
      ],
      "metadata": {
        "id": "gfIptMLUaGJw"
      },
      "execution_count": null,
      "outputs": []
    },
    {
      "cell_type": "code",
      "source": [
        "# now print out of bag score for this fit\n",
        "print(rf.oob_score_)"
      ],
      "metadata": {
        "id": "DpT_L_DQmHgM"
      },
      "execution_count": null,
      "outputs": []
    },
    {
      "cell_type": "code",
      "source": [
        "import numpy as np\n",
        "from sklearn.model_selection import RandomizedSearchCV\n",
        "\n",
        "param_grid = {'n_estimators':np.arange(50,200,15),\n",
        "              'max_features':np.arange(0.1, 1, 0.1),\n",
        "              'max_depth': [3, 5, 7, 9],\n",
        "              'max_samples': [0.3, 0.5, 0.8]}\n",
        "\n",
        "rf = RandomizedSearchCV(RandomForestClassifier(), param_grid, n_iter = 15).fit(X_train_scaled, y_train)\n",
        "rf = rf.best_estimator_"
      ],
      "metadata": {
        "id": "2t6rRnSjmiMr"
      },
      "execution_count": null,
      "outputs": []
    },
    {
      "cell_type": "markdown",
      "source": [
        "## RF Normal N and Max"
      ],
      "metadata": {
        "id": "SkuH-QwLnsGc"
      }
    },
    {
      "cell_type": "code",
      "source": [
        "#rf.fit(X,y)\n",
        "# find the most important features\n",
        "importances = rf.feature_importances_"
      ],
      "metadata": {
        "id": "sltUNXmYoF7P"
      },
      "execution_count": null,
      "outputs": []
    },
    {
      "cell_type": "code",
      "source": [
        "std = np.std([tree.feature_importances_ for tree in rf.estimator_], axis=0)\n",
        "indices = np.argsort(importances)[::1]\n",
        "\n",
        "# print the feature ranking\n",
        "print(\"Feature Ranking\")\n",
        "for f in range(X_train_scaled.shape[1]):\n",
        "  print(\"%d. feature %d (%f)\" % ( f+ 1, indices[f], importances[indices[f]]))"
      ],
      "metadata": {
        "id": "kprcU9OWpJeI"
      },
      "execution_count": null,
      "outputs": []
    },
    {
      "cell_type": "code",
      "source": [
        "y_pred = rf.predict(X_test_scaled)"
      ],
      "metadata": {
        "id": "4uULBNhudM2q"
      },
      "execution_count": null,
      "outputs": []
    },
    {
      "cell_type": "code",
      "source": [
        "# Random Forest with n_estimators and max_depth\n",
        "\n",
        "param_dist = {'n_estimators': randint(50,100), # i need to figure this out\n",
        "             'max_depth': randint(1,7)} # i need to figure this out\n",
        " #param_dist = {'n_estimators': 100,'max_depth': randint(1,20)}\n",
        "\n",
        "# Create a random forest classifier\n",
        "rf = RandomForestClassifier()\n",
        "\n",
        "# Use random search to find the best hyperparameters\n",
        "rand_search = RandomizedSearchCV(rf,\n",
        "                                 param_distributions = param_dist,\n",
        "                                 n_iter=5,\n",
        "                                 cv=5)\n",
        "\n",
        "# Fit the random search object to the data\n",
        "rand_search.fit(X_train, y_train)"
      ],
      "metadata": {
        "id": "hCAj0n2j7HEE"
      },
      "execution_count": null,
      "outputs": []
    },
    {
      "cell_type": "code",
      "source": [
        "# Create a variable for the best model\n",
        "best_rf = rand_search.best_estimator_\n",
        "\n",
        "# Print the best hyperparameters\n",
        "print('Best hyperparameters:',  rand_search.best_params_)"
      ],
      "metadata": {
        "id": "K55k0N7g7qny"
      },
      "execution_count": null,
      "outputs": []
    },
    {
      "cell_type": "markdown",
      "source": [
        "More Evaluation Metrics\n",
        "Let’s look at the confusion matrix. This plots what the model predicted against what the correct prediction was. We can use this to understand the tradeoff between false positives (top right) and false negatives(bottom left) We can plot the confusion matrix using this code:\n",
        "\n",
        "\n"
      ],
      "metadata": {
        "id": "xxmexs9D7tIE"
      }
    },
    {
      "cell_type": "code",
      "source": [
        "# Generate predictions with the best model\n",
        "y_pred = best_rf.predict(X_test)\n",
        "\n",
        "# Create the confusion matrix\n",
        "cm = confusion_matrix(y_test, y_pred)\n",
        "\n",
        "ConfusionMatrixDisplay(confusion_matrix=cm).plot();"
      ],
      "metadata": {
        "id": "1RZRinB17ymz"
      },
      "execution_count": null,
      "outputs": []
    },
    {
      "cell_type": "markdown",
      "source": [
        "We should also evaluate the best model with accuracy, precision, and recall (note your results may differ due to randomization)"
      ],
      "metadata": {
        "id": "A90eY2pt73Nn"
      }
    },
    {
      "cell_type": "code",
      "source": [
        "#y_pred = knn.predict(X_test)\n",
        "\n",
        "#accuracy = accuracy_score(y_test, y_pred)\n",
        "#precision = precision_score(y_test, y_pred)\n",
        "#recall = recall_score(y_test, y_pred)\n",
        "\n",
        "#print(\"Accuracy:\", accuracy)\n",
        "#print(\"Precision:\", precision)\n",
        "#print(\"Recall:\", recall)\n",
        "print('Model accuracy score with 10 decision-trees : {0:0.4f}'. format(accuracy_score(y_test, y_pred)))"
      ],
      "metadata": {
        "id": "HTrQvBn975HE"
      },
      "execution_count": null,
      "outputs": []
    },
    {
      "cell_type": "markdown",
      "source": [
        "The below code plots the importance of each feature, using the model’s internal score to find the best way to split the data within each decision tree."
      ],
      "metadata": {
        "id": "xaaL4lE379WT"
      }
    },
    {
      "cell_type": "code",
      "source": [
        "# Create a series containing feature importances from the model and feature names from the training data\n",
        "feature_importances = pd.Series(best_rf.feature_importances_, index=X_train.columns).sort_values(ascending=False)\n",
        "\n",
        "# Plot a simple bar chart\n",
        "feature_importances.plot.bar();"
      ],
      "metadata": {
        "id": "Qiy_Gcn58AIr"
      },
      "execution_count": null,
      "outputs": []
    },
    {
      "cell_type": "markdown",
      "source": [
        "#Model -> Fit -> Predict"
      ],
      "metadata": {
        "id": "voPiTzIv3xO2"
      }
    },
    {
      "cell_type": "markdown",
      "source": [
        "### Visualizing the Results\n",
        "\n"
      ],
      "metadata": {
        "id": "20cZrHmz5abw"
      }
    },
    {
      "cell_type": "code",
      "source": [
        "# We can use the following code to visualize our first 3 trees.\n",
        "# Export the first three decision trees from the forest\n",
        "\n",
        "for i in range(3):\n",
        "    tree = rf.estimators_[i]\n",
        "    dot_data = export_graphviz(tree,\n",
        "                               feature_names=X_train.columns,\n",
        "                               filled=True,\n",
        "                               max_depth=2,\n",
        "                               impurity=False,\n",
        "                               proportion=True)\n",
        "    graph = graphviz.Source(dot_data)\n",
        "    display(graph)"
      ],
      "metadata": {
        "id": "TYRyNGem5d_b"
      },
      "execution_count": null,
      "outputs": []
    },
    {
      "cell_type": "markdown",
      "source": [
        "RandomizedSearchCV will train many models (defined by n_iter_ and save each one as variables, the code below creates a variable for the best model and prints the hyperparameters. In this case, we haven’t passed a scoring system to the function, so it defaults to accuracy. This function also uses cross validation, which means it splits the data into five equal-sized groups and uses 4 to train and 1 to test the result. It will loop through each group and give an accuracy score, which is averaged to find the best model."
      ],
      "metadata": {
        "id": "hzzqKXGS7aU2"
      }
    },
    {
      "cell_type": "code",
      "source": [
        "rf = RandomForestClassifier()\n",
        "# fitting the model\n",
        "rf.fit(X_train,y_train)\n",
        "accuracy_rf, recall_rf, Specificity_rf, Precision_rf, F1_score_rf, Balanced_Accuracy_rf = model_rf_perf = model_perf_to_lst(rf, X_test, y_test)"
      ],
      "metadata": {
        "id": "S9o2XLDim7mh"
      },
      "execution_count": null,
      "outputs": []
    },
    {
      "cell_type": "code",
      "source": [],
      "metadata": {
        "id": "9zOsnh57ho02"
      },
      "execution_count": null,
      "outputs": []
    },
    {
      "cell_type": "markdown",
      "source": [
        "##Build the train"
      ],
      "metadata": {
        "id": "4yY8iZEQpoYw"
      }
    },
    {
      "cell_type": "markdown",
      "source": [],
      "metadata": {
        "id": "HLgCM9vurTDr"
      }
    },
    {
      "cell_type": "markdown",
      "source": [
        "import pickle\n",
        "s = pickle.dumps(clf)\n",
        "clf2 = pickle.loads(s)"
      ],
      "metadata": {
        "id": "eoZc9kPgrbkN"
      }
    },
    {
      "cell_type": "markdown",
      "source": [
        "# Submitted"
      ],
      "metadata": {
        "id": "vXL52O1ZCQvE"
      }
    },
    {
      "cell_type": "code",
      "source": [],
      "metadata": {
        "id": "NDT9-lNrCUZb"
      },
      "execution_count": null,
      "outputs": []
    },
    {
      "cell_type": "code",
      "source": [
        "import pandas as pd\n",
        "import numpy as np\n",
        "import matplotlib.pyplot as plt\n",
        "from sklearn.model_selection import train_test_split\n",
        "from sklearn.tree import DecisionTreeClassifier\n",
        "from sklearn.ensemble import RandomForestClassifier, GradientBoostingClassifier\n",
        "from sklearn.metrics import accuracy_score\n",
        "from sklearn.tree import plot_tree\n",
        "from sklearn.metrics import accuracy_score, precision_score, recall_score, f1_score, confusion_matrix\n",
        "import seaborn as sns\n",
        "import pickle\n",
        "campaign = pd.read_csv('https://raw.githubusercontent.com/byui-cse/cse450-course/master/data/bank.csv')\n"
      ],
      "metadata": {
        "id": "4QbUjR9YsmR8"
      },
      "execution_count": null,
      "outputs": []
    },
    {
      "cell_type": "code",
      "metadata": {
        "id": "EGR0Wk0Gsvy4"
      },
      "source": [
        "#look at the file I read in\n",
        "campaign.head(3)"
      ],
      "execution_count": null,
      "outputs": []
    },
    {
      "cell_type": "code",
      "source": [
        "#What kind of data is in each column?\n",
        "# look at the columns to see about non null and types\n",
        "campaign.info()\n",
        "# no empty columns"
      ],
      "metadata": {
        "id": "k1tjRKV4szl4"
      },
      "execution_count": null,
      "outputs": []
    },
    {
      "cell_type": "code",
      "source": [
        "# Do any of the columns have missing values? No missing values just NaN\n",
        "campaign.nunique()"
      ],
      "metadata": {
        "id": "vQuYv5K4txuo"
      },
      "execution_count": null,
      "outputs": []
    },
    {
      "cell_type": "code",
      "source": [
        "campaign.isna().sum()"
      ],
      "metadata": {
        "id": "wQSZJIb0uDIp"
      },
      "execution_count": null,
      "outputs": []
    },
    {
      "cell_type": "code",
      "source": [
        "# @title\n",
        "campaign.hist('age','y',)\n",
        "# looks like from 25 - 40 said yes and said no"
      ],
      "metadata": {
        "id": "pD5iTHWBuUta"
      },
      "execution_count": null,
      "outputs": []
    },
    {
      "cell_type": "code",
      "source": [
        "campaign.hist('day_of_week','y')"
      ],
      "metadata": {
        "id": "2LQj8QOAu5bk"
      },
      "execution_count": null,
      "outputs": []
    },
    {
      "cell_type": "code",
      "metadata": {
        "id": "AMJUpqIlCxfu"
      },
      "source": [
        "import pandas as pd\n",
        "import numpy as np\n",
        "import matplotlib.pyplot as plt\n",
        "from sklearn.model_selection import train_test_split\n",
        "from sklearn.tree import DecisionTreeClassifier\n",
        "from sklearn.ensemble import RandomForestClassifier, GradientBoostingClassifier\n",
        "from sklearn.metrics import accuracy_score\n",
        "from sklearn.tree import plot_tree\n",
        "from sklearn.metrics import accuracy_score, precision_score, recall_score, f1_score, confusion_matrix\n",
        "import seaborn as sns\n",
        "campaign = pd.read_csv('https://raw.githubusercontent.com/byui-cse/cse450-course/master/data/bank.csv')\n",
        "# Transform catigorial data into numerical data\n",
        "campaign_numerical = pd.get_dummies(campaign, columns=['day_of_week', 'month', 'contact', 'housing', 'education', 'marital', 'job'])\n",
        "# Transform the target column into numerical data\n",
        "mapping = {'yes': 1, 'no': 0}\n",
        "campaign_numerical['y'] = campaign_numerical['y'].map(mapping)\n",
        "# Split data into features and target\n",
        "features, target = campaign_numerical.drop(['default', 'pdays', 'loan', 'previous', 'euribor3m', 'nr.employed', 'housing_unknown', 'education_unknown', 'marital_unknown', 'job_unknown', 'y', 'poutcome'], axis=1), campaign_numerical['y']\n",
        "# Split training data and testing data\n",
        "feature_train, feature_test, target_train, target_test = train_test_split(features, target, test_size=0.2, random_state=42)\n",
        "# Train the model\n",
        "model = RandomForestClassifier(random_state=42) # Accuracy: 0.88 | Precision: 0.70 | Recall: 0.62 | F1 Score: 0.65\n",
        "model.fit(feature_train, target_train)\n",
        "\n",
        "// see the et of numbers of the treest\n",
        "\n"
      ],
      "execution_count": null,
      "outputs": []
    },
    {
      "cell_type": "code",
      "source": [
        "\n",
        "# Have the model make predictions\n",
        "model_pred = model.predict(feature_test)\n",
        "#save the model as pickle\n",
        "with open('model.pkl', 'wb') as file:\n",
        "    pickle.dump(model, file)\n",
        "# Metrics\n",
        "print(\"Accuracy:\", accuracy_score(target_test, model_pred))\n",
        "print(\"Precision:\", precision_score(target_test, model_pred, average='macro'))\n",
        "print(\"Recall:\", recall_score(target_test, model_pred, average='macro'))\n",
        "print(\"F1 Score:\", f1_score(target_test, model_pred, average='macro'))\n",
        "# Feature Importance\n",
        "importances = model.feature_importances_\n",
        "# Get the list of feature names\n",
        "feature_names = features.columns.tolist()\n",
        "# Sort feature importances in descending order and get the indices\n",
        "indices = np.argsort(importances)[::-1]\n",
        "# Plot feature importances\n",
        "plt.figure(figsize=(20, 7))\n",
        "plt.title(\"Feature Importances\")\n",
        "plt.bar(range(features.shape[1]), importances[indices], align=\"center\")\n",
        "plt.xticks(range(features.shape[1]), np.array(feature_names)[indices], rotation=45)\n",
        "plt.xlim([-1, features.shape[1]])\n",
        "plt.tight_layout()\n",
        "plt.show()\n",
        "# Generate the confusion matrix\n",
        "c_matrix = confusion_matrix(target_test, model_pred)\n",
        "# displays a text confusion matrix\n",
        "print(c_matrix)\n",
        "# If you want to visualize the confusion matrix\n",
        "plt.figure(figsize=(10,7))\n",
        "sns.heatmap(c_matrix, annot=True, cmap='Blues', fmt='g')\n",
        "plt.xlabel('Predicted')\n",
        "plt.ylabel('Actual')\n",
        "plt.show()"
      ],
      "metadata": {
        "id": "T73qPRubLUTK"
      },
      "execution_count": null,
      "outputs": []
    },
    {
      "cell_type": "code",
      "source": [
        "import pickle\n",
        "# loads from a string\n",
        "s = pickle.dumps(model)\n",
        "clf2 = pickle.loads(s)"
      ],
      "metadata": {
        "id": "PDogRRGGt2Mz"
      },
      "execution_count": null,
      "outputs": []
    },
    {
      "cell_type": "code",
      "metadata": {
        "id": "mAZeQLsOCxfv"
      },
      "source": [
        "\n",
        "# assesing model's performance with the mini holdout set\n",
        "mini = pd.read_csv('https://raw.githubusercontent.com/byui-cse/cse450-course/master/data/bank_holdout_test_mini.csv')\n",
        "column_order = features.columns.tolist()\n",
        "mini = pd.DataFrame(mini)\n",
        "\n",
        "mini_encoded = pd.get_dummies(mini, columns=['day_of_week', 'month', 'contact', 'housing', 'education', 'marital', 'job'])\n",
        "mini_encoded = mini_encoded.drop(['default', 'pdays', 'loan', 'previous', 'euribor3m', 'nr.employed', 'housing_unknown', 'education_unknown', 'marital_unknown', 'job_unknown', 'poutcome'], axis=1)\n",
        "mini_encoded = mini_encoded[column_order]\n",
        "mapping = {'yes': 1, 'no': 0}\n",
        "#mini_encoded.info()\n",
        "#features.info()\n"
      ],
      "execution_count": null,
      "outputs": []
    },
    {
      "cell_type": "code",
      "source": [
        "# formatting mini holdout to match the format of the dataframe our model was trained on\n",
        "# creating a copy of our campaign dataframe, encoding categorical features\n",
        "model_pred_holdout = model.predict(mini_encoded)\n",
        "model_pred_holdout = pd.DataFrame(model_pred_holdout)\n",
        "# no y feature column to let us know if the predictions are correct or not in the holdout set\n",
        "#mini_holdout_ground_truth = mini[?]\n",
        "model_pred_holdout.rename(columns={0:'predictions' }, inplace=True)\n",
        "model_pred_holdout.to_csv('model_pred_holdout.csv', index=False)\n",
        "model_pred_holdout\n",
        "\n",
        "#print(\"Accuracy:\", accuracy_score(model_pred_holdout))\n",
        "#print(f\"Mini Holdout Accuracy: {accuracy:.2f}\")"
      ],
      "metadata": {
        "id": "OmeHG35csFgU"
      },
      "execution_count": null,
      "outputs": []
    },
    {
      "cell_type": "code",
      "source": [
        "from pathlib import Path\n",
        "filepath = Path('out.csv')\n",
        "filepath.parent.mkdir(exist_ok=True)\n",
        "\n",
        "predict = clf2.predict(mini_encoded)\n",
        "df = pd.DataFrame(predict, columns=[\"predictions\"])\n",
        "\n",
        "df.to_csv(filepath, index=False)"
      ],
      "metadata": {
        "id": "RVQEg7nGt6Ho"
      },
      "execution_count": null,
      "outputs": []
    },
    {
      "cell_type": "code",
      "metadata": {
        "id": "CeioHCt5Cxfv"
      },
      "source": [
        "with open('/content/model.pkl', 'rb') as file:\n",
        "    loaded_model = pickle.load(file)\n",
        "predictions = loaded_model.predict(mini_encoded)\n",
        "df = pd.DataFrame(predictions, columns=[\"predictions\"])\n",
        "\n",
        "df.to_csv(filepath, index=False)\n",
        "\n",
        "#model_pred_holdout = pd.DataFrame(model_pred_holdout)\n",
        "# no y feature column to let us know if the predictions are correct or not in the holdout set\n",
        "#mini_holdout_ground_truth = mini[?]\n",
        "#model_pred_holdout.to_csv('model_pred_holdout.csv', index=False)\n",
        "#model_pred_holdout\n"
      ],
      "execution_count": null,
      "outputs": []
    },
    {
      "cell_type": "markdown",
      "source": [
        "# Edit submitted workd\n"
      ],
      "metadata": {
        "id": "1JYaAladLgzG"
      }
    },
    {
      "cell_type": "code",
      "source": [],
      "metadata": {
        "id": "DLDsqtitLkwK"
      },
      "execution_count": null,
      "outputs": []
    },
    {
      "cell_type": "code",
      "source": [
        "import pandas as pd\n",
        "import numpy as np\n",
        "import matplotlib.pyplot as plt\n",
        "from sklearn.model_selection import train_test_split\n",
        "from sklearn.tree import DecisionTreeClassifier\n",
        "from sklearn.ensemble import RandomForestClassifier, GradientBoostingClassifier\n",
        "from sklearn.metrics import accuracy_score\n",
        "from sklearn.tree import plot_tree\n",
        "from sklearn.metrics import accuracy_score, precision_score, recall_score, f1_score, confusion_matrix\n",
        "import seaborn as sns\n",
        "import pickle\n",
        "campaign = pd.read_csv('https://raw.githubusercontent.com/byui-cse/cse450-course/master/data/bank.csv')\n"
      ],
      "metadata": {
        "id": "PPQ8cXqYL34d"
      },
      "execution_count": null,
      "outputs": []
    },
    {
      "cell_type": "code",
      "metadata": {
        "id": "NKXTQHjDL34g"
      },
      "source": [
        "#look at the file I read in\n",
        "campaign.head(3)"
      ],
      "execution_count": null,
      "outputs": []
    },
    {
      "cell_type": "code",
      "source": [
        "#What kind of data is in each column?\n",
        "# look at the columns to see about non null and types\n",
        "campaign.info()\n",
        "# no empty columns"
      ],
      "metadata": {
        "id": "tvI7KooFL34g"
      },
      "execution_count": null,
      "outputs": []
    },
    {
      "cell_type": "code",
      "source": [
        "# Do any of the columns have missing values? No missing values just NaN\n",
        "campaign.nunique()"
      ],
      "metadata": {
        "id": "46TNinFIL34h"
      },
      "execution_count": null,
      "outputs": []
    },
    {
      "cell_type": "code",
      "source": [
        "campaign.isna().sum()"
      ],
      "metadata": {
        "id": "Z2iUxzvbL34h"
      },
      "execution_count": null,
      "outputs": []
    },
    {
      "cell_type": "code",
      "source": [
        "# @title\n",
        "campaign.hist('age','y',)\n",
        "# looks like from 25 - 40 said yes and said no"
      ],
      "metadata": {
        "id": "phAcwWjeL34h"
      },
      "execution_count": null,
      "outputs": []
    },
    {
      "cell_type": "code",
      "source": [
        "campaign.hist('day_of_week','y')"
      ],
      "metadata": {
        "id": "T1Rgi-E9L34h"
      },
      "execution_count": null,
      "outputs": []
    },
    {
      "cell_type": "code",
      "metadata": {
        "id": "YZ00Sh-_L34h"
      },
      "source": [
        "# Data Processing\n",
        "import pandas as pd\n",
        "import numpy as np\n",
        "\n",
        "# Modeling\n",
        "import matplotlib.pyplot as plt\n",
        "from sklearn.model_selection import RandomizedSearchCV, train_test_split\n",
        "from sklearn.tree import DecisionTreeClassifier\n",
        "from sklearn.ensemble import RandomForestClassifier, GradientBoostingClassifier\n",
        "from sklearn.metrics import accuracy_score, confusion_matrix, precision_score, recall_score, ConfusionMatrixDisplay, f1_score\n",
        "from scipy.stats import randint\n",
        "import seaborn as sns\n",
        "\n",
        "# Tree Visualisation\n",
        "from sklearn.tree import plot_tree\n",
        "from sklearn.tree import export_graphviz\n",
        "from IPython.display import Image\n",
        "import graphviz\n",
        "\n",
        "campaign = pd.read_csv('https://raw.githubusercontent.com/byui-cse/cse450-course/master/data/bank.csv')\n",
        "\n",
        "# Transform catigorial data into numerical data\n",
        "campaign_numerical = pd.get_dummies(campaign, columns=['day_of_week', 'month', 'contact', 'housing', 'education', 'marital', 'job'])\n",
        "# Transform the target column into numerical data\n",
        "mapping = {'yes': 1, 'no': 0}\n",
        "campaign_numerical['y'] = campaign_numerical['y'].map(mapping)\n",
        "\n",
        "\n"
      ],
      "execution_count": null,
      "outputs": []
    },
    {
      "cell_type": "code",
      "source": [
        "# Split data into features and target\n",
        "features, target = campaign_numerical.drop(['default', 'pdays', 'loan', 'previous', 'euribor3m', 'nr.employed', 'housing_unknown', 'education_unknown', 'marital_unknown', 'job_unknown', 'y', 'poutcome'], axis=1), campaign_numerical['y']\n",
        "\n",
        "# Split training data and testing data feature x_train = features y = targets\n",
        "feature_train, feature_test, target_train, target_test = train_test_split(features, target, test_size=0.2, random_state=42)\n",
        "\n",
        "# Train the model\n",
        "model = RandomForestClassifier(max_depth = 2, random_state=42) # Accuracy: 0.88 | Precision: 0.70 | Recall: 0.62 | F1 Score: 0.65\n",
        "model.fit(feature_train, target_train)\n",
        "# Have the model make predictions\n",
        "model_pred = model.predict(feature_test)\n"
      ],
      "metadata": {
        "id": "c--yEkOOSoEJ"
      },
      "execution_count": null,
      "outputs": []
    },
    {
      "cell_type": "code",
      "source": [
        "# Feature Importance\n",
        "importances = model.feature_importances_\n",
        "# Get the list of feature names\n",
        "feature_names = features.columns.tolist()\n",
        "# Sort feature importances in descending order and get the indices\n",
        "indices = np.argsort(importances)[::-1]\n"
      ],
      "metadata": {
        "id": "RoxpTc7zNZ_R"
      },
      "execution_count": null,
      "outputs": []
    },
    {
      "cell_type": "code",
      "source": [
        "#save the model as pickle\n",
        "with open('model.pkl', 'wb') as file:\n",
        "    pickle.dump(model, file)\n",
        "# Metrics\n",
        "print(\"Accuracy:\", accuracy_score(target_test, model_pred))\n",
        "print(\"Precision:\", precision_score(target_test, model_pred, average='macro'))\n",
        "print(\"Recall:\", recall_score(target_test, model_pred, average='macro'))\n",
        "print(\"F1 Score:\", f1_score(target_test, model_pred, average='macro'))\n"
      ],
      "metadata": {
        "id": "WN9htPuNL34i"
      },
      "execution_count": null,
      "outputs": []
    },
    {
      "cell_type": "code",
      "source": [
        "for i in range(3):\n",
        "    tree = model.estimators_[i]\n",
        "    dot_data = export_graphviz(tree,\n",
        "                               feature_names=feature_train.columns,\n",
        "                               filled=True,\n",
        "                               max_depth=2,\n",
        "                               impurity=False,\n",
        "                               proportion=True)\n",
        "    graph = graphviz.Source(dot_data)\n",
        "    display(graph)"
      ],
      "metadata": {
        "id": "ew2t2nULTOsh"
      },
      "execution_count": null,
      "outputs": []
    },
    {
      "cell_type": "code",
      "source": [
        "import matplotlib.pyplot as plt\n",
        "from sklearn.datasets import load_iris\n",
        "from sklearn.datasets import load_breast_cancer\n",
        "from sklearn.tree import DecisionTreeClassifier\n",
        "from sklearn.ensemble import RandomForestClassifier\n",
        "from sklearn.model_selection import train_test_split\n",
        "import pandas as pd\n",
        "import numpy as np\n",
        "from sklearn import tree"
      ],
      "metadata": {
        "id": "nNBfBvNJN_51"
      },
      "execution_count": null,
      "outputs": []
    },
    {
      "cell_type": "code",
      "source": [
        "# Plot feature importances\n",
        "plt.figure(figsize=(20, 7))\n",
        "plt.title(\"Feature Importances\")\n",
        "plt.bar(range(features.shape[1]), importances[indices], align=\"center\")\n",
        "plt.xticks(range(features.shape[1]), np.array(feature_names)[indices], rotation=45)\n",
        "plt.xlim([-1, features.shape[1]])\n",
        "plt.tight_layout()\n",
        "plt.show()\n",
        "# Generate the confusion matrix\n",
        "c_matrix = confusion_matrix(target_test, model_pred)\n",
        "# displays a text confusion matrix\n",
        "print(c_matrix)\n",
        "# If you want to visualize the confusion matrix\n",
        "plt.figure(figsize=(10,7))\n",
        "sns.heatmap(c_matrix, annot=True, cmap='Blues', fmt='g')\n",
        "plt.xlabel('Predicted')\n",
        "plt.ylabel('Actual')\n",
        "plt.show()"
      ],
      "metadata": {
        "id": "jJxvoRQdNoS3"
      },
      "execution_count": null,
      "outputs": []
    },
    {
      "cell_type": "code",
      "source": [
        "import pickle # this is another way to do this without having open in the code above\n",
        "# loads from a string\n",
        "s = pickle.dumps(model)\n",
        "clf2 = pickle.loads(s)"
      ],
      "metadata": {
        "id": "Dhi2DZmKL34i"
      },
      "execution_count": null,
      "outputs": []
    },
    {
      "cell_type": "code",
      "metadata": {
        "id": "-fBAakqzL34i"
      },
      "source": [
        "\n",
        "# assesing model's performance with the mini holdout set\n",
        "mini = pd.read_csv('https://raw.githubusercontent.com/byui-cse/cse450-course/master/data/bank_holdout_test_mini.csv')\n",
        "column_order = features.columns.tolist()\n",
        "mini = pd.DataFrame(mini)\n",
        "\n",
        "mini_encoded = pd.get_dummies(mini, columns=['day_of_week', 'month', 'contact', 'housing', 'education', 'marital', 'job'])\n",
        "mini_encoded = mini_encoded.drop(['default', 'pdays', 'loan', 'previous', 'euribor3m', 'nr.employed', 'housing_unknown', 'education_unknown', 'marital_unknown', 'job_unknown', 'poutcome'], axis=1)\n",
        "mini_encoded = mini_encoded[column_order]\n",
        "mapping = {'yes': 1, 'no': 0}\n",
        "#mini_encoded.info()\n",
        "#features.info()\n"
      ],
      "execution_count": null,
      "outputs": []
    },
    {
      "cell_type": "code",
      "source": [
        "# formatting mini holdout to match the format of the dataframe our model was trained on\n",
        "# creating a copy of our campaign dataframe, encoding categorical features\n",
        "model_pred_holdout = model.predict(mini_encoded)\n",
        "model_pred_holdout = pd.DataFrame(model_pred_holdout)\n",
        "# no y feature column to let us know if the predictions are correct or not in the holdout set\n",
        "#mini_holdout_ground_truth = mini[?]\n",
        "model_pred_holdout.rename(columns={0:'predictions' }, inplace=True)\n",
        "model_pred_holdout.to_csv('model_pred_holdout.csv', index=False)\n",
        "model_pred_holdout\n",
        "\n",
        "#print(\"Accuracy:\", accuracy_score(model_pred_holdout))\n",
        "#print(f\"Mini Holdout Accuracy: {accuracy:.2f}\")"
      ],
      "metadata": {
        "id": "RTnGJcJZL34i"
      },
      "execution_count": null,
      "outputs": []
    },
    {
      "cell_type": "code",
      "source": [
        "from pathlib import Path # double work not needed but this is another way\n",
        "filepath = Path('out.csv')\n",
        "filepath.parent.mkdir(exist_ok=True)\n",
        "\n",
        "predict = clf2.predict(mini_encoded)\n",
        "df = pd.DataFrame(predict, columns=[\"predictions\"])\n",
        "\n",
        "df.to_csv(filepath, index=False)"
      ],
      "metadata": {
        "id": "4gCyMP7XL34j"
      },
      "execution_count": null,
      "outputs": []
    },
    {
      "cell_type": "code",
      "metadata": {
        "id": "wcnFKf8_L34j"
      },
      "source": [
        "with open('/content/model.pkl', 'rb') as file:\n",
        "    loaded_model = pickle.load(file)\n",
        "predictions = loaded_model.predict(mini_encoded)\n",
        "df = pd.DataFrame(predictions, columns=[\"predictions\"])\n",
        "\n",
        "df.to_csv(filepath, index=False)\n",
        "\n",
        "#model_pred_holdout = pd.DataFrame(model_pred_holdout)\n",
        "# no y feature column to let us know if the predictions are correct or not in the holdout set\n",
        "#mini_holdout_ground_truth = mini[?]\n",
        "#model_pred_holdout.to_csv('model_pred_holdout.csv', index=False)\n",
        "#model_pred_holdout\n"
      ],
      "execution_count": null,
      "outputs": []
    },
    {
      "cell_type": "markdown",
      "source": [
        "# teachers Testing\n"
      ],
      "metadata": {
        "id": "LnK087xtCCjA"
      }
    },
    {
      "cell_type": "markdown",
      "metadata": {
        "id": "dYY_wyUQuxmS"
      },
      "source": [
        "Prep work:\n",
        "\n",
        "*   Download team csv predictions file\n",
        "*   Rename files to team8-module2-predictions.csv where team8 is the name of your team\n",
        "*   Make sure file is one column and remove any extra columns\n",
        "*   Make sure the heading is set to \"predictions\" (without quotes)\n",
        "*   Upload csv predictions to session storage area.\n",
        "    *     Click the folder icon, then click the upload icon (paper with an upward arrow)\n",
        "*   Run the notebook (Runtime -> Run all)\n",
        "\n",
        "\n",
        "\n",
        "\n"
      ]
    },
    {
      "cell_type": "code",
      "execution_count": null,
      "metadata": {
        "id": "ZeZMLW3ytz01"
      },
      "outputs": [],
      "source": [
        "# MODULE 02 - BANK HOLDOUT GRADING\n",
        "\n",
        "from pathlib import Path\n",
        "import pandas as pd\n",
        "import seaborn as sns\n",
        "import matplotlib.pyplot as plt\n",
        "import numpy as np\n",
        "from sklearn.metrics import confusion_matrix\n",
        "\n",
        "blue_score = 650\n",
        "orange_score = 300\n",
        "\n",
        "# READ IN THE CSV FILES\n",
        "team_dir = Path(\"./\")\n",
        "teams = team_dir.glob(\"*-predictions.csv\")\n",
        "team_list = []\n",
        "for team in teams:\n",
        "  # print(latent_file)\n",
        "  team_list.append((str(team).split(\"-\",1)[0],team))\n",
        "\n",
        "# print(team_list)"
      ]
    },
    {
      "cell_type": "code",
      "execution_count": null,
      "metadata": {
        "id": "HhWSijWbvqMW"
      },
      "outputs": [],
      "source": [
        "# READ IN THE MINI HOLDOUT ANSWERS\n",
        "targets_file = \"https://raw.githubusercontent.com/byui-cse/cse450-course/master/data/bank_holdout_test_mini_answers.csv\"\n",
        "targets = pd.read_csv(targets_file)\n",
        "# targets"
      ]
    },
    {
      "cell_type": "code",
      "execution_count": null,
      "metadata": {
        "id": "gSHn-_3f0eqx"
      },
      "outputs": [],
      "source": [
        "# ARE THE STUDENT DATASETS THE CORRECT LENGTH\n",
        "student_datasets = {}\n",
        "for (group, file) in team_list:\n",
        "  ds = pd.read_csv(file)\n",
        "\n",
        "  if len(ds) != len(targets):\n",
        "    print(f\"Error group {group} ds had {len(ds)} rows instead of the expected {len(targets)}. It will be excluded.\")\n",
        "  else:\n",
        "    student_datasets[group] = ds\n",
        "    print(f\"Group {group} added successfully\")"
      ]
    },
    {
      "cell_type": "code",
      "execution_count": null,
      "metadata": {
        "id": "9sBeLEAl1OXi"
      },
      "outputs": [],
      "source": [
        "# student_datasets"
      ]
    },
    {
      "cell_type": "code",
      "execution_count": null,
      "metadata": {
        "id": "jT2EIFkK-z9c"
      },
      "outputs": [],
      "source": [
        "def recommended_grade(amount):\n",
        "  '''\n",
        "  A simple min max scaler to identify a recommended score for the holdout set\n",
        "  '''\n",
        "  min_allowed = orange_score\n",
        "  max_allowed = blue_score\n",
        "  if amount>max_allowed:\n",
        "    return 100\n",
        "  elif amount<min_allowed:\n",
        "    return 0\n",
        "  else:\n",
        "    return (amount - min_allowed) / (max_allowed - min_allowed)*100\n"
      ]
    },
    {
      "cell_type": "code",
      "execution_count": null,
      "metadata": {
        "id": "I6TFZng56xoL"
      },
      "outputs": [],
      "source": [
        "def value_of_calls(incorrect_calls, correct_calls):\n",
        "  '''\n",
        "  This function is based on assumptions about bank employee wages, time requirements,\n",
        "  average savings amounts, and net interest margin. Wages, average savings, and net interest margin,\n",
        "  were pulled from the time range of the dataset. Assumptions were made about time on call and the\n",
        "  percentage of a person's total savings they'd be willing to put into a term deposit.\n",
        "  '''\n",
        "  time_on_call = .5\n",
        "  wage = -11 # minimum wage is 6.50 and typicall teller wage is 11\n",
        "  call_cost = wage*time_on_call\n",
        "  average_savings = 4960\n",
        "  percent_in_term_deposit = .75\n",
        "  net_interest_margin = .012\n",
        "  positive_call_benefit = average_savings*percent_in_term_deposit*net_interest_margin\n",
        "  total_earned = incorrect_calls*call_cost + correct_calls*call_cost + correct_calls*positive_call_benefit\n",
        "  return total_earned\n"
      ]
    },
    {
      "cell_type": "code",
      "execution_count": null,
      "metadata": {
        "id": "LhxXUH3d2Lqy"
      },
      "outputs": [],
      "source": [
        "results_dict = {}"
      ]
    },
    {
      "cell_type": "code",
      "execution_count": null,
      "metadata": {
        "id": "mS0t9a551Pbw"
      },
      "outputs": [],
      "source": [
        "for group, student_ds in student_datasets.items():\n",
        "  student_dict = {}\n",
        "  cm = confusion_matrix(student_ds, targets)\n",
        "  # print(group,cm)\n",
        "  student_dict[\"Incorrect Calls\"] = cm[1][0]\n",
        "  student_dict[\"Correct Calls\"] = cm[1][1]\n",
        "  student_dict[\"Value of Calls\"] = value_of_calls(cm[1][0],cm[1][1])\n",
        "  student_dict[\"Estimated Grade\"] = recommended_grade(student_dict['Value of Calls'])\n",
        "\n",
        "  results_dict[group] = student_dict"
      ]
    },
    {
      "cell_type": "code",
      "execution_count": null,
      "metadata": {
        "id": "TOe4NUIX36KP"
      },
      "outputs": [],
      "source": [
        "# results_dict"
      ]
    },
    {
      "cell_type": "code",
      "execution_count": null,
      "metadata": {
        "id": "DfrNcraU2VwJ"
      },
      "outputs": [],
      "source": [
        "results_df = pd.DataFrame(results_dict)\n",
        "results_ds_trans = results_df.transpose()\n",
        "results_ds_trans = results_ds_trans.drop(columns=[\"Estimated Grade\"])\n",
        "results_ds_trans = results_ds_trans.round(2)\n",
        "results_ds_trans = results_ds_trans.sort_values(by=\"Value of Calls\",ascending=False)\n",
        "# results_ds_trans.to_csv(\"class_results.csv\")\n",
        "# results_ds_trans"
      ]
    },
    {
      "cell_type": "code",
      "execution_count": null,
      "metadata": {
        "id": "D3fwfvsg9K3D"
      },
      "outputs": [],
      "source": [
        "# GENERATE GRAPHICS FOR TEAMS\n",
        "# THESE CAN BE SHARED WITH THE STUDENTS\n",
        "\n",
        "graph = sns.barplot(data=results_ds_trans,y=\"Value of Calls\",x=results_ds_trans.index)\n",
        "graph.set_title(\"Amount Earned by Team\")\n",
        "graph.axhline(blue_score)\n",
        "for bar in graph.patches:\n",
        "    if bar.get_height() > blue_score:\n",
        "        bar.set_color('tab:blue')\n",
        "    elif bar.get_height() <0:\n",
        "      bar.set_color('tab:red')\n",
        "    elif bar.get_height() < orange_score:\n",
        "      bar.set_color('tab:orange')\n",
        "    else:\n",
        "        bar.set_color('tab:grey')\n",
        "#The plot is shown\n",
        "plt.show()\n",
        "results_ds_trans"
      ]
    },
    {
      "cell_type": "code",
      "source": [],
      "metadata": {
        "id": "KDG60byJCBpB"
      },
      "execution_count": null,
      "outputs": []
    }
  ]
}